{
 "cells": [
  {
   "cell_type": "markdown",
   "id": "da659b65-bfba-4728-81bd-28cfc0d8eb33",
   "metadata": {},
   "source": [
    "# Q1. What is an Exception in python? Write the difference etween Exceptions and Syntax errors\n",
    "\n",
    "In Python, an exception is an event or condition that occurs during the execution of a program that disrupts the normal flow of the program. When an exception occurs, the normal execution of the program is interrupted, and the control is transferred to a special block of code called an exception handler. The exception handler can catch and handle the exception, allowing the program to handle errors and continue execution or perform necessary actions.\n",
    "\n",
    "<u>Difference between Exceptions and Syntax Errors:</u>\n",
    "\n",
    "- Syntax errors occur when there are violations in the syntax rules of the programming language. They are usually detected by the Python interpreter during the parsing phase before the program is executed(Compile-Time). Exceptions, on the other hand, occur during the execution of a program when an error or unexpected condition arises(Runtime).\n",
    "\n",
    "-  Syntax errors need to be fixed by correcting the syntax in the code. Once the syntax errors are resolved, the program can be executed. Exceptions, on the other hand, can be caught and handled using exception handling mechanisms such as try-except blocks. This allows the program to handle the exception gracefully and continue executing without terminating abruptly.\n",
    "\n",
    "-  Syntax errors can include misspelled keywords, missing colons, incorrect indentation, or improper use of operators. Examples of exceptions include ZeroDivisionError when dividing by zero, TypeError when performing incompatible operations on data types, or FileNotFoundError when trying to access a file that does not exist."
   ]
  },
  {
   "cell_type": "markdown",
   "id": "9d2917bf-1443-4817-9360-4b33cea3c5ba",
   "metadata": {},
   "source": [
    "# Q2. What happens when an exception is not handled? Explain with an example\n",
    "\n",
    "When an exception is not handled in Python, it leads to an unhandled exception error, which causes the program to terminate abruptly. The default behavior of Python when an exception is not caught and handled is to display an error message traceback, indicating the type of exception that occurred and the line of code where the exception was raised. After displaying the traceback, the program execution is halted.\n"
   ]
  },
  {
   "cell_type": "code",
   "execution_count": 1,
   "id": "78453c48-1e3d-48ca-badd-3429c769afce",
   "metadata": {},
   "outputs": [
    {
     "ename": "ZeroDivisionError",
     "evalue": "division by zero",
     "output_type": "error",
     "traceback": [
      "\u001b[0;31m---------------------------------------------------------------------------\u001b[0m",
      "\u001b[0;31mZeroDivisionError\u001b[0m                         Traceback (most recent call last)",
      "Cell \u001b[0;32mIn[1], line 1\u001b[0m\n\u001b[0;32m----> 1\u001b[0m \u001b[38;5;241;43m10\u001b[39;49m\u001b[38;5;241;43m/\u001b[39;49m\u001b[38;5;241;43m0\u001b[39;49m\n",
      "\u001b[0;31mZeroDivisionError\u001b[0m: division by zero"
     ]
    }
   ],
   "source": [
    "10/0"
   ]
  },
  {
   "cell_type": "markdown",
   "id": "3185a1cd-c731-4eb3-8939-6721a02d1499",
   "metadata": {},
   "source": [
    "# Q3. Which Python statements are used to catch and handle exceptions? Explain with an \n",
    "\n",
    "In Python, the try and except statements are used to catch and handle exceptions. The try block is used to enclose the code that might raise an exception, and the except block is used to specify the exception(s) to catch and handle.\n"
   ]
  },
  {
   "cell_type": "code",
   "execution_count": 1,
   "id": "ccf75adc-8e6a-496b-880e-26759ba279b3",
   "metadata": {},
   "outputs": [
    {
     "name": "stdout",
     "output_type": "stream",
     "text": [
      "division by zero\n"
     ]
    }
   ],
   "source": [
    "try:\n",
    "    10/0\n",
    "except ZeroDivisionError as e:\n",
    "    print(e)"
   ]
  },
  {
   "cell_type": "markdown",
   "id": "431e32dc-5c0f-4ff1-9f3c-a4a548de3cb5",
   "metadata": {},
   "source": [
    "# Q4. Explin with an example:\n",
    "\n",
    "- <b><u>try and else:</u></b> In Python, the try-except-else statement is used to catch and handle exceptions, but also to specify a block of code that should only run when no exceptions are raised. The else block is optional and executes when the try block completes successfully without any exceptions."
   ]
  },
  {
   "cell_type": "code",
   "execution_count": 2,
   "id": "1785e724-b604-48be-94e5-4155fc0c5318",
   "metadata": {},
   "outputs": [
    {
     "name": "stdout",
     "output_type": "stream",
     "text": [
      "No exception occured\n"
     ]
    }
   ],
   "source": [
    "try:\n",
    "    a=5\n",
    "    b=2\n",
    "    a/b\n",
    "except ZeroDivisionError as e:\n",
    "    print(e)\n",
    "else:\n",
    "    print('No exception occured')"
   ]
  },
  {
   "cell_type": "markdown",
   "id": "6ed24758-db39-4101-909e-265c73e3b14a",
   "metadata": {},
   "source": [
    "- <b><u>finally:</u></b> Ihe finally block is an optional block of code that can be used in conjunction with the try-except-else statement to specify a piece of code that should always be executed, regardless of whether an exception is raised or not."
   ]
  },
  {
   "cell_type": "code",
   "execution_count": 3,
   "id": "64f98e49-be8b-4181-a3c1-3090388dcadc",
   "metadata": {},
   "outputs": [
    {
     "name": "stdout",
     "output_type": "stream",
     "text": [
      "division by zero\n",
      "This will execute regardless of exception occured or not\n"
     ]
    }
   ],
   "source": [
    "try:\n",
    "    a=5\n",
    "    b=0\n",
    "    a/b\n",
    "except ZeroDivisionError as e:\n",
    "    print(e)\n",
    "finally:\n",
    "    print('This will execute regardless of exception occured or not')"
   ]
  },
  {
   "cell_type": "markdown",
   "id": "28f29495-c239-4306-bfde-d5b60b6f7d51",
   "metadata": {},
   "source": [
    "- <b><u>raise:</u></b> In Python, the raise statement is used to explicitly raise an exception. It allows you to generate and raise your own exceptions in the code when a specific condition is met or when you want to handle an exceptional situation."
   ]
  },
  {
   "cell_type": "code",
   "execution_count": 7,
   "id": "5fa81ee5-f28b-47ed-a2eb-47fb4d95fb2f",
   "metadata": {},
   "outputs": [
    {
     "ename": "ValueError",
     "evalue": "Age cannot be negative",
     "output_type": "error",
     "traceback": [
      "\u001b[0;31m---------------------------------------------------------------------------\u001b[0m",
      "\u001b[0;31mValueError\u001b[0m                                Traceback (most recent call last)",
      "Cell \u001b[0;32mIn[7], line 3\u001b[0m\n\u001b[1;32m      1\u001b[0m age\u001b[38;5;241m=\u001b[39m\u001b[38;5;241m-\u001b[39m\u001b[38;5;241m1\u001b[39m\n\u001b[1;32m      2\u001b[0m \u001b[38;5;28;01mif\u001b[39;00m age\u001b[38;5;241m<\u001b[39m\u001b[38;5;241m0\u001b[39m:\n\u001b[0;32m----> 3\u001b[0m     \u001b[38;5;28;01mraise\u001b[39;00m \u001b[38;5;167;01mValueError\u001b[39;00m(\u001b[38;5;124m'\u001b[39m\u001b[38;5;124mAge cannot be negative\u001b[39m\u001b[38;5;124m'\u001b[39m)\n",
      "\u001b[0;31mValueError\u001b[0m: Age cannot be negative"
     ]
    }
   ],
   "source": [
    "age=-1\n",
    "if age<0:\n",
    "    raise ValueError('Age cannot be negative')"
   ]
  },
  {
   "cell_type": "markdown",
   "id": "5f9cb92c-fc1c-49e9-aafc-cb6d6c9938a0",
   "metadata": {},
   "source": [
    "# Q5. What are Custom Exceptions in python? Why do we need Custom Exceptions? Explain with an example\n",
    "Custom exceptions in Python are user-defined exception classes that extend the built-in Exception class or its subclasses. They are created to represent specific exceptional situations that may occur in a program. Custom exceptions provide a way to handle and communicate exceptional conditions that are not covered by the built-in exceptions.\n",
    "\n",
    "Custom exceptions allow us to define and handle specific exceptional situations that are relevant to our program. By creating custom exception classes, we can provide more descriptive and meaningful error messages tailored to our application's domain."
   ]
  },
  {
   "cell_type": "code",
   "execution_count": 21,
   "id": "212f40a1-838f-4212-b63f-15a79a6b8bfa",
   "metadata": {},
   "outputs": [
    {
     "name": "stdout",
     "output_type": "stream",
     "text": [
      "balance cannot be negative\n"
     ]
    }
   ],
   "source": [
    "class MyException(Exception):\n",
    "    def __init__(self,msg):\n",
    "        self.msg = msg\n",
    "\n",
    "def validateBalance(bal):\n",
    "    if type(bal) not in [int,float]:\n",
    "        raise MyException('balance must be a number')\n",
    "    elif bal < 0:\n",
    "        raise MyException('balance cannot be negative')\n",
    "\n",
    "        \n",
    "try:\n",
    "    bal = -123\n",
    "    validateBalance(bal)\n",
    "except MyException as e:\n",
    "    print(e)"
   ]
  },
  {
   "cell_type": "markdown",
   "id": "a360f570-6ee7-4048-b05f-fd338675e3d1",
   "metadata": {},
   "source": [
    "# Q6. Create a custom exception class. Use this class to handle an exception."
   ]
  },
  {
   "cell_type": "code",
   "execution_count": 22,
   "id": "90705b83-0fa6-4a68-b188-10ad7225c660",
   "metadata": {},
   "outputs": [
    {
     "name": "stdout",
     "output_type": "stream",
     "text": [
      "Error: Insufficient funds to withdraw\n"
     ]
    }
   ],
   "source": [
    "class InsufficientFundsError(Exception):\n",
    "    pass\n",
    "\n",
    "class BankAccount:\n",
    "    def __init__(self, balance):\n",
    "        self.balance = balance\n",
    "    \n",
    "    def withdraw(self, amount):\n",
    "        if amount > self.balance:\n",
    "            raise InsufficientFundsError(\"Insufficient funds to withdraw\")\n",
    "        self.balance -= amount\n",
    "\n",
    "account = BankAccount(1000)\n",
    "\n",
    "try:\n",
    "    account.withdraw(1500)\n",
    "except InsufficientFundsError as error:\n",
    "    print(\"Error:\", str(error))"
   ]
  },
  {
   "cell_type": "code",
   "execution_count": null,
   "id": "1041428e-dccb-4f70-aa83-7de423fa0623",
   "metadata": {},
   "outputs": [],
   "source": []
  }
 ],
 "metadata": {
  "kernelspec": {
   "display_name": "Python 3 (ipykernel)",
   "language": "python",
   "name": "python3"
  },
  "language_info": {
   "codemirror_mode": {
    "name": "ipython",
    "version": 3
   },
   "file_extension": ".py",
   "mimetype": "text/x-python",
   "name": "python",
   "nbconvert_exporter": "python",
   "pygments_lexer": "ipython3",
   "version": "3.10.8"
  }
 },
 "nbformat": 4,
 "nbformat_minor": 5
}
