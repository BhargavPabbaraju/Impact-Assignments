{
 "cells": [
  {
   "cell_type": "markdown",
   "id": "55a9e0d6-d259-4105-9238-f007fb932bad",
   "metadata": {},
   "source": [
    "# Q1. What is multithreading in python? Why is it used? Name the module used to handle threads in python\n",
    "\n",
    "Multithreading in Python refers to the concurrent execution of multiple threads within a single process. A thread is a lightweight unit of execution that can perform tasks independently. Multithreading is used to achieve concurrency, allowing different parts of a program to run simultaneously.\n",
    "\n",
    "It is especially useful for I/O-bound tasks, where threads can perform I/O operations concurrently while waiting for input/output from external sources.\n",
    "\n",
    "The module used to handle threads in Python is called <b>\"threading\".</b>"
   ]
  },
  {
   "cell_type": "markdown",
   "id": "69ce9ac7-0eea-4ad2-9b9b-8480f393215c",
   "metadata": {},
   "source": [
    "# Q2. Why threading module used? Write the use of the following functions:\n",
    "\n",
    "The \"threading\" module in Python is used to handle threads and provides classes and functions to create, manage, and synchronize threads within a program.\n",
    "\n",
    "- <b><u>activeCount:</u></b> The activeCount() function is used to return the number of Thread objects currently alive and executing in the program.This function is helpful for monitoring and managing the concurrency of threads within a program.\n",
    "\n",
    "- <b><u>currentThread():</u></b> The currentThread() function is used to return the current Thread object corresponding to the caller's thread of execution.It allows you to obtain a reference to the currently executing thread, which can be useful for various purposes, such as accessing thread-specific data or managing the thread's behavior.\n",
    "\n",
    "- <b><u>enumerate():</u></b> The enumerate() function is used to return a list of all currently active Thread objects.The returned list can be iterated over to access information or perform operations on individual threads, such as joining, terminating, or modifying their behavior"
   ]
  },
  {
   "cell_type": "markdown",
   "id": "ce822a68-fde7-41dc-9dae-0dcce0c8598b",
   "metadata": {},
   "source": [
    "# Q3. Explain the following functions:\n",
    "\n",
    "- <b><u>run():</u></b> The run() function is not directly called by the user. Instead, it is meant to be overridden in a subclass of the Thread class.When a Thread object's start() method is called, it internally calls the run() method of that thread.\n",
    "\n",
    "- <b><u>start():</u></b> The start() function is used to start the execution of a Thread object. When start() is called on a Thread instance, it triggers the creation of a new thread of execution and invokes the run() method of that thread.\n",
    "\n",
    "- <b><u>join():</u></b> The join() function is used to wait for a thread to complete its execution.This function is commonly used when you want to ensure that all threads complete their tasks before the main program continues or when you need to synchronize the execution of multiple threads.\n",
    "\n",
    "- <b><u>isAlive():</u></b> The isAlive() function is used to check whether a thread is currently alive and executing.This function is helpful to check the status of a thread and make decisions based on its execution state. For example, it can be used to determine if a thread has finished its task before performing certain actions."
   ]
  },
  {
   "cell_type": "markdown",
   "id": "a1574d80-8807-4168-b64f-997ef496741e",
   "metadata": {},
   "source": [
    "# Q4. Write a python program to create two threads. Thread one must print the list of squares and thread two must print the list of cubes"
   ]
  },
  {
   "cell_type": "code",
   "execution_count": 4,
   "id": "42372a41-ec1d-472a-a1dd-6289cd52950b",
   "metadata": {},
   "outputs": [
    {
     "name": "stdout",
     "output_type": "stream",
     "text": [
      "[1, 4, 9, 16]\n",
      "[1, 8, 27, 64]\n"
     ]
    }
   ],
   "source": [
    "import threading \n",
    "\n",
    "def square(a):\n",
    "    print([i**2 for i in a]) \n",
    "\n",
    "def cube(a):\n",
    "    print([i**3 for i in a])\n",
    "    \n",
    "    \n",
    "thread = [threading.Thread(target=square,args=([1,2,3,4],)),threading.Thread(target=cube,args=([1,2,3,4],))]\n",
    "\n",
    "for t in thread:\n",
    "    t.start()\n",
    "                                                                            "
   ]
  },
  {
   "cell_type": "markdown",
   "id": "93b188d6-90d2-4710-b73c-3de3ae525d9a",
   "metadata": {},
   "source": [
    "# Q5. State advantages and disadvantages of multithreading\n",
    "\n",
    "### Advantages\n",
    "\n",
    "- Responsiveness: Multithreading allows a program to remain responsive even when performing time-consuming tasks. By executing tasks concurrently in separate threads, the main thread can continue to respond to user input or handle other operations without being blocked.\n",
    "\n",
    "- Resource Sharing: Threads within a program share the same memory space, making it easier to share data and resources between them. This allows for efficient communication and coordination between different parts of the program.\n",
    "\n",
    "- Improved Performance: Multithreading can lead to improved performance, especially in scenarios where tasks can be executed concurrently. It enables better utilization of available system resources, such as multiple CPU cores, and can result in faster execution times.\n",
    "\n",
    "- Enhanced Parallelism: Although the Global Interpreter Lock (GIL) in Python restricts true parallelism, multithreading can still provide benefits in certain situations, such as I/O-bound tasks. Threads can perform I/O operations concurrently while waiting for input/output from external sources, leading to increased efficiency.\n",
    "\n",
    "\n",
    "### Disadvantages\n",
    "\n",
    "- Complexity: Multithreading introduces complexity to programming due to issues related to synchronization, race conditions, and thread safety. Managing shared resources and ensuring proper synchronization can be challenging and prone to errors like deadlocks or data corruption.\n",
    "\n",
    "- Debugging and Testing: Debugging multithreaded programs can be more difficult than single-threaded programs. Reproducing and diagnosing issues that arise from thread interactions and synchronization problems can be time-consuming.\n",
    "\n",
    "- Overhead: Creating and managing threads incurs overhead in terms of memory and system resources. The overhead includes the memory required for thread stacks, context switching between threads, and coordination mechanisms like locks or semaphores.\n",
    "\n",
    "- Scalability Limitations: Multithreading may not always lead to linear scalability. As the number of threads increases, contention for shared resources and synchronization mechanisms can introduce bottlenecks and limit scalability. Careful design and consideration are required to ensure optimal performance in highly parallel environments."
   ]
  },
  {
   "cell_type": "markdown",
   "id": "d10702cd-3b59-48c2-b7f1-e9cd7b806e77",
   "metadata": {
    "tags": []
   },
   "source": [
    "# Q6. Explain deadlocks and race conditions.\n",
    "\n",
    "### Deadlocks:\n",
    "\n",
    "A deadlock occurs when two or more threads or processes are waiting indefinitely for each other to release resources, resulting in a state of blocked execution. In a deadlock situation, none of the involved threads or processes can proceed, leading to a system freeze or unresponsiveness.Resolving deadlocks involves breaking one or more of these deadlock conditions, such as implementing resource preemption or using appropriate synchronization mechanisms to ensure deadlock-free execution.\n",
    "\n",
    "### Race Conditions: \n",
    "\n",
    "A race condition occurs when the behavior of a program depends on the relative timing or interleaving of multiple threads or processes accessing shared resources or variables. In other words, the outcome of the program becomes unpredictable and depends on the \"race\" between the threads.Race conditions arise due to the lack of proper synchronization mechanisms or coordination between threads or processes. When multiple threads access and modify shared resources concurrently without proper synchronization, the order of execution can lead to unexpected results, such as incorrect calculations, data corruption, or program crashes.Race conditions can be problematic to identify and reproduce, as they depend on specific timing and interleaving of threads. They require careful handling and synchronization techniques, such as locks, semaphores, or atomic operations, to ensure proper coordination and avoid data inconsistencies. To prevent race conditions, synchronization mechanisms should be used to enforce mutual exclusion and ensure that only one thread can access or modify shared resources at a time. This helps maintain the integrity and consistency of shared data. Both deadlocks and race conditions are critical issues that can affect the correctness, reliability, and performance of concurrent programs. Proper understanding of these problems and careful synchronization and coordination among threads or processes are essential to ensure safe and reliable concurrent execution.\n",
    "\n",
    "\n",
    "\n",
    "\n",
    "\n"
   ]
  },
  {
   "cell_type": "code",
   "execution_count": null,
   "id": "f8d247f0-96d7-4fe7-9737-59d0a4ec2f14",
   "metadata": {},
   "outputs": [],
   "source": []
  }
 ],
 "metadata": {
  "kernelspec": {
   "display_name": "Python 3 (ipykernel)",
   "language": "python",
   "name": "python3"
  },
  "language_info": {
   "codemirror_mode": {
    "name": "ipython",
    "version": 3
   },
   "file_extension": ".py",
   "mimetype": "text/x-python",
   "name": "python",
   "nbconvert_exporter": "python",
   "pygments_lexer": "ipython3",
   "version": "3.10.8"
  }
 },
 "nbformat": 4,
 "nbformat_minor": 5
}
