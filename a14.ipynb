{
 "cells": [
  {
   "cell_type": "markdown",
   "metadata": {},
   "source": [
    "# Q1. What is Flask Framework? What are the advantages of Flask Framework?\n",
    "Flask is a web framework for Python that allows you to build web applications quickly and easily. It is a lightweight framework that follows the microservices architecture, meaning it provides only the essential tools needed to create a web application without imposing any strict structure or dependencies.\n",
    "\n",
    "Advantages of Flask Framework:\n",
    "\n",
    "1. Simplicity: Flask is known for its simplicity and ease of use. It has a small learning curve and allows developers to quickly get started with building web applications. It provides a minimalistic and straightforward syntax that makes it easy to understand and work with.\n",
    "\n",
    "2. Flexibility: Flask offers great flexibility, allowing developers to customize and tailor their applications according to their specific requirements. It does not enforce any particular project structure or dictate the use of specific libraries or tools, giving developers the freedom to choose the components they prefer.\n",
    "\n",
    "3. Lightweight: Flask is designed to be lightweight and has minimal dependencies. It does not require a large overhead or impose unnecessary complexity. This makes it suitable for small to medium-sized projects and reduces the time and effort required for setup and maintenance.\n",
    "\n",
    "4. Extensibility: Flask provides a modular design that allows developers to easily extend its functionality by integrating various third-party extensions. There is a wide range of Flask extensions available for adding features such as authentication, database integration, form handling, and more.\n",
    "\n",
    "5. Testing Support: Flask has built-in support for unit testing, which makes it easier to write and execute tests for your web applications. It provides a test client that allows you to simulate requests and responses, making it convenient to write test cases and ensure the correctness of your application's behavior.\n",
    "\n",
    "6. Large Community and Active Development: Flask has a vibrant and active community of developers who contribute to its development, create extensions, and provide support. This means you can find a wealth of resources, tutorials, and documentation to help you with your Flask projects.\n",
    "\n",
    "7. Integration with Other Libraries and Tools: Flask seamlessly integrates with other Python libraries and tools, making it compatible with a wide range of technologies and allowing developers to leverage existing libraries for specific functionalities.\n",
    "\n"
   ]
  },
  {
   "cell_type": "markdown",
   "metadata": {},
   "source": [
    "# Q2. Create a simple Flask application to display ‘Hello World!!’. Attach the screenshot of the output in Jupyter Notebook."
   ]
  },
  {
   "cell_type": "code",
   "execution_count": null,
   "metadata": {},
   "outputs": [],
   "source": [
    "from flask import Flask\n",
    "\n",
    "app = Flask(__name__)\n",
    "\n",
    "@app.route(\"/\")\n",
    "def hello_world():\n",
    "    return \"<h1>Hello, World!</h1>\"\n",
    "\n",
    "if __name__==\"__main__\":\n",
    "    app.run(host=\"0.0.0.0\")\n"
   ]
  },
  {
   "cell_type": "markdown",
   "metadata": {},
   "source": [
    "![SS1](ss1.png)"
   ]
  },
  {
   "cell_type": "markdown",
   "metadata": {},
   "source": [
    "# Q3. What is App routing in Flask? Why do we use app routes?\n",
    "In Flask, app routing refers to the process of defining URL routes or endpoints that map to specific functions or views in your application. These routes determine how the application responds to different HTTP requests from clients.\n",
    "\n",
    "When a client sends an HTTP request to a specific URL, Flask's routing system matches the URL to the defined routes in your application. Once a match is found, the associated function or view is executed, and the appropriate response is returned to the client.\n",
    "\n",
    "App routes are used for several purposes in Flask:\n",
    "\n",
    "1. Handling Different URL Paths: App routes allow you to define how your application responds to different URL paths. For example, you can define routes for the homepage (\"/\"), login (\"/login\"), registration (\"/register\"), or any other specific URL pattern relevant to your application.\n",
    "\n",
    "2. Handling Different HTTP Methods: App routes also help in handling different HTTP methods such as GET, POST, PUT, DELETE, etc. You can specify which methods a route should respond to, and define separate functions or views for each method. This allows you to handle different types of requests and perform appropriate actions based on the HTTP method.\n",
    "\n",
    "3. Separating Concerns: By using app routes, you can separate different functionalities or views into their respective routes and functions. This helps in organizing your code and maintaining a modular structure. Each route can be responsible for a specific task or feature of your application, making it easier to manage and maintain.\n",
    "\n",
    "4. URL Building: Flask's app routes also provide URL building capabilities. Instead of hard-coding URLs in your templates or application code, you can use the url_for() function to generate URLs dynamically based on the defined routes. This allows you to ensure consistent and reliable URLs throughout your application.\n",
    "\n",
    "5. Parameterized URLs: App routes in Flask support parameterized URLs, also known as dynamic routes. You can define routes with variable parts, which can be accessed as arguments in the corresponding view function. This allows you to create dynamic and flexible routes that can handle varying inputs or data.\n"
   ]
  },
  {
   "cell_type": "markdown",
   "metadata": {},
   "source": [
    "# Q4. Create a “/welcome” route to display the welcome message “Welcome to ABC Corporation” and a “/” route to show the following details: \n",
    "# Company Name: ABC Corporation \n",
    "# Location: India\n",
    "# Contact Detail: 999-999-9999\n",
    "# Attach the screenshot of the output in Jupyter Notebook."
   ]
  },
  {
   "cell_type": "code",
   "execution_count": null,
   "metadata": {},
   "outputs": [],
   "source": [
    "from flask import Flask\n",
    "\n",
    "app = Flask(__name__)\n",
    "\n",
    "@app.route(\"/\")\n",
    "def comapny_details():\n",
    "    details = {\"comapny name\":\"ABC Corporation\",\"Location\":\"India\",\"Contact Detail\":\"999-999-9999\"}\n",
    "    data=\"<ul>\"\n",
    "    for key in details:\n",
    "        data+=f'<li>{key}:{details[key]}</li>'\n",
    "    \n",
    "    #data+='/<ul>'\n",
    "    return data\n",
    "if __name__==\"__main__\":\n",
    "    app.run(host=\"0.0.0.0\")\n"
   ]
  },
  {
   "cell_type": "markdown",
   "metadata": {},
   "source": [
    "![SS2](ss2.png)"
   ]
  },
  {
   "cell_type": "markdown",
   "metadata": {},
   "source": [
    "# Q5. What function is used in Flask for URL Building? Write a Python code to demonstrate the working of the url_for() function.\n",
    "In Flask, the url_for() function is used for URL building. It generates a URL for a specified endpoint by taking the endpoint name as an argument and any additional arguments required for building the URL.\n",
    "\n"
   ]
  },
  {
   "cell_type": "code",
   "execution_count": null,
   "metadata": {},
   "outputs": [],
   "source": [
    "\n",
    "from flask import Flask, url_for\n",
    "\n",
    "app = Flask(__name__)\n",
    "\n",
    "@app.route('/')\n",
    "def index():\n",
    "    return 'Hello, World!'\n",
    "\n",
    "@app.route('/user/<username>')\n",
    "def user_profile(username):\n",
    "    return f'Welcome, {username}!'\n",
    "\n",
    "if __name__ == '__main__':\n",
    "    with app.test_request_context():\n",
    "        # Generate URL for the index endpoint\n",
    "        index_url = url_for('index')\n",
    "        print('Index URL:', index_url)\n",
    "\n",
    "        # Generate URL for the user_profile endpoint with a username parameter\n",
    "        profile_url = url_for('user_profile', username='john')\n",
    "        print('Profile URL:', profile_url)\n"
   ]
  }
 ],
 "metadata": {
  "kernelspec": {
   "display_name": "Python 3.8.10 64-bit",
   "language": "python",
   "name": "python3"
  },
  "language_info": {
   "name": "python",
   "version": "3.8.10"
  },
  "orig_nbformat": 4,
  "vscode": {
   "interpreter": {
    "hash": "e7370f93d1d0cde622a1f8e1c04877d8463912d04d973331ad4851f04de6915a"
   }
  }
 },
 "nbformat": 4,
 "nbformat_minor": 2
}
