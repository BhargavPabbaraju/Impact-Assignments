{
 "cells": [
  {
   "cell_type": "markdown",
   "id": "84c1cbc3-1c5f-4063-b83b-aa614ece3445",
   "metadata": {},
   "source": [
    "# Q1. What is the Probability density function?\n",
    "\n",
    "The Probability Density Function (PDF) is a concept used in probability theory and statistics to describe the probability distribution of a continuous random variable. It defines the likelihood of the random variable taking on a specific value within a given range.\n",
    "\n",
    "For a continuous random variable X, the PDF is denoted by \\( f(x) \\) and is defined such that the probability of X falling within a specific interval \\([a, b]\\) is given by the integral of the PDF over that interval:\n",
    "\n",
    "$$ P(a \\leq X \\leq b) = \\int_{a}^{b} f(x) \\, dx$$\n",
    "\n",
    "The PDF has the following properties:\n",
    "1. $ ( f(x) \\geq 0 ) \\forall ( x ). $\n",
    "2. The area under the curve of the PDF over its entire domain is equal to 1, indicating that the total probability of the random variable taking any value within its range is 1.\n",
    "\n"
   ]
  },
  {
   "cell_type": "markdown",
   "id": "149c74d9-f294-4088-8f20-bd2eceb14080",
   "metadata": {},
   "source": [
    "# Q2. What are the types of Probability distribution?\n",
    "\n",
    "The types of probability distributions are:\n",
    "\n",
    "1. **Uniform Distribution**: In a uniform distribution, all possible outcomes have equal probabilities of occurring. This means that each value in the distribution has the same likelihood of being observed. It is often used to model situations where each value in a certain range is equally likely to occur.\n",
    "\n",
    "2. **Poisson Distribution**: The Poisson distribution is used to model the number of events that occur in a fixed interval of time or space. It is often employed to describe rare events that happen independently with a constant average rate over time.\n",
    "\n",
    "3. **Bernoulli Distribution**: The Bernoulli distribution is a special case of the binomial distribution where there is only one trial (a single event with two possible outcomes: success or failure). It is commonly used to model binary outcomes, such as success/failure or yes/no events.\n",
    "\n",
    "4. **Gaussian Distribution (Normal Distribution)**: The Gaussian distribution, also known as the normal distribution, is one of the most widely used probability distributions. It has a bell-shaped curve and is characterized by its mean and standard deviation. Many natural phenomena and statistical data tend to follow a normal distribution.\n",
    "\n"
   ]
  },
  {
   "cell_type": "markdown",
   "id": "172d4373-d187-47d4-8c31-d1fab531e164",
   "metadata": {},
   "source": [
    "# Q3. Write a Python function to calculate the probability density function of a normal distribution with given mean and standard deviation at a given point."
   ]
  },
  {
   "cell_type": "code",
   "execution_count": 1,
   "id": "5c152716-91d3-4777-a0e2-dcfd656c34b0",
   "metadata": {},
   "outputs": [
    {
     "data": {
      "text/plain": [
       "0.12951759566589174"
      ]
     },
     "execution_count": 1,
     "metadata": {},
     "output_type": "execute_result"
    }
   ],
   "source": [
    "import scipy.stats as stats\n",
    "\n",
    "def normal_pdf(mean,std,x):\n",
    "    return stats.norm.pdf(x,loc=mean,scale=std)\n",
    "\n",
    "\n",
    "normal_pdf(0,1,1.5)"
   ]
  },
  {
   "cell_type": "markdown",
   "id": "8a09ec76-16b1-4bdc-82b7-9f6719a79275",
   "metadata": {},
   "source": [
    "# Q4. What are the properties of Binomial distribution? Give two examples of events where binomial distribution can be applied.\n",
    "\n",
    "The properties of the Binomial distribution are as follows:\n",
    "\n",
    "1. **Discrete Distribution**: The Binomial distribution is a discrete probability distribution. It is applicable when dealing with discrete events that have only two possible outcomes: success (usually denoted as \"S\") or failure (denoted as \"F\").\n",
    "\n",
    "2. **Fixed Number of Trials**: The Binomial distribution is defined for a fixed number of independent trials, denoted as \\(n\\). Each trial can result in either a success or a failure.\n",
    "\n",
    "3. **Constant Probability**: The probability of success (\\(p\\)) remains constant for each trial. In other words, the probability of a success in any given trial is the same throughout the entire experiment.\n",
    "\n",
    "4. **Independent Trials**: Each trial in the Binomial distribution is assumed to be independent, meaning that the outcome of one trial does not affect the outcome of any other trial.\n",
    "\n",
    "Two examples of events where the Binomial distribution can be applied are:\n",
    "\n",
    "1. **Flipping a Coin**: Consider the event of flipping a fair coin multiple times. The outcome of each flip can be either \"heads\" (success) or \"tails\" (failure), and each flip is independent. The probability of getting a heads or a tails remains constant at 0.5 for each trial. The Binomial distribution can be used to model the number of heads obtained in a fixed number of coin flips.\n",
    "\n",
    "2. **Quality Control**: Imagine a manufacturing process where items are produced and tested for defects. Each item can be classified as either defective (failure) or non-defective (success). The probability of a defective item remains constant throughout the production process, and each item's inspection is independent of others. The Binomial distribution can be applied to calculate the probability of obtaining a specific number of defective items in a batch of a fixed number of items."
   ]
  },
  {
   "cell_type": "markdown",
   "id": "dce716ce-488d-4dc7-8fa3-c9d0ea9c198d",
   "metadata": {},
   "source": [
    "# Q5. Generate a random sample of size 1000 from a binomial distribution with probability of success 0.4 and plot a histogram of the results using matplotlib."
   ]
  },
  {
   "cell_type": "code",
   "execution_count": 12,
   "id": "fa89d03e-463b-42c8-9787-f705e5fa4088",
   "metadata": {},
   "outputs": [
    {
     "data": {
      "image/png": "[encoded data removed]",
      "text/plain": [
       "<Figure size 640x480 with 1 Axes>"
      ]
     },
     "metadata": {},
     "output_type": "display_data"
    }
   ],
   "source": [
    "import numpy as np\n",
    "import matplotlib.pyplot as plt\n",
    "\n",
    "p = 0.4\n",
    "n = 1000\n",
    "\n",
    "sample = np.random.binomial(1,p,n)\n",
    "\n",
    "plt.hist(sample,bins=2,align='mid',rwidth=0.8,color='orange')\n",
    "plt.xticks([0.25,0.75],['Failure','Success'])\n",
    "plt.xlabel('Outcome')\n",
    "plt.ylabel('Frequency')\n",
    "plt.show()"
   ]
  },
  {
   "cell_type": "markdown",
   "id": "6e0646c6-f230-4231-aa23-5d934ff5b371",
   "metadata": {},
   "source": [
    "# Q6. Write a Python function to calculate the cumulative distribution function of a Poisson distribution with given mean at a given point."
   ]
  },
  {
   "cell_type": "code",
   "execution_count": 14,
   "id": "e173413a-6e96-461a-8528-ca833d6bab52",
   "metadata": {},
   "outputs": [
    {
     "name": "stdout",
     "output_type": "stream",
     "text": [
      "CDF = 0.89\n"
     ]
    }
   ],
   "source": [
    "import scipy.stats as stats\n",
    "\n",
    "\n",
    "mean = 2.5\n",
    "x = 4\n",
    "cdf = stats.poisson.cdf(x,mu=mean)\n",
    "\n",
    "print('CDF = %.2f'%cdf)\n"
   ]
  },
  {
   "cell_type": "markdown",
   "id": "0ac5a805-c15d-4d31-bbba-64d10ebcf5c9",
   "metadata": {},
   "source": [
    "# Q7. How Binomial distribution different from Poisson distribution?\n",
    "\n",
    "The Binomial distribution and Poisson distribution are two distinct probability distributions with different characteristics and applications. Here are the key differences between them:\n",
    "\n",
    "1. **Nature of Events**:\n",
    "   - Binomial Distribution: The Binomial distribution is used to model the number of successes in a fixed number of independent trials, where each trial can result in either a success or a failure. The events in a binomial distribution are binary and discrete.\n",
    "   - Poisson Distribution: The Poisson distribution is used to model the number of events that occur in a fixed interval of time or space, such as the number of arrivals at a store in an hour or the number of defects in a production batch. The events in a Poisson distribution are countable and can occur at any time (continuous).\n",
    "\n",
    "2. **Number of Trials/Events**:\n",
    "   - Binomial Distribution: The Binomial distribution is defined for a fixed number of independent trials, denoted as \\(n\\).\n",
    "   - Poisson Distribution: The Poisson distribution is defined for an infinite number of events, but it is often used as an approximation for rare events that occur at a constant rate over time or space.\n",
    "\n",
    "3. **Parameters**:\n",
    "   - Binomial Distribution: The Binomial distribution is characterized by two parameters: the probability of success in a single trial (\\(p\\)) and the number of trials (\\(n\\)).\n",
    "   - Poisson Distribution: The Poisson distribution is characterized by a single parameter: the average rate of events occurring in a fixed interval of time or space (\\(\\lambda\\)).\n",
    "\n",
    "4. **Probability vs Frequency**:\n",
    "   - Binomial Distribution: The Binomial distribution deals with the probability of achieving a specific number of successes (or failures) in a fixed number of trials.\n",
    "   - Poisson Distribution: The Poisson distribution deals with the frequency or count of events occurring in a fixed interval.\n",
    "\n",
    "5. **Assumptions**:\n",
    "   - Binomial Distribution: The Binomial distribution assumes a fixed number of trials, independent outcomes, and a constant probability of success for each trial.\n",
    "   - Poisson Distribution: The Poisson distribution assumes that events occur independently at a constant rate within a fixed interval.\n",
    "\n",
    "Both distributions are widely used in various fields, such as statistics, engineering, biology, and social sciences, to model different types of data and random processes. The choice between using a Binomial or Poisson distribution depends on the nature of the data and the characteristics of the random variable being studied."
   ]
  },
  {
   "cell_type": "markdown",
   "id": "4679c213-6668-4ce8-bda1-2874661471f3",
   "metadata": {},
   "source": [
    "# Q8. Generate a random sample of size 1000 from a Poisson distribution with mean 5 and calculate the sample mean and variance."
   ]
  },
  {
   "cell_type": "code",
   "execution_count": 20,
   "id": "889daf0c-4197-4f8b-af8f-61c2e0627490",
   "metadata": {},
   "outputs": [
    {
     "name": "stdout",
     "output_type": "stream",
     "text": [
      "Sample mean = 5.02\n",
      "Sample Variance = 4.95\n"
     ]
    }
   ],
   "source": [
    "\n",
    "sample = np.random.poisson(lam = 5, size = 1000)\n",
    "\n",
    "print('Sample mean = %.2f'%np.mean(sample))\n",
    "print('Sample Variance = %.2f'%np.var(sample))"
   ]
  },
  {
   "cell_type": "markdown",
   "id": "551589c7-d084-4cce-8e48-264d33aead90",
   "metadata": {},
   "source": [
    "# Q9. How mean and variance are related in Binomial distribution and Poisson distribution?\n",
    "In both the Binomial distribution and the Poisson distribution, the relationship between the mean and variance is linked to the characteristics of these distributions.\n",
    "\n",
    "**Binomial Distribution**:\n",
    "For a Binomial distribution with parameters $n$ (number of trials) and $p$ (probability of success in each trial), the mean (expected value) and variance are related as follows:\n",
    "\n",
    "- Mean $ \\mu  = n \\times p $\n",
    "- Variance $ \\sigma^2 = n \\times p \\times (1 - p)$\n",
    "\n",
    "The variance in the Binomial distribution depends on both the number of trials $n$ and the probability of success $p$. The larger the number of trials or the closer the probability of success is to 0.5, the larger the variance. Conversely, as the probability of success deviates significantly from 0.5, the variance decreases.\n",
    "\n",
    "**Poisson Distribution**:\n",
    "For a Poisson distribution with parameter $\\lambda$ (average rate of events occurring in a fixed interval), the mean (expected value) and variance are related as follows:\n",
    "\n",
    "- Mean $\\mu$ = $\\lambda$\n",
    "- Variance $\\sigma^2$ = $\\lambda$\n",
    "\n",
    "In the Poisson distribution, both the mean and the variance are equal to the parameter $\\lambda$. The variance of the Poisson distribution is independent of the specific value of $\\lambda$ but depends only on its magnitude. As $\\lambda$ increases, the spread (variance) of the distribution also increases.\n",
    "\n",
    "For both the Binomial and Poisson distributions:\n",
    "- The mean (expected value) represents the central tendency of the distribution.\n",
    "- The variance measures the spread or dispersion of the distribution around the mean.\n",
    "- The variance depends on the parameters of the distribution (e.g., number of trials and probability of success for the Binomial distribution, and the average rate of events for the Poisson distribution)."
   ]
  },
  {
   "cell_type": "markdown",
   "id": "f447d0ba-15da-46ad-8e46-e0f0062c5189",
   "metadata": {},
   "source": [
    "# Q10. In normal distribution with respect to mean position, where does the least frequent data appear?\n",
    "\n",
    "In a normal distribution, the least frequent data points appear in the tails of the distribution, farthest away from the mean.\n",
    "\n",
    "In a standard normal distribution (where the mean is 0 and the standard deviation is 1), about 68% of the data falls within one standard deviation of the mean, approximately 95% falls within two standard deviations, and roughly 99.7% falls within three standard deviations. This leaves only a very small percentage of data in the tails beyond three standard deviations from the mean.\n",
    "\n",
    "As the data moves away from the mean, the frequency of occurrence decreases rapidly. The tails of the normal distribution represent extreme values that are less likely to occur compared to values closer to the mean.\n",
    "\n",
    "\n"
   ]
  },
  {
   "cell_type": "code",
   "execution_count": null,
   "id": "e1ae3003-d45d-4967-adcd-2217893a5c99",
   "metadata": {},
   "outputs": [],
   "source": []
  }
 ],
 "metadata": {
  "kernelspec": {
   "display_name": "Python 3 (ipykernel)",
   "language": "python",
   "name": "python3"
  },
  "language_info": {
   "codemirror_mode": {
    "name": "ipython",
    "version": 3
   },
   "file_extension": ".py",
   "mimetype": "text/x-python",
   "name": "python",
   "nbconvert_exporter": "python",
   "pygments_lexer": "ipython3",
   "version": "3.10.8"
  }
 },
 "nbformat": 4,
 "nbformat_minor": 5
}
