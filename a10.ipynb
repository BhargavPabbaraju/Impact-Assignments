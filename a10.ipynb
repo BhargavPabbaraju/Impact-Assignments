{
 "cells": [
  {
   "cell_type": "markdown",
   "id": "977557dc-3acf-42cf-935f-3212d9c66498",
   "metadata": {},
   "source": [
    "# Q1. What is multiprocessing in python? Why is it useful?\n",
    "\n",
    "In Python, multiprocessing is a module that allows the execution of multiple processes simultaneously. It provides an interface to create, manage, and communicate between processes, enabling parallelism and utilizing multiple CPUs or CPU cores.\n",
    "\n",
    "#### Multiprocessing is useful for several reasons:\n",
    "\n",
    "- Performance Improvement: By utilizing multiple processes, multiprocessing allows for parallel execution of tasks across different CPU cores. This can lead to significant performance improvements, especially for CPU-bound tasks that can benefit from parallel processing.\n",
    "\n",
    "- Utilizing Multiple CPUs/Cores: With multiprocessing, you can distribute the workload across multiple CPUs or CPU cores. This makes it possible to leverage the full power of modern hardware and improve the overall efficiency of your program.\n",
    "\n",
    "- Isolation and Fault-Tolerance: Each process in multiprocessing runs in its own memory space, providing isolation and fault-tolerance. If one process encounters an error or crashes, it does not affect other processes, ensuring the stability and reliability of the overall application.\n",
    "\n",
    "- Resource Sharing: Although processes do not share memory directly like threads do, multiprocessing provides mechanisms for inter-process communication (IPC). This allows for sharing data and coordination between processes, enabling collaboration and synchronization when needed.\n",
    "\n",
    "- Compatibility with CPU-bound Tasks: Python's Global Interpreter Lock (GIL) limits the true parallel execution of multiple threads in Python due to its thread-safety mechanisms. Multiprocessing allows for bypassing the GIL limitations and achieving true parallelism for CPU-bound tasks that can benefit from multiple processes.\n"
   ]
  },
  {
   "cell_type": "markdown",
   "id": "4fcbc8e4-d9a6-4354-95e0-a1195df6f5c8",
   "metadata": {},
   "source": [
    "# Q2. What are the differences between multiprocessing and multithreading?\n",
    "\n",
    "The differences between multiprocessing and multithreading are as follows:\n",
    "\n",
    "1. Execution Model:\n",
    "   - Multiprocessing: In multiprocessing, multiple processes are created and run concurrently. Each process has its own memory space and runs independently.\n",
    "   - Multithreading: In multithreading, multiple threads are created within a single process. Threads share the same memory space and execute concurrently within the process.\n",
    "\n",
    "2. Resource Utilization:\n",
    "   - Multiprocessing: Each process in multiprocessing has its own memory space and resources. It allows for efficient utilization of multiple CPUs or CPU cores, as each process can run on a separate core.\n",
    "   - Multithreading: Threads within a process share the same memory space and resources. While multiple threads can run concurrently, they typically run on a single CPU or CPU core due to the Global Interpreter Lock (GIL) in Python, which allows only one thread to execute Python bytecode at a time.\n",
    "\n",
    "3. Memory:\n",
    "   - Multiprocessing: Processes in multiprocessing have separate memory spaces. Changes made in one process do not affect the memory of other processes.\n",
    "   - Multithreading: Threads share the same memory space. Changes made in one thread can be directly accessed and modified by other threads, leading to the need for synchronization mechanisms to ensure thread safety.\n",
    "\n",
    "4. Communication and Coordination:\n",
    "   - Multiprocessing: Inter-process communication (IPC) mechanisms like pipes, queues, shared memory, or sockets are used for communication and coordination between processes.\n",
    "   - Multithreading: Threads within a process can communicate and coordinate more easily, as they can directly access shared variables and resources. However, proper synchronization mechanisms such as locks, semaphores, or condition variables are required to ensure thread safety and avoid race conditions.\n",
    "\n",
    "5. Programming Complexity:\n",
    "   - Multiprocessing: Managing multiple processes requires additional overhead and complexity compared to multithreading. Processes do not share memory by default, and explicit mechanisms are needed for communication and coordination.\n",
    "   - Multithreading: Threads within a process are easier to manage and communicate with, as they share the same memory space. However, the need for synchronization and handling race conditions adds complexity to multithreaded programming.\n",
    "\n",
    "6. Parallelism:\n",
    "   - Multiprocessing: Multiprocessing allows for true parallelism by utilizing multiple CPUs or CPU cores. Each process can run on a separate core, enabling simultaneous execution.\n",
    "   - Multithreading: Due to the GIL in Python, multithreading does not achieve true parallelism for CPU-bound tasks. Threads can run concurrently but are limited to executing Python bytecode one at a time.\n",
    "\n",
    "Overall, multiprocessing and multithreading offer different approaches to achieve concurrency in Python. Multiprocessing is suitable for CPU-bound tasks, where parallelism across multiple CPUs or CPU cores is desired. On the other hand, multithreading is more suitable for I/O-bound tasks or scenarios where responsiveness and coordination within a single process are important."
   ]
  },
  {
   "cell_type": "markdown",
   "id": "c9ab4c56-cca9-4978-b510-66aac6388d7f",
   "metadata": {},
   "source": [
    "# Q3. Write a python code to create a process using the multiprocessing module."
   ]
  },
  {
   "cell_type": "code",
   "execution_count": 2,
   "id": "588faa8c-8c9e-4341-85ce-5df677fed7e6",
   "metadata": {},
   "outputs": [
    {
     "name": "stdout",
     "output_type": "stream",
     "text": [
      "This is a process\n",
      "Main process completed\n"
     ]
    }
   ],
   "source": [
    "import multiprocessing \n",
    "\n",
    "def func():\n",
    "    print('This is a process')\n",
    "    \n",
    "if __name__ == '__main__':\n",
    "    process = multiprocessing.Process(target=func)\n",
    "    process.start()\n",
    "    process.join()\n",
    "    print('Main process completed')"
   ]
  },
  {
   "cell_type": "markdown",
   "id": "aeafb67a-91c3-4a76-a06a-0708c8ee14db",
   "metadata": {},
   "source": [
    "# Q4. What is a multiprocessing pool in python? Why is it used?\n",
    "In Python, a multiprocessing pool is a mechanism provided by the `multiprocessing` module that allows for the creation of a pool of worker processes. It provides a high-level interface for distributing tasks across multiple processes efficiently.\n",
    "\n",
    "The multiprocessing pool is used for the following purposes:\n",
    "\n",
    "1. Parallel Execution: A pool of worker processes allows tasks to be executed in parallel. It can handle a large number of tasks simultaneously, distributing the workload across multiple processes and making efficient use of available system resources.\n",
    "\n",
    "2. Task Distribution: The pool manages the distribution of tasks among the worker processes. It automatically assigns tasks to available workers, ensuring efficient utilization of resources and load balancing.\n",
    "\n",
    "3. Simplified Interface: The multiprocessing pool provides a simplified interface for submitting tasks and retrieving results. It abstracts away the complexity of process creation, synchronization, and inter-process communication, allowing developers to focus on the logic of their tasks.\n",
    "\n",
    "4. Process Reuse: The multiprocessing pool creates a fixed number of worker processes upfront and keeps them alive throughout the lifetime of the pool. This avoids the overhead of process creation and termination for each task and enables efficient reuse of processes, resulting in improved performance.\n",
    "\n",
    "5. Result Aggregation: The pool allows easy collection of results from completed tasks. It provides methods to retrieve the results as they become available, either in the order of task submission or as soon as any task completes.\n",
    "\n",
    "Overall, the multiprocessing pool in Python provides a convenient and efficient way to distribute and parallelize tasks across multiple processes. It simplifies the management of worker processes, load balancing, and result retrieval, making it easier to leverage the power of parallel processing and improve the performance of computationally intensive tasks.\n"
   ]
  },
  {
   "cell_type": "markdown",
   "id": "76e647d6-85c3-494b-b756-2d7f4003c94a",
   "metadata": {},
   "source": [
    "# Q5. How can we create a pool of worker processes in python using the multiprocessing module?"
   ]
  },
  {
   "cell_type": "code",
   "execution_count": 5,
   "id": "35783ba8-63a5-47f4-bf6e-52d53f3b9f1c",
   "metadata": {},
   "outputs": [
    {
     "name": "stdout",
     "output_type": "stream",
     "text": [
      "[1, 4, 9, 16, 25]\n"
     ]
    }
   ],
   "source": [
    "import multiprocessing\n",
    "\n",
    "def square(i):\n",
    "    return i**2\n",
    "\n",
    "if __name__ == '__main__':\n",
    "    pool = multiprocessing.Pool()\n",
    "    \n",
    "    numbers = [1,2,3,4,5]\n",
    "    \n",
    "    results = pool.map(square,numbers)\n",
    "    pool.close()\n",
    "    pool.join()\n",
    "    print(results)\n",
    "    "
   ]
  },
  {
   "cell_type": "markdown",
   "id": "1864c6d0-ae83-4102-922e-62e2cd172ebe",
   "metadata": {},
   "source": [
    "# Q6. Write a python program to create 4 processes, each process should print a different number using the  multiprocessing module in python."
   ]
  },
  {
   "cell_type": "code",
   "execution_count": 11,
   "id": "9cf6a757-34f1-444e-aaf8-1af62219db51",
   "metadata": {},
   "outputs": [
    {
     "name": "stdout",
     "output_type": "stream",
     "text": [
      "Process id  995 Process id \n",
      " \n",
      "998Square  Process id  \n",
      "\n",
      "1 Square  1011 \n",
      "4 Process id \n",
      " \n",
      " \n",
      "\n",
      "1032Square \n",
      "  \n",
      "9\n",
      " Square \n",
      " \n",
      "16 \n",
      "\n",
      "main process completed\n"
     ]
    }
   ],
   "source": [
    "import multiprocessing\n",
    "\n",
    "def square(i):\n",
    "    print('Process id ',multiprocessing.current_process().pid,'\\n')\n",
    "    print('Square ',i**2,'\\n')\n",
    "    \n",
    "\n",
    "if __name__ == '__main__':\n",
    "    numbers = [1,2,3,4]\n",
    "    processes=[]\n",
    "    \n",
    "    for number in numbers:\n",
    "        process = multiprocessing.Process(target=square,args=(number,))\n",
    "        processes.append(process)\n",
    "        process.start()\n",
    "    \n",
    "    for process in processes:\n",
    "        process.join()\n",
    "    \n",
    "    \n",
    "    print('main process completed')\n",
    "        \n"
   ]
  },
  {
   "cell_type": "code",
   "execution_count": null,
   "id": "2b9ff071-f677-428a-a899-7215805942fd",
   "metadata": {},
   "outputs": [],
   "source": []
  }
 ],
 "metadata": {
  "kernelspec": {
   "display_name": "Python 3 (ipykernel)",
   "language": "python",
   "name": "python3"
  },
  "language_info": {
   "codemirror_mode": {
    "name": "ipython",
    "version": 3
   },
   "file_extension": ".py",
   "mimetype": "text/x-python",
   "name": "python",
   "nbconvert_exporter": "python",
   "pygments_lexer": "ipython3",
   "version": "3.10.8"
  }
 },
 "nbformat": 4,
 "nbformat_minor": 5
}
