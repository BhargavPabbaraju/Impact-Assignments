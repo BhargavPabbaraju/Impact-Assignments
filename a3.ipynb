{
 "cells": [
  {
   "cell_type": "markdown",
   "id": "23b0fddd-9811-4d6a-b9a2-dc5c94facba5",
   "metadata": {},
   "source": [
    "# Q1. Which keyword is used to create a function? Create a function to return a list of odd numbers in the range of 1 to 25.\n",
    "\n",
    "The \"def\" keyword is used to create a function."
   ]
  },
  {
   "cell_type": "code",
   "execution_count": 4,
   "id": "93045ca2-54de-4557-b9e8-8a4a2879dbc9",
   "metadata": {},
   "outputs": [],
   "source": [
    "from functools import reduce"
   ]
  },
  {
   "cell_type": "code",
   "execution_count": 2,
   "id": "f107f000-d340-4782-95aa-42426d559646",
   "metadata": {},
   "outputs": [
    {
     "data": {
      "text/plain": [
       "[1, 3, 5, 7, 9, 11, 13, 15, 17, 19, 21, 23, 25]"
      ]
     },
     "execution_count": 2,
     "metadata": {},
     "output_type": "execute_result"
    }
   ],
   "source": [
    "def oddNumbers():\n",
    "    return list(filter(lambda x:x%2==1 ,list(range(1,26))))\n",
    "\n",
    "oddNumbers()"
   ]
  },
  {
   "cell_type": "markdown",
   "id": "1beead4b-b2a9-4af1-b586-5f4f70ca363c",
   "metadata": {},
   "source": [
    "# Q2. Why *args and **kwargs is used in some functions? Create a function each for *args and **kwargs to demonstrate their use.\n",
    "\n",
    "*args\n",
    "*args is used to pass a variable number of non-keyworded arguments to a function. It allows you to pass any number of arguments to the function, which are then accessible as a tuple within the function. The * before args is responsible for unpacking the arguments passed and collecting them into a tuple.\n",
    "\n",
    "**kwargs\n",
    "**kwargs is used to pass a variable number of keyword arguments (key-value pairs like dictionary) to a function. It allows you to pass any number of keyword arguments to the function, which are then accessible as a dictionary within the function. The ** before kwargs is responsible for unpacking the keyword arguments passed and collecting them into a dictionary."
   ]
  },
  {
   "cell_type": "code",
   "execution_count": 6,
   "id": "c68f7194-1848-4951-8a91-c39d046d27c0",
   "metadata": {},
   "outputs": [
    {
     "data": {
      "text/plain": [
       "55"
      ]
     },
     "execution_count": 6,
     "metadata": {},
     "output_type": "execute_result"
    }
   ],
   "source": [
    "#Example for *args\n",
    "def add(*args):\n",
    "    return reduce(lambda x,y:x+y, args)\n",
    "\n",
    "\n",
    "add(1,2,3,4,5,6,7,8,9,10)"
   ]
  },
  {
   "cell_type": "code",
   "execution_count": 7,
   "id": "bbcefc14-9ca0-4655-a53a-9709a80c9bfb",
   "metadata": {},
   "outputs": [
    {
     "data": {
      "text/plain": [
       "'Bhargav Shyam'"
      ]
     },
     "execution_count": 7,
     "metadata": {},
     "output_type": "execute_result"
    }
   ],
   "source": [
    "#Example for **kwargs\n",
    "def getName(**kwargs):\n",
    "    return kwargs['first']+\" \"+kwargs['last']\n",
    "\n",
    "getName(first='Bhargav',last='Shyam')"
   ]
  },
  {
   "cell_type": "markdown",
   "id": "a4cb953f-30c3-46bb-ab1a-dd7a5404559e",
   "metadata": {},
   "source": [
    "# Q3. What is an iterator in python? Name the method used to initialise the iterator object and the method used for iteration. Use these methods to print the first five elements of the given list [2, 4, 6, 8, 10, 12, 14, 16,18, 20].\n",
    "\n",
    "An iterator in Python refers to an iterable object that generates values on demand. It allows you to traverse through a sequence of elements, such as a list or a range, one at a time.\n",
    "\n",
    "In Python, the iter() function is used to initialize an iterator object, and the next() function is used to iterate over the elements.\n",
    "\n"
   ]
  },
  {
   "cell_type": "code",
   "execution_count": 9,
   "id": "5927ce70-ce5a-4920-8f0a-063357a36521",
   "metadata": {},
   "outputs": [
    {
     "name": "stdout",
     "output_type": "stream",
     "text": [
      "2 4 6 8 10 "
     ]
    }
   ],
   "source": [
    "a=[2, 4, 6, 8, 10, 12, 14, 16,18, 20]\n",
    "iterator = iter(a)\n",
    "\n",
    "for i in range(5):\n",
    "    print(next(iterator),end=' ')"
   ]
  },
  {
   "cell_type": "markdown",
   "id": "2803018e-1734-420b-a3cd-1066fc127fdd",
   "metadata": {},
   "source": [
    "# Q4. What is a generator function in python? Why yield keyword is used? Give an example of a generator function.\n",
    "\n",
    "In Python, a generator function is a special type of function that generates a sequence of values one by one, allowing you to iterate over them lazily. It uses the yield keyword instead of return to return a value while maintaining the state of the function. Each time a value is yielded, the generator function is paused, and the yielded value is returned. When the generator function is called again, it resumes from where it left off, allowing it to generate values one at a time, as requested."
   ]
  },
  {
   "cell_type": "code",
   "execution_count": 1,
   "id": "5d546eb0-e2f5-4170-8945-599044e6a129",
   "metadata": {},
   "outputs": [
    {
     "name": "stdout",
     "output_type": "stream",
     "text": [
      "0 1 2 3 4 5 6 7 8 9 "
     ]
    }
   ],
   "source": [
    "#Generator Example\n",
    "\n",
    "def generator(n):\n",
    "    for i in range(n):\n",
    "        yield i\n",
    "\n",
    "for i in generator(10):\n",
    "    print(i,end=' ')"
   ]
  },
  {
   "cell_type": "markdown",
   "id": "0d604d22-bd48-4299-92ff-f24c9af4edf7",
   "metadata": {},
   "source": [
    "# Q5. Create a generator function for prime numbers less than 1000. Use the next() method to print the first 20 prime numbers."
   ]
  },
  {
   "cell_type": "code",
   "execution_count": 12,
   "id": "bb2017ac-5ba1-431d-823a-022b580f43c7",
   "metadata": {},
   "outputs": [
    {
     "name": "stdout",
     "output_type": "stream",
     "text": [
      "2 3 5 7 11 13 17 19 23 29 31 37 41 43 47 53 59 61 67 71 "
     ]
    }
   ],
   "source": [
    "def primeNumbers():\n",
    "    for i in range(2,1000):\n",
    "        root = int(i**(1/2))+1\n",
    "        f=0\n",
    "        for j in range(2,root):\n",
    "            if i%j==0:\n",
    "                f=1\n",
    "                break\n",
    "        if not f:\n",
    "            yield i\n",
    "\n",
    "it = iter(primeNumbers())\n",
    "\n",
    "for i in range(20):\n",
    "    print(next(it),end=' ')"
   ]
  },
  {
   "cell_type": "code",
   "execution_count": null,
   "id": "4c41225d-0060-456e-9135-47ff6d4f842f",
   "metadata": {},
   "outputs": [],
   "source": []
  }
 ],
 "metadata": {
  "kernelspec": {
   "display_name": "Python 3 (ipykernel)",
   "language": "python",
   "name": "python3"
  },
  "language_info": {
   "codemirror_mode": {
    "name": "ipython",
    "version": 3
   },
   "file_extension": ".py",
   "mimetype": "text/x-python",
   "name": "python",
   "nbconvert_exporter": "python",
   "pygments_lexer": "ipython3",
   "version": "3.10.8"
  }
 },
 "nbformat": 4,
 "nbformat_minor": 5
}
