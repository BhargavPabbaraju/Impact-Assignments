{
 "cells": [
  {
   "cell_type": "markdown",
   "id": "5c4ceecb-9fbe-48eb-81ff-bbefe01eadc8",
   "metadata": {},
   "source": [
    "# Q1. Calculate the 95% confidence interval for a sample of data with a mean of 50 and a standard deviation of 5 using Python. Interpret the results.\n"
   ]
  },
  {
   "cell_type": "code",
   "execution_count": 6,
   "id": "71e2298b-01a7-4a42-9569-a40490ffd5c7",
   "metadata": {},
   "outputs": [
    {
     "name": "stdout",
     "output_type": "stream",
     "text": [
      "95% confidence interval:  (49.00789152424566, 50.99210847575434)\n"
     ]
    }
   ],
   "source": [
    "from scipy import stats\n",
    "\n",
    "x = 50\n",
    "sigma = 5\n",
    "\n",
    "alpha = 0.05 \n",
    "\n",
    "cv = stats.t.ppf( 1 - alpha / 2 ,df = 99 ) #assuming sample size to be 100 as its not given\n",
    "\n",
    "moe = cv * sigma/ 100**(1/2)\n",
    "\n",
    "ci = (x - moe , x + moe)\n",
    "\n",
    "print('95% confidence interval: ',ci)\n",
    "\n"
   ]
  },
  {
   "cell_type": "markdown",
   "id": "4457e4a2-1260-446b-8b1b-58c4b39036a7",
   "metadata": {},
   "source": [
    "Interpretation\n",
    "\n",
    "This means that we can be 95% confident that the true population mean lies within the range of 49.0 to 50.99 based on the sample data with a mean of 50 and a standard deviation of 5. The interval provides a measure of uncertainty around the sample mean, indicating that the true population mean is likely to fall within this range. The wider the confidence interval, the more uncertainty there is in our estimate, while a narrower interval indicates a more precise estimate. With a 95% confidence level, we are allowing for a smaller margin of error compared to, for example, a 90% confidence level."
   ]
  },
  {
   "cell_type": "markdown",
   "id": "b5c3eefa-885f-42d7-92d8-471bc1b49460",
   "metadata": {},
   "source": [
    "# Q2. Conduct a chi-square goodness of fit test to determine if the distribution of colors of M&Ms in a bag matches the expected distribution of 20% blue, 20% orange, 20% green, 10% yellow, 10% red, and 20% brown. Use Python to perform the test with a significance level of 0.05."
   ]
  },
  {
   "cell_type": "code",
   "execution_count": 10,
   "id": "daa1f102-2b51-410d-a325-df6f8b8d8c50",
   "metadata": {},
   "outputs": [
    {
     "name": "stdout",
     "output_type": "stream",
     "text": [
      "Chi-square statistic: 3.1\n",
      "p-value: 0.68\n",
      "The distribution of colors of M&Ms in the bag matches the expected distribution.\n"
     ]
    }
   ],
   "source": [
    "import numpy as np\n",
    "\n",
    "observed = np.array([25, 18, 20, 12, 10, 15])\n",
    "\n",
    "expected = np.array([0.2,0.2,0.2,0.1,0.1,0.2]) * np.sum(observed)\n",
    "\n",
    "chi_square, p_value = stats.chisquare(f_obs = observed,f_exp = expected)\n",
    "\n",
    "alpha = 0.05\n",
    "\n",
    "print(\"Chi-square statistic:\", chi_square)\n",
    "print(\"p-value: %.2f\" %p_value)\n",
    "\n",
    "\n",
    "if p_value < alpha:\n",
    "    print(\"The distribution of colors of M&Ms in the bag does not match the expected distribution.\")\n",
    "else:\n",
    "    print(\"The distribution of colors of M&Ms in the bag matches the expected distribution.\")\n",
    "\n"
   ]
  },
  {
   "cell_type": "markdown",
   "id": "6aa078ca-d531-4d93-b0cb-a8243ff9a87c",
   "metadata": {},
   "source": [
    "Q3. Use Python to calculate the chi-square statistic and p-value for a contingency table with the following\n",
    "data:\n",
    "\n",
    "Interpret the results of the test.\n",
    "\n",
    "    Group A Group B \n",
    "\n",
    "- Outcome 1 20 15 \n",
    "- Outcome 2 10 25\n",
    "- Outcome 3 15 20"
   ]
  },
  {
   "cell_type": "code",
   "execution_count": 15,
   "id": "263f4c65-df8e-4046-9b13-2149c8af4f02",
   "metadata": {},
   "outputs": [
    {
     "name": "stdout",
     "output_type": "stream",
     "text": [
      "Chi-square statistic: 3.1\n",
      "p-value: 0.0541\n",
      "Degrees of freedom: 2\n",
      "Expected frequencies table:\n",
      "[[15. 20.]\n",
      " [15. 20.]\n",
      " [15. 20.]]\n",
      "The test is not statistically significant, and there is no evidence of a relationship between the groups and outcomes.\n"
     ]
    }
   ],
   "source": [
    "\n",
    "\n",
    "data = np.array([[20,15],\n",
    "                [10,25],\n",
    "                [15,20]])\n",
    "\n",
    "\n",
    "cchi_square, p_value, dof, expected = stats.chi2_contingency(data)\n",
    "\n",
    "alpha = 0.05\n",
    "\n",
    "\n",
    "print(\"Chi-square statistic:\", chi_square)\n",
    "print(\"p-value: %.4f\"% p_value)\n",
    "print(\"Degrees of freedom:\", dof)\n",
    "print(\"Expected frequencies table:\")\n",
    "print(expected)\n",
    "\n",
    "\n",
    "if p_value < alpha:\n",
    "    print(\"The test is statistically significant, and there is evidence of a relationship between the groups and outcomes.\")\n",
    "else:\n",
    "    print(\"The test is not statistically significant, and there is no evidence of a relationship between the groups and outcomes.\")"
   ]
  },
  {
   "cell_type": "markdown",
   "id": "b7c36db4-6087-4d09-b509-0c70dcc56040",
   "metadata": {},
   "source": [
    "Interpretation\n",
    "\n",
    "Since the p-value (0.0541) is greater than the chosen significance level of 0.05, we fail to reject the null hypothesis. This means that we do not have sufficient evidence to conclude that there is a significant association between the groups (Group A and Group B) and the outcomes (Outcome 1, Outcome 2, and Outcome 3). In other words, the data does not provide strong evidence to suggest that the proportions of outcomes differ significantly between the two groups. \n",
    "\n",
    "The test results indicate that the observed differences between the groups and outcomes could be due to random chance rather than a true association. However, it is important to note that the p-value is close to the significance level, so there may be some weak evidence of an association that requires further investigation with a larger sample size or more data."
   ]
  },
  {
   "cell_type": "markdown",
   "id": "b1063832-93cb-4737-b500-baf62b6213f9",
   "metadata": {},
   "source": [
    "# Q4. A study of the prevalence of smoking in a population of 500 individuals found that 60 individuals smoked. Use Python to calculate the 95% confidence interval for the true proportion of individuals in the population who smoke."
   ]
  },
  {
   "cell_type": "code",
   "execution_count": 21,
   "id": "6e48c358-c986-4a47-b537-154707f152eb",
   "metadata": {},
   "outputs": [
    {
     "name": "stdout",
     "output_type": "stream",
     "text": [
      "95% Confidence Interval : 0.091 , 0.149 \n"
     ]
    }
   ],
   "source": [
    "\n",
    "p = 60/500\n",
    "\n",
    "alpha = 0.05\n",
    "\n",
    "cv = stats.t.ppf(1-alpha/2,60-1)\n",
    "\n",
    "se = ((p* (1-p))/500)**(1/2)\n",
    "\n",
    "print('95%% Confidence Interval : %.3f , %.3f '%(p - cv*se , p+ cv*se))\n"
   ]
  },
  {
   "cell_type": "markdown",
   "id": "850f7988-a580-40db-b93b-63ca81bd1f28",
   "metadata": {},
   "source": [
    "# Q5. Calculate the 90% confidence interval for a sample of data with a mean of 75 and a standard deviation of 12 using Python. Interpret the results."
   ]
  },
  {
   "cell_type": "code",
   "execution_count": 24,
   "id": "3c8fe22e-fe5a-4426-86b7-7e8277645d72",
   "metadata": {},
   "outputs": [
    {
     "name": "stdout",
     "output_type": "stream",
     "text": [
      "95% Confidence Interval : 70.894 , 79.106 \n"
     ]
    }
   ],
   "source": [
    "\n",
    "n = 25 # Assume sample size as 25 as its not given in the question\n",
    "\n",
    "x = 75\n",
    "\n",
    "sigma = 12\n",
    "\n",
    "alpha = 0.10\n",
    "\n",
    "cv = stats.t.ppf(1-alpha/2,df = n-1)\n",
    "\n",
    "moe = cv * sigma/(n**(1/2))\n",
    "\n",
    "print('95%% Confidence Interval : %.3f , %.3f '%(x - moe , x+ moe))\n",
    "\n"
   ]
  },
  {
   "cell_type": "markdown",
   "id": "3ad56b09-844c-445a-99f0-4145d5175fa6",
   "metadata": {},
   "source": [
    "Interpretation:\n",
    "\n",
    "This means that we can be 90% confident that the true population mean lies within the range of 70.89 to 79.10 based on the sample data with a mean of 75 and a sample standard deviation of 12. The interval provides a measure of uncertainty around the sample mean, indicating that the true population mean is likely to fall within this range. The wider the confidence interval, the more uncertainty there is in our estimate, while a narrower interval indicates a more precise estimate.\n",
    "\n"
   ]
  },
  {
   "cell_type": "markdown",
   "id": "028c815b-ca86-4fa5-a764-7e138b5e8a64",
   "metadata": {},
   "source": [
    "# Q6. Use Python to plot the chi-square distribution with 10 degrees of freedom. Label the axes and shade the area corresponding to a chi-square statistic of 15.\n",
    "\n"
   ]
  },
  {
   "cell_type": "code",
   "execution_count": 6,
   "id": "79e9930e-b03d-46df-ad1d-98c15f493e42",
   "metadata": {},
   "outputs": [
    {
     "data": {
      "image/png": "[encoded data removed]",
      "text/plain": [
       "<Figure size 640x480 with 1 Axes>"
      ]
     },
     "metadata": {},
     "output_type": "display_data"
    }
   ],
   "source": [
    "import numpy as np\n",
    "from scipy import stats\n",
    "import matplotlib.pyplot as plt\n",
    "df = 10\n",
    "\n",
    "x = np.linspace(0,30,500)\n",
    "\n",
    "chi_square_pdf = stats.chi2.pdf(x,df)\n",
    "\n",
    "plt.plot(x,chi_square_pdf,label=f'Degrees of Freedom = {df}')\n",
    "plt.xlabel('Chi-Square Value')\n",
    "plt.ylabel('PDF')\n",
    "plt.title('Chi-Square Distribution')\n",
    "\n",
    "\n",
    "\n",
    "mask = x >= 15\n",
    "plt.fill_between(x,chi_square_pdf,where=mask,alpha=0.5,color='orange',label=\"Chi-Square Statistic of 15\")\n",
    "\n",
    "plt.legend()\n",
    "plt.show()"
   ]
  },
  {
   "cell_type": "markdown",
   "id": "ed7a2450-ed8b-4aeb-898b-5a393a5b0968",
   "metadata": {},
   "source": [
    "# Q7. A random sample of 1000 people was asked if they preferred Coke or Pepsi. Of the sample, 520 preferred Coke. Calculate a 99% confidence interval for the true proportion of people in the population who prefer Coke.\n",
    "\n"
   ]
  },
  {
   "cell_type": "code",
   "execution_count": 7,
   "id": "87065894-2996-4cf8-a158-c6fbf44c255c",
   "metadata": {},
   "outputs": [
    {
     "name": "stdout",
     "output_type": "stream",
     "text": [
      "99% Confidence Interval : 0.479 , 0.561 \n"
     ]
    }
   ],
   "source": [
    "n = 1000\n",
    "\n",
    "p = 520 / n\n",
    "\n",
    "alpha = 0.01\n",
    "\n",
    "cv = stats.norm.ppf( 1 - alpha/2)\n",
    "\n",
    "se = np.sqrt((p*(1-p)/n))\n",
    "\n",
    "moe = cv * se\n",
    "\n",
    "print('99%% Confidence Interval : %.3f , %.3f '%(p - moe , p+ moe))"
   ]
  },
  {
   "cell_type": "markdown",
   "id": "06727722-de4e-46b2-bae6-dd72861e2c7e",
   "metadata": {},
   "source": [
    "# Q8. A researcher hypothesizes that a coin is biased towards tails. They flip the coin 100 times and observe 45 tails. Conduct a chi-square goodness of fit test to determine if the observed frequencies match the expected frequencies of a fair coin. Use a significance level of 0.05."
   ]
  },
  {
   "cell_type": "code",
   "execution_count": 8,
   "id": "c15399c1-1f4b-41b8-91da-0b16d2ade893",
   "metadata": {},
   "outputs": [
    {
     "name": "stdout",
     "output_type": "stream",
     "text": [
      "Chi-square statistic: 1.0\n",
      "p-value: 0.32\n",
      "The observed frequencies match the expected frequencies of a fair coin.\n"
     ]
    }
   ],
   "source": [
    "\n",
    "\n",
    "observed = np.array([45,100-45])\n",
    "expected = np.array([50,50])\n",
    "\n",
    "chi_square, p_value = stats.chisquare(f_obs=observed, f_exp=expected)\n",
    "\n",
    "\n",
    "alpha = 0.05\n",
    "\n",
    "\n",
    "print(\"Chi-square statistic:\", chi_square)\n",
    "print(\"p-value: %.2f\"% p_value)\n",
    "\n",
    "\n",
    "if p_value < alpha:\n",
    "    print(\"The observed frequencies do not match the expected frequencies of a fair coin.\")\n",
    "else:\n",
    "    print(\"The observed frequencies match the expected frequencies of a fair coin.\")\n"
   ]
  },
  {
   "cell_type": "markdown",
   "id": "d3c59b0b-bef6-4faf-ad9e-3ac2404b0143",
   "metadata": {},
   "source": [
    "\n",
    "# Q9. A study was conducted to determine if there is an association between smoking status (smoker or non-smoker) and lung cancer diagnosis (yes or no). The results are shown in the contingency table below. Conduct a chi-square test for independence to determine if there is a significant association between smoking status and lung cancer diagnosis.\n",
    "\n",
    "Use a significance level of 0.05.\n",
    "\n",
    "    Lung Cancer: Yes Lung Cancer: No\n",
    "\n",
    "- Smoker 60 140\n",
    "- Non-smoker 30 170\n"
   ]
  },
  {
   "cell_type": "code",
   "execution_count": 12,
   "id": "7cd559a8-b640-4bac-a5cd-6d817946c08f",
   "metadata": {},
   "outputs": [
    {
     "name": "stdout",
     "output_type": "stream",
     "text": [
      "Chi-square statistic: 12.0573\n",
      "p-value: 0.0005\n",
      "Degrees of freedom: 1\n",
      "Expected frequencies:\n",
      "[[ 45. 155.]\n",
      " [ 45. 155.]]\n",
      "There is a significant association between smoking status and lung cancer diagnosis.\n"
     ]
    }
   ],
   "source": [
    "observed = np.array([[60,140],[30,170]])\n",
    "\n",
    "chi_square, p_value, dof, expected = stats.chi2_contingency(observed)\n",
    "\n",
    "alpha = 0.05\n",
    "\n",
    "print(\"Chi-square statistic: %.4f\"% chi_square)\n",
    "print(\"p-value: %.4f\"% p_value)\n",
    "print(\"Degrees of freedom:\", dof)\n",
    "print(\"Expected frequencies:\")\n",
    "print(expected)\n",
    "\n",
    "if p_value < alpha:\n",
    "    print(\"There is a significant association between smoking status and lung cancer diagnosis.\")\n",
    "else:\n",
    "    print(\"There is no significant association between smoking status and lung cancer diagnosis.\")\n"
   ]
  },
  {
   "cell_type": "markdown",
   "id": "3a40c72e-abe3-49d0-a27b-6a7d22599e75",
   "metadata": {
    "tags": []
   },
   "source": [
    "# Q10. A study was conducted to determine if the proportion of people who prefer milk chocolate, dark chocolate, or white chocolate is different in the U.S. versus the U.K. A random sample of 500 people from the U.S. and a random sample of 500 people from the U.K. were surveyed. The results are shown in the contingency table below. Conduct a chi-square test for independence to determine if there is a significant association between chocolate preference and country of origin.\n",
    "\n",
    "Use a significance level of 0.01.\n",
    "\n",
    "    Milk Chocolate Dark Chocolate White Chocolate\n",
    "- US(n=500) 200 150 150\n",
    "- UK(n=500) 225 175 100\n"
   ]
  },
  {
   "cell_type": "code",
   "execution_count": 25,
   "id": "c3f9a48a-3a41-4fd8-85af-1f82a47acd22",
   "metadata": {},
   "outputs": [
    {
     "name": "stdout",
     "output_type": "stream",
     "text": [
      "Chi-square statistic: 13.3937\n",
      "p-value: 0.0012\n",
      "Degrees of freedom: 2\n",
      "Expected frequencies:\n",
      "[[212.5 162.5 125. ]\n",
      " [212.5 162.5 125. ]]\n",
      "There is a significant association between chocolate preference and country of origin.\n"
     ]
    }
   ],
   "source": [
    "observed = np.array([[200,150,150],[225,175,100]])\n",
    "\n",
    "chi_square, p_value, dof, expected = stats.chi2_contingency(observed)\n",
    "\n",
    "alpha = 0.01\n",
    "\n",
    "print(\"Chi-square statistic: %.4f\"% chi_square)\n",
    "print(\"p-value: %.4f\"%p_value)\n",
    "print(\"Degrees of freedom:\", dof)\n",
    "print(\"Expected frequencies:\")\n",
    "print(expected)\n",
    "\n",
    "\n",
    "if p_value < alpha:\n",
    "    print(\"There is a significant association between chocolate preference and country of origin.\")\n",
    "else:\n",
    "    print(\"There is no significant association between chocolate preference and country of origin.\")"
   ]
  },
  {
   "cell_type": "markdown",
   "id": "ae6a78d6-7d7b-40b4-a61e-bcf410fb8ca6",
   "metadata": {},
   "source": [
    "# Q11. A random sample of 30 people was selected from a population with an unknown mean and standard deviation. The sample mean was found to be 72 and the sample standard deviation was found to be 10. Conduct a hypothesis test to determine if the population mean is significantly different from 70. Use a significance level of 0.05."
   ]
  },
  {
   "cell_type": "code",
   "execution_count": 28,
   "id": "a04bb02c-fb82-4aba-9f0a-6bb0cc032b4e",
   "metadata": {},
   "outputs": [
    {
     "name": "stdout",
     "output_type": "stream",
     "text": [
      "T value: 1.095 \t Critical Value : 2.045\n",
      "There is no significant evidence to suggest that the population mean is different from 70\n"
     ]
    }
   ],
   "source": [
    "n = 30\n",
    "x = 72\n",
    "sigma = 10\n",
    "\n",
    "mu = 70\n",
    "\n",
    "alpha = 0.05\n",
    "\n",
    "t_value = (x - mu) / (sigma/np.sqrt(n))\n",
    "\n",
    "cv = stats.t.ppf(1-alpha/2,n-1)\n",
    "\n",
    "\n",
    "print('T value: %.3f \\t Critical Value : %.3f'%(t_value,cv))\n",
    "\n",
    "if t_value < cv:\n",
    "    print(\"There is no significant evidence to suggest that the population mean is different from 70\")\n",
    "else:\n",
    "    print(\"There is significant evidence to suggest that the population mean is different from 70\")\n",
    "\n"
   ]
  }
 ],
 "metadata": {
  "kernelspec": {
   "display_name": "Python 3 (ipykernel)",
   "language": "python",
   "name": "python3"
  },
  "language_info": {
   "codemirror_mode": {
    "name": "ipython",
    "version": 3
   },
   "file_extension": ".py",
   "mimetype": "text/x-python",
   "name": "python",
   "nbconvert_exporter": "python",
   "pygments_lexer": "ipython3",
   "version": "3.10.8"
  }
 },
 "nbformat": 4,
 "nbformat_minor": 5
}
