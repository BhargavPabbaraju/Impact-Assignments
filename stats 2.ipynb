{
 "cells": [
  {
   "cell_type": "markdown",
   "id": "746a4152-54e2-4364-abbc-39a42f9e1464",
   "metadata": {},
   "source": [
    "# Q1. What are the three measures of central tendency\n",
    "\n",
    "The three measures of central tendency are:\n",
    "\n",
    "1. Mean: The mean is the most commonly used measure of central tendency. It is calculated by summing all the values in a dataset and dividing the sum by the total number of values. The mean represents the average value of the data and is sensitive to extreme values.\n",
    "\n",
    "2. Median: The median is the middle value in a dataset when the values are arranged in ascending or descending order. If the dataset has an odd number of values, the median is the middle value. If the dataset has an even number of values, the median is the average of the two middle values. The median is robust to extreme values and is often used when there are outliers or the data is skewed.\n",
    "\n",
    "3. Mode: The mode is the value or values that appear most frequently in a dataset. It represents the value that occurs with the highest frequency. A dataset can have multiple modes (multimodal) if multiple values have the same highest frequency, or it can have no mode if all values occur with equal frequency. The mode is useful for categorical or discrete data and can also be used for continuous data.\n",
    "\n",
    "These measures of central tendency provide different perspectives on the typical or representative values of a dataset and help summarize its central characteristics."
   ]
  },
  {
   "cell_type": "markdown",
   "id": "e7ecd608-1ad7-4d0d-a4f9-2ab668879a59",
   "metadata": {},
   "source": [
    "# Q2. What is the difference between the mean, median, and mode? How are they used to measure the central tendency of a dataset?\n",
    "\n",
    "The mean, median, and mode are three different measures of central tendency used to describe the typical or central values of a dataset. They differ in how they are calculated and the situations in which they are appropriate to use.\n",
    "\n",
    "1. Mean: The mean is calculated by summing all the values in a dataset and dividing the sum by the total number of values. It is the most commonly used measure of central tendency. The mean takes into account the values of all data points, making it sensitive to extreme values (outliers). The mean is useful when the dataset follows a symmetric distribution and there are no significant outliers.\n",
    "\n",
    "2. Median: The median is the middle value in a dataset when the values are arranged in ascending or descending order. If the dataset has an odd number of values, the median is the middle value. If the dataset has an even number of values, the median is the average of the two middle values. The median is robust to extreme values and is appropriate to use when the dataset is skewed or contains outliers. It represents the central value that divides the dataset into two equal halves.\n",
    "\n",
    "3. Mode: The mode is the value or values that appear most frequently in a dataset. It represents the peak or highest frequency in the dataset. The mode is useful for categorical or discrete data, as well as for continuous data with distinct peaks. It is suitable for identifying the most common or frequently occurring value(s) in the dataset.\n",
    "\n",
    "These measures help describe the central tendency of a dataset by providing different perspectives on its typical or representative values. The mean reflects the average value, the median represents the middle value, and the mode identifies the most common value(s). The choice of measure depends on the nature of the data, presence of outliers, and the desired interpretation of central tendency."
   ]
  },
  {
   "cell_type": "markdown",
   "id": "2807e65e-842f-4de8-9c60-5bfc6772c9c3",
   "metadata": {},
   "source": [
    "# Q3. Measure the three measures of central tendency for the given height data:\n",
    "[178,177,176,177,178.2,178,175,179,180,175,178.9,176.2,177,172.5,178,176.5]"
   ]
  },
  {
   "cell_type": "code",
   "execution_count": 4,
   "id": "e1b15a44-c51a-4e7c-833b-9e455409df4b",
   "metadata": {},
   "outputs": [
    {
     "name": "stdout",
     "output_type": "stream",
     "text": [
      "Mean is  177.01875\n",
      "Median is  177.0\n",
      "Mode is  [177.]\n"
     ]
    },
    {
     "name": "stderr",
     "output_type": "stream",
     "text": [
      "/tmp/ipykernel_106/158273773.py:7: FutureWarning: Unlike other reduction functions (e.g. `skew`, `kurtosis`), the default behavior of `mode` typically preserves the axis it acts along. In SciPy 1.11.0, this behavior will change: the default value of `keepdims` will become False, the `axis` over which the statistic is taken will be eliminated, and the value None will no longer be accepted. Set `keepdims` to True or False to avoid this warning.\n",
      "  print('Mode is ',st.mode(x).mode)\n"
     ]
    }
   ],
   "source": [
    "import numpy as np\n",
    "from scipy import stats as st\n",
    "x = [178,177,176,177,178.2,178,175,179,180,175,178.9,176.2,177,172.5,178,176.5]\n",
    "\n",
    "print('Mean is ',np.mean(x))\n",
    "print('Median is ',np.median(x))\n",
    "print('Mode is ',st.mode(x).mode)"
   ]
  },
  {
   "cell_type": "markdown",
   "id": "3e411a86-5931-4bf5-b838-3191a0f2ae7d",
   "metadata": {},
   "source": [
    "# Q4. Find the standard deviation for the given data:\n",
    "[178,177,176,177,178.2,178,175,179,180,175,178.9,176.2,177,172.5,178,176.5]"
   ]
  },
  {
   "cell_type": "code",
   "execution_count": 5,
   "id": "c1d862f8-2ccf-46a3-a706-0e989ca4ceaf",
   "metadata": {},
   "outputs": [
    {
     "name": "stdout",
     "output_type": "stream",
     "text": [
      "Standard Deviation is  1.7885814036548633\n"
     ]
    }
   ],
   "source": [
    "x = [178,177,176,177,178.2,178,175,179,180,175,178.9,176.2,177,172.5,178,176.5]\n",
    "print('Standard Deviation is ',np.std(x))"
   ]
  },
  {
   "cell_type": "markdown",
   "id": "4622061b-71ae-4864-bb6a-f9c8859544a9",
   "metadata": {},
   "source": [
    "# Q5. How are measures of dispersion such as range, variance, and standard deviation used to describe the spread of a dataset? Provide an example.\n",
    "\n",
    "Measures of dispersion, such as range, variance, and standard deviation, are used to describe the spread or variability of a dataset. They provide insights into how the data points are distributed and the extent to which they deviate from the central tendency measures. Here's an example to illustrate their use:\n",
    "\n",
    "Consider a dataset of the heights (in centimeters) of a group of individuals: [165, 170, 172, 175, 178, 180, 182]. \n",
    "\n",
    "1. Range: The range is the simplest measure of dispersion and represents the difference between the maximum and minimum values in the dataset. In this example, the range would be 182 - 165 = 17 centimeters, indicating the spread of the heights.\n",
    "\n",
    "2. Variance: The variance measures the average squared deviation of each data point from the mean. It quantifies the spread of the data by considering the differences of each value from the mean and taking their squared average. It provides an indication of the dispersion within the dataset. The variance for this example would be calculated as:\n",
    "\n",
    "   Variance = [ (165 - Mean)^2 + (170 - Mean)^2 + ... + (182 - Mean)^2 ] / n\n",
    "\n",
    "3. Standard Deviation: The standard deviation is the square root of the variance. It represents the average deviation from the mean in the original units of the data. The standard deviation is widely used due to its interpretability and ease of comparison. For the given dataset, the standard deviation would be the square root of the calculated variance.\n",
    "\n",
    "These measures of dispersion provide information about the spread of the data points around the central tendency measures (mean, median). They help to understand how tightly or loosely the data is clustered around the center, and they can also indicate the presence of outliers or extreme values.\n"
   ]
  },
  {
   "cell_type": "markdown",
   "id": "412579c9-e90f-43a7-8bde-4082dddc2dc4",
   "metadata": {},
   "source": [
    "# Q6. What is a Venn diagram?\n",
    "\n",
    "A Venn diagram is a graphical representation that uses overlapping circles or shapes to visually depict the relationships between different sets or groups of items. It was developed by John Venn, a British logician and philosopher. \n",
    "\n",
    "In a Venn diagram, each circle represents a set, and the overlapping regions indicate the intersection or common elements between the sets. The non-overlapping regions within each circle represent the elements that are unique to each set.\n",
    "\n",
    "Venn diagrams are commonly used to illustrate concepts of set theory, logic, and data analysis. They provide a visual way to analyze and compare the relationships between different categories or groups. Venn diagrams can be simple with two sets, but they can also include multiple sets or complex relationships.\n",
    "\n"
   ]
  },
  {
   "cell_type": "markdown",
   "id": "ea6a400b-5582-48cc-b3b9-67bf038143b6",
   "metadata": {},
   "source": [
    "# Q7. For the two given sets A = (2,3,4,5,6,7) & B = (0,2,6,8,10). Find:\n",
    "## (i) A ∩ B"
   ]
  },
  {
   "cell_type": "code",
   "execution_count": 7,
   "id": "9a5ee2dd-86f1-4745-9ea9-19e7b695f1ee",
   "metadata": {},
   "outputs": [
    {
     "name": "stdout",
     "output_type": "stream",
     "text": [
      "A ∩ B =  {2, 6}\n"
     ]
    }
   ],
   "source": [
    "a = {2,3,4,5,6,7} \n",
    "b = {0,2,6,8,10}\n",
    "\n",
    "print('A ∩ B = ',a.intersection(b))"
   ]
  },
  {
   "cell_type": "markdown",
   "id": "31fbd8ea-32b1-4816-b5ac-0e9279353fde",
   "metadata": {},
   "source": [
    "## (ii) A U B"
   ]
  },
  {
   "cell_type": "code",
   "execution_count": 8,
   "id": "659d9a65-ad58-4675-8e2a-05e6c2ece989",
   "metadata": {},
   "outputs": [
    {
     "name": "stdout",
     "output_type": "stream",
     "text": [
      "A U B =  {0, 2, 3, 4, 5, 6, 7, 8, 10}\n"
     ]
    }
   ],
   "source": [
    "a = {2,3,4,5,6,7} \n",
    "b = {0,2,6,8,10}\n",
    "\n",
    "print('A U B = ',a.union(b))"
   ]
  },
  {
   "cell_type": "markdown",
   "id": "3e05ebb9-5443-4f18-a50f-0ee2109532f3",
   "metadata": {},
   "source": [
    "# Q8. What do you understand about skewness in data?\n",
    "\n",
    "Skewness in data refers to the asymmetry or lack of symmetry in its distribution. It is a measure of the degree to which the data is skewed or shifted away from a symmetrical distribution.\n",
    "\n",
    "In a symmetrical distribution, the data is evenly distributed around the mean, and the left and right tails of the distribution are approximately equal. However, in a skewed distribution, the data is shifted towards one tail, resulting in an imbalance.\n",
    "\n",
    "Skewness can be classified into three types:\n",
    "\n",
    "1. Positive Skewness (Right Skewness): In a positively skewed distribution, the tail of the distribution extends towards the right, and the majority of the data is concentrated on the left side. The mean is typically greater than the median in a positively skewed distribution.\n",
    "\n",
    "2. Negative Skewness (Left Skewness): In a negatively skewed distribution, the tail of the distribution extends towards the left, and the majority of the data is concentrated on the right side. The mean is usually less than the median in a negatively skewed distribution.\n",
    "\n",
    "3. Zero Skewness: A distribution is considered to have zero skewness when it is perfectly symmetrical, with equal proportions of data on both sides of the mean.\n",
    "\n",
    "Skewness is important to consider because it affects the interpretation and analysis of the data. Skewed data can impact the calculation of central tendency measures (mean, median) and can influence statistical tests and models. It is crucial to identify and understand skewness to make accurate inferences and choose appropriate statistical techniques for data analysis."
   ]
  },
  {
   "cell_type": "markdown",
   "id": "96d97105-517c-44c9-bd0e-a5f1deb3db29",
   "metadata": {},
   "source": [
    "# Q9. If a data is right skewed then what will be the position of median with respect to mean?\n",
    "\n",
    "In a right-skewed distribution, the tail of the distribution extends towards the right, indicating that the majority of the data is concentrated on the left side. In this case, the mean will be greater than the median.\n",
    "\n",
    "To understand why the position of the median is affected by skewness, it is helpful to consider the impact of extreme values on these measures of central tendency.\n",
    "\n",
    "In a right-skewed distribution, there are typically a few extremely high values that pull the mean towards the right side of the distribution. As a result, the mean gets influenced by these outliers and shifts towards the right.\n",
    "\n",
    "On the other hand, the median represents the middle value in the dataset. It is less sensitive to extreme values and is instead determined by the relative positions of values in the dataset. Since the majority of the data is concentrated on the left side in a right-skewed distribution, the median will be closer to the left side, away from the extreme values that exist in the right tail of the distribution.\n",
    "\n",
    "Therefore, in a right-skewed distribution, the median will be positioned closer to the left side (lower values) of the distribution compared to the mean, which is influenced by the presence of outliers on the right side (higher values)."
   ]
  },
  {
   "cell_type": "markdown",
   "id": "82426f35-63dd-4787-ad05-7f0e6a7b9d07",
   "metadata": {},
   "source": [
    "# Q10. Explain the difference between covariance and correlation. How are these measures used in statistical analysis?\n",
    "\n",
    "Covariance and correlation are both measures used in statistical analysis to quantify the relationship between variables. However, they differ in terms of the scale and interpretability of their values.\n",
    "\n",
    "Covariance:\n",
    "Covariance measures the extent and direction of the linear relationship between two variables. It calculates the average of the product of the differences of each variable from their respective means. The covariance can be positive, negative, or zero.\n",
    "\n",
    "- Positive covariance indicates a positive linear relationship, meaning that as one variable increases, the other tends to increase as well.\n",
    "- Negative covariance indicates a negative linear relationship, where as one variable increases, the other tends to decrease.\n",
    "- Zero covariance indicates no linear relationship between the variables.\n",
    "\n",
    "The main limitation of covariance is that its magnitude depends on the scale of the variables, making it difficult to interpret the strength of the relationship.\n",
    "\n",
    "Correlation:\n",
    "Correlation is a standardized measure that quantifies the strength and direction of the linear relationship between two variables. It is calculated by dividing the covariance by the product of the standard deviations of the variables.\n",
    "\n",
    "The correlation coefficient, often denoted by \"r,\" ranges between -1 and 1:\n",
    "\n",
    "- A correlation coefficient of +1 indicates a perfect positive linear relationship.\n",
    "- A correlation coefficient of -1 indicates a perfect negative linear relationship.\n",
    "- A correlation coefficient of 0 indicates no linear relationship.\n",
    "\n",
    "Correlation coefficients provide a more interpretable measure of the relationship between variables since they are scaled between -1 and 1, allowing for comparison across different datasets.\n",
    "\n",
    "In statistical analysis, covariance and correlation are used to assess the strength and direction of the relationship between variables. They are employed to determine whether variables are positively or negatively related, to identify patterns or associations, and to select variables for predictive modeling. Correlation is particularly useful as it provides a standardized measure that is not influenced by the scale of the variables, making it easier to interpret and compare."
   ]
  },
  {
   "cell_type": "markdown",
   "id": "9504dd7b-c8ac-44bf-a5d2-ab00bb6cc5ce",
   "metadata": {},
   "source": [
    "# Q11. What is the formula for calculating the sample mean? Provide an example calculation for a dataset.\n",
    "\n",
    "The formula for calculating the sample mean is:\n",
    "\n",
    "Sample Mean = $$s=\\sum_{i=1}^{n} \\frac{x_i}{n}$$\n",
    "\n",
    "To illustrate the calculation, let's consider a dataset of ages (in years) for a sample of individuals:  [25, 30, 35, 40, 45]\n",
    "\n",
    "Step 1: Add up all the data points:\n",
    "25 + 30 + 35 + 40 + 45 = 175\n",
    "\n",
    "Step 2: Count the number of data points:\n",
    "In this example, there are 5 data points.\n",
    "\n",
    "Step 3: Calculate the sample mean:\n",
    "Sample Mean = (Sum of all data points) / (Number of data points)\n",
    "Sample Mean = 175 / 5\n",
    "Sample Mean = 35\n",
    "\n",
    "Therefore, the sample mean of the given dataset is 35 years."
   ]
  },
  {
   "cell_type": "markdown",
   "id": "984834be-cc05-4e03-95ad-0d150d34d6dd",
   "metadata": {},
   "source": [
    "# Q12. For a normal distribution data what is the relationship between its measure of central tendency?\n",
    "\n",
    "For a normal distribution, the measures of central tendency, namely the mean, median, and mode, are all equal and located at the center of the distribution.\n",
    "\n",
    "In a perfectly symmetrical normal distribution, the mean, median, and mode are all at the same point, which is the peak of the distribution. The distribution is symmetrically balanced around this central point.\n",
    "\n",
    "This relationship holds because a normal distribution is characterized by its symmetric bell-shaped curve. The mean represents the arithmetic average of the data points and is located at the center of the distribution. The median, being the middle value, also coincides with the mean in a symmetrical distribution. Additionally, since the distribution is symmetric, there is only one mode, which is also at the center of the distribution and matches the mean and median.\n",
    "\n",
    "\n"
   ]
  },
  {
   "cell_type": "markdown",
   "id": "28d57323-5f6e-4758-90cd-22abe6a388ed",
   "metadata": {},
   "source": [
    "# Q13. How is covariance different from correlation?\n",
    "\n",
    "Covariance and correlation are both measures used to assess the relationship between variables, but they differ in several key aspects:\n",
    "\n",
    "1. Scale:\n",
    "   - Covariance: Covariance measures the extent and direction of the linear relationship between two variables. The units of covariance are the product of the units of the two variables being measured. Consequently, the magnitude of covariance is influenced by the scale of the variables, making it difficult to interpret the strength of the relationship.\n",
    "   - Correlation: Correlation is a standardized measure that quantifies the strength and direction of the linear relationship between two variables. It is calculated by dividing the covariance by the product of the standard deviations of the variables. The correlation coefficient, denoted by \"r,\" ranges between -1 and 1, providing a more interpretable and comparable measure of the relationship.\n",
    "\n",
    "2. Interpretation:\n",
    "   - Covariance: Covariance values can be positive, negative, or zero. A positive covariance indicates a positive linear relationship, a negative covariance indicates a negative linear relationship, and zero covariance indicates no linear relationship. However, the magnitude of covariance alone does not indicate the strength or degree of the relationship.\n",
    "   - Correlation: Correlation coefficients provide a standardized measure that is not influenced by the scale of the variables. A correlation coefficient of +1 indicates a perfect positive linear relationship, -1 indicates a perfect negative linear relationship, and 0 indicates no linear relationship. The magnitude of the correlation coefficient indicates the strength and direction of the relationship, ranging from 0 (no correlation) to 1 or -1 (strong correlation).\n",
    "\n",
    "3. Range:\n",
    "   - Covariance: Covariance can take any value, positive or negative, depending on the nature of the relationship between the variables. The magnitude of the covariance is not bounded.\n",
    "   - Correlation: Correlation coefficients range between -1 and 1, providing a standardized and bounded measure of the relationship. The closer the correlation coefficient is to -1 or 1, the stronger the relationship, while a correlation coefficient close to 0 indicates a weak or no linear relationship.\n",
    "\n"
   ]
  },
  {
   "cell_type": "markdown",
   "id": "0d85bada-625d-48ff-9245-2b5830acba25",
   "metadata": {},
   "source": [
    "# Q14. How do outliers affect measures of central tendency and dispersion? Provide an example.\n",
    "\n",
    "Outliers can have a significant impact on measures of central tendency and dispersion. Let's consider their effects on each of these measures:\n",
    "\n",
    "1. Measures of Central Tendency:\n",
    "   - Mean: Outliers can heavily influence the mean since it takes into account all the values in the dataset. Even a single extreme value can significantly shift the mean towards the outlier. For example, consider a dataset of incomes: [20, 30, 40, 50, 200]. The mean income without the outlier is 48 while including the outlier raises it to 68.\n",
    "   - Median: Outliers have minimal effect on the median since it is based on the middle value(s) and is less sensitive to extreme values. The median remains relatively unaffected by the presence of outliers. In the above example, the median income remains unchanged at 40.\n",
    "\n",
    "2. Measures of Dispersion:\n",
    "   - Range: Outliers have a direct impact on the range since it is defined by the difference between the maximum and minimum values in the dataset. If an outlier is present, the range will be significantly affected, potentially becoming larger.\n",
    "   - Variance and Standard Deviation: Outliers can increase the variance and standard deviation, as these measures consider the squared differences between each value and the mean. Outliers with large deviations from the mean can inflate these measures. In the income example, including the outlier leads to a higher variance and standard deviation.\n",
    "\n"
   ]
  }
 ],
 "metadata": {
  "kernelspec": {
   "display_name": "Python 3 (ipykernel)",
   "language": "python",
   "name": "python3"
  },
  "language_info": {
   "codemirror_mode": {
    "name": "ipython",
    "version": 3
   },
   "file_extension": ".py",
   "mimetype": "text/x-python",
   "name": "python",
   "nbconvert_exporter": "python",
   "pygments_lexer": "ipython3",
   "version": "3.10.8"
  }
 },
 "nbformat": 4,
 "nbformat_minor": 5
}
