{
 "cells": [
  {
   "cell_type": "markdown",
   "id": "b561a489-ea3a-4af4-8304-c1369f711c45",
   "metadata": {},
   "source": [
    "# Q1) Create a vehicle class with an init method having instance variables as name_of_vehicle, max_speed and average_of_vehicle."
   ]
  },
  {
   "cell_type": "code",
   "execution_count": 1,
   "id": "d26589fe-1eda-469b-8eae-c492dc286dde",
   "metadata": {},
   "outputs": [],
   "source": [
    "class Vehicle:\n",
    "    def __init__(self,name_of_vehicle,max_speed,average_of_vehicle):\n",
    "        self.name_of_vehicle = name_of_vehicle\n",
    "        self.max_speed = max_speed\n",
    "        self.average_of_vehicle = average_of_vehicle\n",
    "        "
   ]
  },
  {
   "cell_type": "markdown",
   "id": "e6434830-5e32-4b39-9387-9201ef8996b3",
   "metadata": {},
   "source": [
    "# Q2) Create a child class car from the vehicle class created in Que 1, which will inherit the vehicle class. Create a method named seating_capacity which takes capacity as an argument and returns the name of the vehicle and its seating capacity."
   ]
  },
  {
   "cell_type": "code",
   "execution_count": 3,
   "id": "c1c12d62-b983-4032-ae56-84199eb4fe9a",
   "metadata": {},
   "outputs": [
    {
     "data": {
      "text/plain": [
       "('Maruti Suzuki', 4)"
      ]
     },
     "execution_count": 3,
     "metadata": {},
     "output_type": "execute_result"
    }
   ],
   "source": [
    "class Car(Vehicle):\n",
    "    def __init__(self,name_of_vehicle,max_speed,average_of_vehicle):\n",
    "        super().__init__(name_of_vehicle,max_speed,average_of_vehicle)\n",
    "    def seating_capacity(self,capacity):\n",
    "            return self.name_of_vehicle,capacity\n",
    "\n",
    "car = Car('Maruti Suzuki',56,35)\n",
    "car.seating_capacity(4)"
   ]
  },
  {
   "cell_type": "markdown",
   "id": "0f3addf7-4a0d-4335-89fd-97ee95d62e00",
   "metadata": {},
   "source": [
    "# Q3) What is multiple inheritance? Write a python code to demonstrate multiple inheritance.\n",
    "\n",
    "Multiple inheritance occurs when a class inherits from more than one base class. It allows a derived class to inherit attributes and behaviors from multiple parent classes."
   ]
  },
  {
   "cell_type": "code",
   "execution_count": 4,
   "id": "a62b608d-9f6f-4f2b-a20a-7010e4abc170",
   "metadata": {},
   "outputs": [
    {
     "name": "stdout",
     "output_type": "stream",
     "text": [
      "I eat plants and I eat meat "
     ]
    }
   ],
   "source": [
    "class Herbivore:\n",
    "    def display_herbivore(self):\n",
    "        print('I eat plants',end=' ')\n",
    "\n",
    "class Carnivore:\n",
    "    def display_carnivore(self):\n",
    "        print('I eat meat',end=' ')\n",
    "\n",
    "class Omnivore(Herbivore,Carnivore):\n",
    "    def display(self):\n",
    "        self.display_herbivore()\n",
    "        print('and',end=' ')\n",
    "        self.display_carnivore()\n",
    "\n",
    "        \n",
    "bear = Omnivore()\n",
    "bear.display()"
   ]
  },
  {
   "cell_type": "markdown",
   "id": "01c407a1-9a13-43b4-9295-f0741c091dfe",
   "metadata": {},
   "source": [
    "# Q4) What are getter and setter in python? Create a class and create a getter and a setter method in this class.\n",
    "\n",
    "In Python, getters and setters are methods used to access (get) and modify (set) the values of class attributes, respectively. They provide a controlled way to retrieve and update the values of private or protected attributes within a class, ensuring encapsulation and data integrity.\n",
    "\n",
    "Getters and setters are typically implemented using property decorators in Python. The <b>@property</b> decorator is used to define a getter method, while the <b> @attribute_name.setter</b> decorator is used to define a setter method.\n",
    "\n",
    "\n"
   ]
  },
  {
   "cell_type": "code",
   "execution_count": 20,
   "id": "438910aa-e484-4e01-9036-ef877b1e46b6",
   "metadata": {},
   "outputs": [
    {
     "data": {
      "text/plain": [
       "'Alice'"
      ]
     },
     "execution_count": 20,
     "metadata": {},
     "output_type": "execute_result"
    }
   ],
   "source": [
    "class Person:\n",
    "    def __init__(self,name):\n",
    "        self.__name = name\n",
    "    \n",
    "    @property\n",
    "    def name(self):\n",
    "        return self.__name\n",
    "    \n",
    "    @name.setter\n",
    "    def set_name(self,name):\n",
    "        self.__name = name\n",
    "\n",
    "    \n",
    "p = Person('Bhargav')\n",
    "p.set_name = 'Alice'\n",
    "p.name"
   ]
  },
  {
   "cell_type": "markdown",
   "id": "2b6ecdec-496b-4970-b397-c083ae620f5b",
   "metadata": {},
   "source": [
    "# Q5) What is method overriding in python? Write a python code to demonstrate method overriding.\n",
    "\n",
    "Method overriding in Python is a concept in object-oriented programming where a subclass provides its own implementation of a method that is already defined in its superclass. The overridden method in the subclass has the same name, return type, and parameters as the method in the superclass, but it provides a different implementation.\n",
    "\n",
    "When a method is called on an object of the subclass, the overridden method in the subclass is executed instead of the method in the superclass. This allows the subclass to customize or extend the behavior of the inherited method according to its specific requirements."
   ]
  },
  {
   "cell_type": "code",
   "execution_count": null,
   "id": "c5a4c743-1529-4aca-9906-27e952147310",
   "metadata": {},
   "outputs": [],
   "source": [
    "class Triangle:\n",
    "    def area(self):\n",
    "        print('area = 1/2 * b * h')\n",
    "\n",
    "class Iscoles(Triangle):\n",
    "    pass\n",
    "\n",
    "class Equilateral(Triangle):\n",
    "    def area(self):\n",
    "        print('area = √3/4 a*"
   ]
  }
 ],
 "metadata": {
  "kernelspec": {
   "display_name": "Python 3 (ipykernel)",
   "language": "python",
   "name": "python3"
  },
  "language_info": {
   "codemirror_mode": {
    "name": "ipython",
    "version": 3
   },
   "file_extension": ".py",
   "mimetype": "text/x-python",
   "name": "python",
   "nbconvert_exporter": "python",
   "pygments_lexer": "ipython3",
   "version": "3.10.8"
  }
 },
 "nbformat": 4,
 "nbformat_minor": 5
}
