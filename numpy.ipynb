{
 "cells": [
  {
   "cell_type": "code",
   "execution_count": 1,
   "id": "32e2f069-21f2-46be-85ad-c01b2391b824",
   "metadata": {},
   "outputs": [],
   "source": [
    "import numpy as np\n",
    "list_ = ['1','2','3','4','5']\n",
    "array_list = np.array(object = list_)"
   ]
  },
  {
   "cell_type": "markdown",
   "id": "2f0dfbaa-438b-41eb-9170-d611f9d4b4a6",
   "metadata": {},
   "source": [
    "# Q1. Is there any difference in the data type of variables list_ and array_list? If there is then write a codeto print the d ata types of both the variables.\n",
    "\n",
    "Yes , there is a difference in their data types.\n",
    "\n",
    "list_ is of type 'List' and array_list is of type 'numpy.ndarray'"
   ]
  },
  {
   "cell_type": "code",
   "execution_count": 3,
   "id": "4117f0b6-6049-45fd-a988-04fd8fea8dfa",
   "metadata": {},
   "outputs": [
    {
     "name": "stdout",
     "output_type": "stream",
     "text": [
      "<class 'list'>\n",
      "<class 'numpy.ndarray'>\n"
     ]
    }
   ],
   "source": [
    "print(type(list_))\n",
    "print(type(array_list))"
   ]
  },
  {
   "cell_type": "markdown",
   "id": "840898cd-78d1-4a76-8c9d-6de1832d8dd5",
   "metadata": {},
   "source": [
    "# Q2. Write a code to print the data type of each and every element of both the variables list_ and array_list."
   ]
  },
  {
   "cell_type": "code",
   "execution_count": 6,
   "id": "28de521b-b175-4003-90c2-d607d24516f6",
   "metadata": {},
   "outputs": [
    {
     "name": "stdout",
     "output_type": "stream",
     "text": [
      "[<class 'str'>, <class 'str'>, <class 'str'>, <class 'str'>, <class 'str'>]\n",
      "[<class 'numpy.str_'>, <class 'numpy.str_'>, <class 'numpy.str_'>, <class 'numpy.str_'>, <class 'numpy.str_'>]\n"
     ]
    }
   ],
   "source": [
    "print([type(x) for x in list_])\n",
    "print([type(x) for x in array_list])"
   ]
  },
  {
   "cell_type": "markdown",
   "id": "c4d0ad47-0bab-4aca-ac86-63d622e796d9",
   "metadata": {},
   "source": [
    "# Q3. Considering the following changes in the variable, array_list: Will there be any difference in the data type of the elements present in both the variables, list_ and array_list? If so then print the data types of each and every element present in both the variables, list_ and array_list.\n",
    "\n",
    "The data types of elements in list_ will not change but the elements in array_list will change to numpy.int64 data type"
   ]
  },
  {
   "cell_type": "code",
   "execution_count": 7,
   "id": "d2a8306e-97d4-4e4e-9309-a9b63ba9f163",
   "metadata": {},
   "outputs": [
    {
     "name": "stdout",
     "output_type": "stream",
     "text": [
      "[<class 'str'>, <class 'str'>, <class 'str'>, <class 'str'>, <class 'str'>]\n",
      "[<class 'numpy.int64'>, <class 'numpy.int64'>, <class 'numpy.int64'>, <class 'numpy.int64'>, <class 'numpy.int64'>]\n"
     ]
    }
   ],
   "source": [
    "array_list = np.array(object = list_,dtype = int)\n",
    "\n",
    "print([type(x) for x in list_])\n",
    "print([type(x) for x in array_list])"
   ]
  },
  {
   "cell_type": "code",
   "execution_count": 8,
   "id": "20fdfac7-60ef-40a3-a62f-dce325f5d877",
   "metadata": {},
   "outputs": [],
   "source": [
    "num_list = [[1,2,3] , [4,5,6]]\n",
    "\n",
    "num_array = np.array(object = num_list)"
   ]
  },
  {
   "cell_type": "markdown",
   "id": "89ee182c-05d9-4b73-941a-0f912eab32fe",
   "metadata": {},
   "source": [
    "# Q4. Write a code to find the following characteristics of variable, num_array:\n",
    "\n",
    "# (i) shape"
   ]
  },
  {
   "cell_type": "code",
   "execution_count": 9,
   "id": "a7b5a296-69d7-435f-9f19-abb0132da5bf",
   "metadata": {},
   "outputs": [
    {
     "data": {
      "text/plain": [
       "(2, 3)"
      ]
     },
     "execution_count": 9,
     "metadata": {},
     "output_type": "execute_result"
    }
   ],
   "source": [
    "num_array.shape"
   ]
  },
  {
   "cell_type": "markdown",
   "id": "6e7993e1-3b72-4dc9-a471-7dfd090223d0",
   "metadata": {},
   "source": [
    "# (ii) size"
   ]
  },
  {
   "cell_type": "code",
   "execution_count": 10,
   "id": "97faa836-6610-470a-9c9a-999faca87ede",
   "metadata": {},
   "outputs": [
    {
     "data": {
      "text/plain": [
       "6"
      ]
     },
     "execution_count": 10,
     "metadata": {},
     "output_type": "execute_result"
    }
   ],
   "source": [
    "num_array.size"
   ]
  },
  {
   "cell_type": "markdown",
   "id": "f190b7db-3e90-4cce-b66d-3e8d38281684",
   "metadata": {},
   "source": [
    "# Q5. Write a code to create numpy array of 3*3 matrix containing zeros only, using a numpy array creation function."
   ]
  },
  {
   "cell_type": "code",
   "execution_count": 11,
   "id": "f905caf9-2291-423f-b96b-76931d4bf6d7",
   "metadata": {},
   "outputs": [
    {
     "data": {
      "text/plain": [
       "array([[0., 0., 0.],\n",
       "       [0., 0., 0.],\n",
       "       [0., 0., 0.]])"
      ]
     },
     "execution_count": 11,
     "metadata": {},
     "output_type": "execute_result"
    }
   ],
   "source": [
    "np.zeros((3,3))"
   ]
  },
  {
   "cell_type": "markdown",
   "id": "43b48f9d-f0c6-493c-bef7-d3033f0698a7",
   "metadata": {},
   "source": [
    "# Q6. Create an identity matrix of shape (5,5) using numpy functions?"
   ]
  },
  {
   "cell_type": "code",
   "execution_count": 12,
   "id": "8601a871-86ab-4195-a87e-d384428190d0",
   "metadata": {},
   "outputs": [
    {
     "data": {
      "text/plain": [
       "array([[1., 0., 0., 0., 0.],\n",
       "       [0., 1., 0., 0., 0.],\n",
       "       [0., 0., 1., 0., 0.],\n",
       "       [0., 0., 0., 1., 0.],\n",
       "       [0., 0., 0., 0., 1.]])"
      ]
     },
     "execution_count": 12,
     "metadata": {},
     "output_type": "execute_result"
    }
   ],
   "source": [
    "np.eye(5)"
   ]
  },
  {
   "cell_type": "code",
   "execution_count": null,
   "id": "62f9be77-42ae-4dd3-9cc4-a9070273cc07",
   "metadata": {},
   "outputs": [],
   "source": []
  }
 ],
 "metadata": {
  "kernelspec": {
   "display_name": "Python 3 (ipykernel)",
   "language": "python",
   "name": "python3"
  },
  "language_info": {
   "codemirror_mode": {
    "name": "ipython",
    "version": 3
   },
   "file_extension": ".py",
   "mimetype": "text/x-python",
   "name": "python",
   "nbconvert_exporter": "python",
   "pygments_lexer": "ipython3",
   "version": "3.10.8"
  }
 },
 "nbformat": 4,
 "nbformat_minor": 5
}
