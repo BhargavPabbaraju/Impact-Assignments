{
 "cells": [
  {
   "cell_type": "markdown",
   "id": "55323316-bb91-4125-a9df-2724dadade6e",
   "metadata": {},
   "source": [
    "# Q1. What is the relationship between polynomial functions and kernel functions in machine learning algorithms?\n",
    "\n",
    "Polynomial functions and kernel functions are both mathematical tools used in machine learning algorithms, particularly in the context of kernel methods and support vector machines (SVMs). While they serve different purposes, there is a relationship between them.\n",
    "\n",
    "1. **Polynomial Functions:**\n",
    "   - Polynomial functions are mathematical functions of the form f(x) = a_nx^n + a_(n-1)x^(n-1) + ... + a_2x^2 + a_1x + a_0, where 'x' is the variable and 'a_i' are coefficients.\n",
    "   - In machine learning, polynomial functions are often used as feature transformations. This means that you take the original input data and create new features by applying polynomial functions to them. For example, if you have a 1D input feature 'x', you can transform it into 'x^2', 'x^3', and so on.\n",
    "\n",
    "2. **Kernel Functions:**\n",
    "   - Kernel functions, on the other hand, are used in kernel methods like the Support Vector Machine (SVM). These methods work by implicitly mapping the input data into a higher-dimensional space (feature space) where the data is more separable, without explicitly calculating the transformed feature vectors.\n",
    "   - The kernel function is a crucial part of this mapping. It computes the inner product (dot product) between data points in the high-dimensional space without explicitly calculating the transformations. Common kernel functions include linear, polynomial, radial basis function (RBF), and sigmoid kernels.\n",
    "\n",
    "**Relationship:**\n",
    "The relationship between polynomial functions and kernel functions in machine learning lies in the fact that polynomial kernel functions are a specific type of kernel function used to implicitly introduce polynomial feature transformations. In other words, a polynomial kernel is used to compute the dot product in a higher-dimensional space, where the features are polynomial combinations of the original features.\n",
    "\n",
    "The polynomial kernel is defined as K(x, y) = (x⋅y + c)^d, where 'd' is the degree of the polynomial, and 'c' is a constant. This kernel implicitly maps the input data into a higher-dimensional space using polynomial feature combinations. When 'd' is 1, it is equivalent to a linear kernel, and when 'd' is greater than 1, it introduces polynomial transformations.\n",
    "\n"
   ]
  },
  {
   "cell_type": "markdown",
   "id": "ee85f532-7c55-4f86-ab96-7e2a12828331",
   "metadata": {},
   "source": [
    "# Q2. How can we implement an SVM with a polynomial kernel in Python using Scikit-learn?\n",
    "\n"
   ]
  },
  {
   "cell_type": "code",
   "execution_count": 3,
   "id": "62990fb1-832d-4ad1-9310-435e0ba06655",
   "metadata": {},
   "outputs": [
    {
     "name": "stdout",
     "output_type": "stream",
     "text": [
      "Accuracy: 1.0\n",
      "Classification Report:\n",
      "               precision    recall  f1-score   support\n",
      "\n",
      "           0       1.00      1.00      1.00        10\n",
      "           1       1.00      1.00      1.00         9\n",
      "           2       1.00      1.00      1.00        11\n",
      "\n",
      "    accuracy                           1.00        30\n",
      "   macro avg       1.00      1.00      1.00        30\n",
      "weighted avg       1.00      1.00      1.00        30\n",
      "\n"
     ]
    }
   ],
   "source": [
    "from sklearn import datasets\n",
    "from sklearn.svm import SVC\n",
    "from sklearn.model_selection import train_test_split\n",
    "\n",
    "\n",
    "iris = datasets.load_iris()\n",
    "X = iris.data\n",
    "y = iris.target\n",
    "\n",
    "X_train,X_test,y_train,y_test = train_test_split(X,y,test_size=0.2,random_state=42)\n",
    "\n",
    "svm = SVC(kernel='poly',degree=3,C=1.0)\n",
    "\n",
    "svm.fit(X_train,y_train)\n",
    "\n",
    "y_pred = svm.predict(X_test)\n",
    "\n",
    "from sklearn.metrics import accuracy_score, classification_report\n",
    "\n",
    "accuracy = accuracy_score(y_test, y_pred)\n",
    "report = classification_report(y_test, y_pred)\n",
    "\n",
    "print(\"Accuracy:\", accuracy)\n",
    "print(\"Classification Report:\\n\", report)"
   ]
  },
  {
   "cell_type": "markdown",
   "id": "441f000e-6fbd-4d7d-980f-ce04fdb5e554",
   "metadata": {},
   "source": [
    "# Q3. How does increasing the value of epsilon affect the number of support vectors in SVR?\n",
    "\n",
    "In Support Vector Regression (SVR), epsilon (ε) is a hyperparameter that defines the margin of tolerance for the error between the predicted values and the actual target values. Specifically, SVR aims to find a regression function that lies within an epsilon-tube around the true regression function. This tube is often referred to as the \"epsilon-insensitive tube.\"\n",
    "\n",
    "The relationship between the value of epsilon (ε) and the number of support vectors in SVR can be understood as follows:\n",
    "\n",
    "1. **Larger Epsilon (ε):**\n",
    "   - When you increase the value of epsilon (ε), you are allowing a larger margin of error or tolerance for the SVR model. This means that the SVR model is more lenient about fitting the data points within the epsilon-tube.\n",
    "   - A larger epsilon allows the SVR model to have a broader margin, and as a result, it may include more data points within the margin without penalty. These data points that fall within the margin are known as \"support vectors.\"\n",
    "\n",
    "2. **Smaller Epsilon (ε):**\n",
    "   - Conversely, when you decrease the value of epsilon (ε), you are making the SVR model less tolerant of errors and requiring it to fit the data points more closely to the true regression function.\n",
    "   - A smaller epsilon results in a narrower margin, and the SVR model will be more sensitive to data points that are outside of this narrower margin. This can lead to fewer data points being considered as support vectors.\n",
    "\n",
    "\n",
    "\n",
    "The relationship between epsilon (ε) and the number of support vectors in SVR is as follows:\n",
    "- Larger epsilon → More tolerance for errors → More data points may be included as support vectors.\n",
    "- Smaller epsilon → Less tolerance for errors → Fewer data points are likely to be included as support vectors.\n",
    "\n",
    "The choice of epsilon should be based on the specific problem and dataset characteristics. If you want to allow some flexibility in your regression predictions and are willing to accept a certain level of error in your predictions, you can choose a larger epsilon. However, if you require a more precise fit to your data and are less tolerant of errors, you should choose a smaller epsilon. It's often a trade-off between model flexibility and precision."
   ]
  },
  {
   "cell_type": "markdown",
   "id": "0d6895b4-71af-4cb4-98d3-e17cc18cbbcb",
   "metadata": {},
   "source": [
    "# Q4. How does the choice of kernel function, C parameter, epsilon parameter, and gamma parameter affect the performance of Support Vector Regression (SVR)? Can you explain how each parameter works and provide examples of when you might want to increase or decrease its value?\n",
    "\n",
    "The performance of Support Vector Regression (SVR) can be significantly influenced by the choice of various hyperparameters, including the kernel function, C parameter, epsilon parameter (ε), and gamma parameter (γ). Let's explore how each of these parameters works and when you might want to increase or decrease their values:\n",
    "\n",
    "1. **Kernel Function:**\n",
    "   - **Function:** The kernel function determines the type of transformation applied to the input features. Common choices include linear, polynomial, radial basis function (RBF), and sigmoid kernels.\n",
    "   - **Effect:** The choice of kernel function affects the flexibility of the SVR model. Different kernels may perform better on different types of data.\n",
    "   - **Examples:**\n",
    "     - Use a linear kernel (kernel='linear') when you have a linear relationship between input features and targets.\n",
    "     - Use an RBF kernel (kernel='rbf') for non-linear relationships when you want to capture complex patterns in the data.\n",
    "     - Use a polynomial kernel (kernel='poly') for polynomial relationships, and adjust the degree parameter for the desired polynomial degree.\n",
    "\n",
    "2. **C Parameter:**\n",
    "   - **Function:** The C parameter controls the trade-off between maximizing the margin and minimizing the training error. Smaller values of C make the margin wider but may allow some training errors, while larger values of C make the margin narrower but aim to minimize training errors.\n",
    "   - **Effect:** Increasing C makes the SVR model more sensitive to individual data points, potentially leading to overfitting. Decreasing C makes the model less sensitive to individual data points, which can improve generalization.\n",
    "   - **Examples:**\n",
    "     - Increase C when you want the model to fit the training data more closely, especially if you suspect there is noise in the data.\n",
    "     - Decrease C when you want the model to prioritize a wider margin and generalization over fitting the training data.\n",
    "\n",
    "3. **Epsilon Parameter (ε):**\n",
    "   - **Function:** Epsilon defines the width of the epsilon-insensitive tube around the regression line. Data points within this tube are considered correctly predicted, and those outside it contribute to the model's loss.\n",
    "   - **Effect:** A larger epsilon allows more data points to fall within the tube, increasing the tolerance for prediction errors. A smaller epsilon tightens the tolerance, making the model less tolerant of prediction errors.\n",
    "   - **Examples:**\n",
    "     - Increase ε when you want to allow a larger margin of error in your predictions, such as when you have noisy data or when you prioritize robustness.\n",
    "     - Decrease ε when you require tighter control over prediction errors and want the model to fit the data closely.\n",
    "\n",
    "4. **Gamma Parameter (γ):**\n",
    "   - **Function:** Gamma controls the shape of the RBF kernel. A small gamma leads to a wide, smooth kernel, while a large gamma results in a narrow, peaked kernel.\n",
    "   - **Effect:** Higher values of gamma make the model more sensitive to individual data points, which can lead to overfitting, especially if the dataset is small. Smaller values of gamma result in a smoother decision boundary.\n",
    "   - **Examples:**\n",
    "     - Increase γ when you suspect that the underlying data distribution has sharp transitions or clusters and you want the model to capture fine-grained details.\n",
    "     - Decrease γ to create a smoother decision boundary when you have a large dataset or when you want to prioritize generalization.\n",
    "\n"
   ]
  },
  {
   "cell_type": "markdown",
   "id": "b5170fe1-06ad-438e-81f9-ac86aacbbf68",
   "metadata": {},
   "source": [
    "# Q5. Assignment:\n",
    "\n",
    "# Import the necessary libraries and load the dataset"
   ]
  },
  {
   "cell_type": "code",
   "execution_count": 4,
   "id": "42649383-bc2b-469d-beae-bd492b567545",
   "metadata": {},
   "outputs": [],
   "source": [
    "from sklearn import datasets\n",
    "from sklearn.svm import SVC\n",
    "from sklearn.model_selection import train_test_split\n",
    "\n",
    "\n",
    "iris = datasets.load_iris()\n",
    "X = iris.data\n",
    "y = iris.target"
   ]
  },
  {
   "cell_type": "markdown",
   "id": "a7895438-f459-4ad9-be59-ac599870c98c",
   "metadata": {},
   "source": [
    "# Split the dataset into training and testing sets"
   ]
  },
  {
   "cell_type": "code",
   "execution_count": 5,
   "id": "ed63cfb2-501f-47cd-a70d-d1bbcd720d7f",
   "metadata": {},
   "outputs": [],
   "source": [
    "X_train, X_test , y_train , y_test = train_test_split (X,y,test_size=0.2,random_state = 42)"
   ]
  },
  {
   "cell_type": "markdown",
   "id": "823f54bb-f85b-496b-a22c-b3f5bb751c48",
   "metadata": {},
   "source": [
    "# Preprocess the data using any technique of your choice (e.g. scaling, normalization)"
   ]
  },
  {
   "cell_type": "code",
   "execution_count": 8,
   "id": "7595f15e-38d4-4f30-8ede-9d7214bf3ea9",
   "metadata": {},
   "outputs": [],
   "source": [
    "from sklearn.preprocessing import StandardScaler\n",
    "\n",
    "scaler = StandardScaler()\n",
    "X_train_scaled = scaler.fit_transform(X_train)\n"
   ]
  },
  {
   "cell_type": "markdown",
   "id": "d01a1525-9343-4f2b-b043-52481d53890d",
   "metadata": {},
   "source": [
    "# Create an instance of the SVC classifier and train it on the training datW\n"
   ]
  },
  {
   "cell_type": "code",
   "execution_count": 17,
   "id": "edb2035c-ddab-40b6-a37b-7bed3c9a2694",
   "metadata": {},
   "outputs": [
    {
     "data": {
      "text/html": [
       "<style>#sk-container-id-2 {color: black;background-color: white;}#sk-container-id-2 pre{padding: 0;}#sk-container-id-2 div.sk-toggleable {background-color: white;}#sk-container-id-2 label.sk-toggleable__label {cursor: pointer;display: block;width: 100%;margin-bottom: 0;padding: 0.3em;box-sizing: border-box;text-align: center;}#sk-container-id-2 label.sk-toggleable__label-arrow:before {content: \"▸\";float: left;margin-right: 0.25em;color: #696969;}#sk-container-id-2 label.sk-toggleable__label-arrow:hover:before {color: black;}#sk-container-id-2 div.sk-estimator:hover label.sk-toggleable__label-arrow:before {color: black;}#sk-container-id-2 div.sk-toggleable__content {max-height: 0;max-width: 0;overflow: hidden;text-align: left;background-color: #f0f8ff;}#sk-container-id-2 div.sk-toggleable__content pre {margin: 0.2em;color: black;border-radius: 0.25em;background-color: #f0f8ff;}#sk-container-id-2 input.sk-toggleable__control:checked~div.sk-toggleable__content {max-height: 200px;max-width: 100%;overflow: auto;}#sk-container-id-2 input.sk-toggleable__control:checked~label.sk-toggleable__label-arrow:before {content: \"▾\";}#sk-container-id-2 div.sk-estimator input.sk-toggleable__control:checked~label.sk-toggleable__label {background-color: #d4ebff;}#sk-container-id-2 div.sk-label input.sk-toggleable__control:checked~label.sk-toggleable__label {background-color: #d4ebff;}#sk-container-id-2 input.sk-hidden--visually {border: 0;clip: rect(1px 1px 1px 1px);clip: rect(1px, 1px, 1px, 1px);height: 1px;margin: -1px;overflow: hidden;padding: 0;position: absolute;width: 1px;}#sk-container-id-2 div.sk-estimator {font-family: monospace;background-color: #f0f8ff;border: 1px dotted black;border-radius: 0.25em;box-sizing: border-box;margin-bottom: 0.5em;}#sk-container-id-2 div.sk-estimator:hover {background-color: #d4ebff;}#sk-container-id-2 div.sk-parallel-item::after {content: \"\";width: 100%;border-bottom: 1px solid gray;flex-grow: 1;}#sk-container-id-2 div.sk-label:hover label.sk-toggleable__label {background-color: #d4ebff;}#sk-container-id-2 div.sk-serial::before {content: \"\";position: absolute;border-left: 1px solid gray;box-sizing: border-box;top: 0;bottom: 0;left: 50%;z-index: 0;}#sk-container-id-2 div.sk-serial {display: flex;flex-direction: column;align-items: center;background-color: white;padding-right: 0.2em;padding-left: 0.2em;position: relative;}#sk-container-id-2 div.sk-item {position: relative;z-index: 1;}#sk-container-id-2 div.sk-parallel {display: flex;align-items: stretch;justify-content: center;background-color: white;position: relative;}#sk-container-id-2 div.sk-item::before, #sk-container-id-2 div.sk-parallel-item::before {content: \"\";position: absolute;border-left: 1px solid gray;box-sizing: border-box;top: 0;bottom: 0;left: 50%;z-index: -1;}#sk-container-id-2 div.sk-parallel-item {display: flex;flex-direction: column;z-index: 1;position: relative;background-color: white;}#sk-container-id-2 div.sk-parallel-item:first-child::after {align-self: flex-end;width: 50%;}#sk-container-id-2 div.sk-parallel-item:last-child::after {align-self: flex-start;width: 50%;}#sk-container-id-2 div.sk-parallel-item:only-child::after {width: 0;}#sk-container-id-2 div.sk-dashed-wrapped {border: 1px dashed gray;margin: 0 0.4em 0.5em 0.4em;box-sizing: border-box;padding-bottom: 0.4em;background-color: white;}#sk-container-id-2 div.sk-label label {font-family: monospace;font-weight: bold;display: inline-block;line-height: 1.2em;}#sk-container-id-2 div.sk-label-container {text-align: center;}#sk-container-id-2 div.sk-container {/* jupyter's `normalize.less` sets `[hidden] { display: none; }` but bootstrap.min.css set `[hidden] { display: none !important; }` so we also need the `!important` here to be able to override the default hidden behavior on the sphinx rendered scikit-learn.org. See: https://github.com/scikit-learn/scikit-learn/issues/21755 */display: inline-block !important;position: relative;}#sk-container-id-2 div.sk-text-repr-fallback {display: none;}</style><div id=\"sk-container-id-2\" class=\"sk-top-container\"><div class=\"sk-text-repr-fallback\"><pre>SVC()</pre><b>In a Jupyter environment, please rerun this cell to show the HTML representation or trust the notebook. <br />On GitHub, the HTML representation is unable to render, please try loading this page with nbviewer.org.</b></div><div class=\"sk-container\" hidden><div class=\"sk-item\"><div class=\"sk-estimator sk-toggleable\"><input class=\"sk-toggleable__control sk-hidden--visually\" id=\"sk-estimator-id-2\" type=\"checkbox\" checked><label for=\"sk-estimator-id-2\" class=\"sk-toggleable__label sk-toggleable__label-arrow\">SVC</label><div class=\"sk-toggleable__content\"><pre>SVC()</pre></div></div></div></div></div>"
      ],
      "text/plain": [
       "SVC()"
      ]
     },
     "execution_count": 17,
     "metadata": {},
     "output_type": "execute_result"
    }
   ],
   "source": [
    "svm = SVC()\n",
    "svm.fit(X_train_scaled,y_train)"
   ]
  },
  {
   "cell_type": "markdown",
   "id": "c3cc775c-053a-4010-925f-de0baba19e02",
   "metadata": {},
   "source": [
    "# Use the trained classifier to predict the labels of the testing data"
   ]
  },
  {
   "cell_type": "code",
   "execution_count": 18,
   "id": "e459ecdc-22b3-4896-ab66-98cd6b936e9d",
   "metadata": {},
   "outputs": [],
   "source": [
    "y_pred = svm.predict(scaler.transform(X_test))"
   ]
  },
  {
   "cell_type": "markdown",
   "id": "bfb3a62b-851c-4e39-92f0-5c64a9d3bc1f",
   "metadata": {},
   "source": [
    "# Evaluate the performance of the classifier using any metric of your choice (e.g. accuracy,precision, recall, F1-score)"
   ]
  },
  {
   "cell_type": "code",
   "execution_count": 19,
   "id": "a4a53fa3-71e5-4878-9317-81219cc8d084",
   "metadata": {},
   "outputs": [
    {
     "name": "stdout",
     "output_type": "stream",
     "text": [
      "Accuracy = 1.00\n"
     ]
    }
   ],
   "source": [
    "from sklearn.metrics import accuracy_score\n",
    "\n",
    "print('Accuracy = %.2f'%accuracy_score(y_test,y_pred))"
   ]
  },
  {
   "cell_type": "code",
   "execution_count": 20,
   "id": "dc9309d9-f8a0-450c-86cf-0b80bfb09c0e",
   "metadata": {},
   "outputs": [
    {
     "data": {
      "text/plain": [
       "1.0"
      ]
     },
     "execution_count": 20,
     "metadata": {},
     "output_type": "execute_result"
    }
   ],
   "source": [
    "accuracy_score(y_test,y_pred)"
   ]
  },
  {
   "cell_type": "markdown",
   "id": "c5c83939-3f8b-4fcd-8f19-2d8005b4a05b",
   "metadata": {},
   "source": [
    "# Tune the hyperparameters of the SVC classifier using GridSearchCV or RandomiMedSearchCV to improve its performance"
   ]
  },
  {
   "cell_type": "code",
   "execution_count": 24,
   "id": "f90234f5-d488-4721-aa29-85320f7df91d",
   "metadata": {},
   "outputs": [
    {
     "name": "stderr",
     "output_type": "stream",
     "text": [
      "/opt/conda/lib/python3.10/site-packages/sklearn/model_selection/_validation.py:378: FitFailedWarning: \n",
      "45 fits failed out of a total of 135.\n",
      "The score on these train-test partitions for these parameters will be set to nan.\n",
      "If these failures are not expected, you can try to debug them by setting error_score='raise'.\n",
      "\n",
      "Below are more details about the failures:\n",
      "--------------------------------------------------------------------------------\n",
      "45 fits failed with the following error:\n",
      "Traceback (most recent call last):\n",
      "  File \"/opt/conda/lib/python3.10/site-packages/sklearn/model_selection/_validation.py\", line 686, in _fit_and_score\n",
      "    estimator.fit(X_train, y_train, **fit_params)\n",
      "  File \"/opt/conda/lib/python3.10/site-packages/sklearn/svm/_base.py\", line 180, in fit\n",
      "    self._validate_params()\n",
      "  File \"/opt/conda/lib/python3.10/site-packages/sklearn/base.py\", line 570, in _validate_params\n",
      "    validate_parameter_constraints(\n",
      "  File \"/opt/conda/lib/python3.10/site-packages/sklearn/utils/_param_validation.py\", line 97, in validate_parameter_constraints\n",
      "    raise InvalidParameterError(\n",
      "sklearn.utils._param_validation.InvalidParameterError: The 'kernel' parameter of SVC must be a str among {'sigmoid', 'linear', 'precomputed', 'rbf', 'poly'} or a callable. Got 'polynomial' instead.\n",
      "\n",
      "  warnings.warn(some_fits_failed_message, FitFailedWarning)\n",
      "/opt/conda/lib/python3.10/site-packages/sklearn/model_selection/_search.py:953: UserWarning: One or more of the test scores are non-finite: [0.95              nan 0.83333333 0.95              nan 0.9\n",
      " 0.95              nan 0.85833333 0.95              nan 0.95\n",
      " 0.95              nan 0.93333333 0.95              nan 0.95\n",
      " 0.95833333        nan 0.95       0.95833333        nan 0.93333333\n",
      " 0.95833333        nan 0.94166667]\n",
      "  warnings.warn(\n"
     ]
    },
    {
     "data": {
      "text/plain": [
       "{'C': 10, 'gamma': 0.1, 'kernel': 'linear'}"
      ]
     },
     "execution_count": 24,
     "metadata": {},
     "output_type": "execute_result"
    }
   ],
   "source": [
    "from sklearn.model_selection import GridSearchCV\n",
    "\n",
    "\n",
    "\n",
    "params = {'kernel':['linear','polynomial','rbf'],\n",
    "          'C' : [0.1,1,10],\n",
    "          'gamma': [0.1, 1, 'scale'],\n",
    "         }\n",
    "\n",
    "gsc = GridSearchCV(estimator=svm,param_grid=params,cv=5,scoring='accuracy')\n",
    "\n",
    "gsc.fit(X_train_scaled,y_train)\n",
    "gsc.best_params_"
   ]
  },
  {
   "cell_type": "markdown",
   "id": "78b36c8f-5722-4aa5-ad60-89995a1ee5e2",
   "metadata": {},
   "source": [
    "# Train the tuned classifier on the entire dataset"
   ]
  },
  {
   "cell_type": "code",
   "execution_count": 25,
   "id": "b8a992b8-68e1-4184-8df9-95207e12d769",
   "metadata": {},
   "outputs": [
    {
     "name": "stderr",
     "output_type": "stream",
     "text": [
      "/opt/conda/lib/python3.10/site-packages/sklearn/model_selection/_validation.py:378: FitFailedWarning: \n",
      "45 fits failed out of a total of 135.\n",
      "The score on these train-test partitions for these parameters will be set to nan.\n",
      "If these failures are not expected, you can try to debug them by setting error_score='raise'.\n",
      "\n",
      "Below are more details about the failures:\n",
      "--------------------------------------------------------------------------------\n",
      "45 fits failed with the following error:\n",
      "Traceback (most recent call last):\n",
      "  File \"/opt/conda/lib/python3.10/site-packages/sklearn/model_selection/_validation.py\", line 686, in _fit_and_score\n",
      "    estimator.fit(X_train, y_train, **fit_params)\n",
      "  File \"/opt/conda/lib/python3.10/site-packages/sklearn/svm/_base.py\", line 180, in fit\n",
      "    self._validate_params()\n",
      "  File \"/opt/conda/lib/python3.10/site-packages/sklearn/base.py\", line 570, in _validate_params\n",
      "    validate_parameter_constraints(\n",
      "  File \"/opt/conda/lib/python3.10/site-packages/sklearn/utils/_param_validation.py\", line 97, in validate_parameter_constraints\n",
      "    raise InvalidParameterError(\n",
      "sklearn.utils._param_validation.InvalidParameterError: The 'kernel' parameter of SVC must be a str among {'sigmoid', 'linear', 'precomputed', 'rbf', 'poly'} or a callable. Got 'polynomial' instead.\n",
      "\n",
      "  warnings.warn(some_fits_failed_message, FitFailedWarning)\n",
      "/opt/conda/lib/python3.10/site-packages/sklearn/model_selection/_search.py:953: UserWarning: One or more of the test scores are non-finite: [0.96666667        nan 0.88       0.96666667        nan 0.93333333\n",
      " 0.96666667        nan 0.91333333 0.96666667        nan 0.97333333\n",
      " 0.96666667        nan 0.94666667 0.96666667        nan 0.96666667\n",
      " 0.96              nan 0.97333333 0.96              nan 0.95333333\n",
      " 0.96              nan 0.97333333]\n",
      "  warnings.warn(\n"
     ]
    },
    {
     "data": {
      "text/html": [
       "<style>#sk-container-id-3 {color: black;background-color: white;}#sk-container-id-3 pre{padding: 0;}#sk-container-id-3 div.sk-toggleable {background-color: white;}#sk-container-id-3 label.sk-toggleable__label {cursor: pointer;display: block;width: 100%;margin-bottom: 0;padding: 0.3em;box-sizing: border-box;text-align: center;}#sk-container-id-3 label.sk-toggleable__label-arrow:before {content: \"▸\";float: left;margin-right: 0.25em;color: #696969;}#sk-container-id-3 label.sk-toggleable__label-arrow:hover:before {color: black;}#sk-container-id-3 div.sk-estimator:hover label.sk-toggleable__label-arrow:before {color: black;}#sk-container-id-3 div.sk-toggleable__content {max-height: 0;max-width: 0;overflow: hidden;text-align: left;background-color: #f0f8ff;}#sk-container-id-3 div.sk-toggleable__content pre {margin: 0.2em;color: black;border-radius: 0.25em;background-color: #f0f8ff;}#sk-container-id-3 input.sk-toggleable__control:checked~div.sk-toggleable__content {max-height: 200px;max-width: 100%;overflow: auto;}#sk-container-id-3 input.sk-toggleable__control:checked~label.sk-toggleable__label-arrow:before {content: \"▾\";}#sk-container-id-3 div.sk-estimator input.sk-toggleable__control:checked~label.sk-toggleable__label {background-color: #d4ebff;}#sk-container-id-3 div.sk-label input.sk-toggleable__control:checked~label.sk-toggleable__label {background-color: #d4ebff;}#sk-container-id-3 input.sk-hidden--visually {border: 0;clip: rect(1px 1px 1px 1px);clip: rect(1px, 1px, 1px, 1px);height: 1px;margin: -1px;overflow: hidden;padding: 0;position: absolute;width: 1px;}#sk-container-id-3 div.sk-estimator {font-family: monospace;background-color: #f0f8ff;border: 1px dotted black;border-radius: 0.25em;box-sizing: border-box;margin-bottom: 0.5em;}#sk-container-id-3 div.sk-estimator:hover {background-color: #d4ebff;}#sk-container-id-3 div.sk-parallel-item::after {content: \"\";width: 100%;border-bottom: 1px solid gray;flex-grow: 1;}#sk-container-id-3 div.sk-label:hover label.sk-toggleable__label {background-color: #d4ebff;}#sk-container-id-3 div.sk-serial::before {content: \"\";position: absolute;border-left: 1px solid gray;box-sizing: border-box;top: 0;bottom: 0;left: 50%;z-index: 0;}#sk-container-id-3 div.sk-serial {display: flex;flex-direction: column;align-items: center;background-color: white;padding-right: 0.2em;padding-left: 0.2em;position: relative;}#sk-container-id-3 div.sk-item {position: relative;z-index: 1;}#sk-container-id-3 div.sk-parallel {display: flex;align-items: stretch;justify-content: center;background-color: white;position: relative;}#sk-container-id-3 div.sk-item::before, #sk-container-id-3 div.sk-parallel-item::before {content: \"\";position: absolute;border-left: 1px solid gray;box-sizing: border-box;top: 0;bottom: 0;left: 50%;z-index: -1;}#sk-container-id-3 div.sk-parallel-item {display: flex;flex-direction: column;z-index: 1;position: relative;background-color: white;}#sk-container-id-3 div.sk-parallel-item:first-child::after {align-self: flex-end;width: 50%;}#sk-container-id-3 div.sk-parallel-item:last-child::after {align-self: flex-start;width: 50%;}#sk-container-id-3 div.sk-parallel-item:only-child::after {width: 0;}#sk-container-id-3 div.sk-dashed-wrapped {border: 1px dashed gray;margin: 0 0.4em 0.5em 0.4em;box-sizing: border-box;padding-bottom: 0.4em;background-color: white;}#sk-container-id-3 div.sk-label label {font-family: monospace;font-weight: bold;display: inline-block;line-height: 1.2em;}#sk-container-id-3 div.sk-label-container {text-align: center;}#sk-container-id-3 div.sk-container {/* jupyter's `normalize.less` sets `[hidden] { display: none; }` but bootstrap.min.css set `[hidden] { display: none !important; }` so we also need the `!important` here to be able to override the default hidden behavior on the sphinx rendered scikit-learn.org. See: https://github.com/scikit-learn/scikit-learn/issues/21755 */display: inline-block !important;position: relative;}#sk-container-id-3 div.sk-text-repr-fallback {display: none;}</style><div id=\"sk-container-id-3\" class=\"sk-top-container\"><div class=\"sk-text-repr-fallback\"><pre>GridSearchCV(cv=5, estimator=SVC(),\n",
       "             param_grid={&#x27;C&#x27;: [0.1, 1, 10], &#x27;gamma&#x27;: [0.1, 1, &#x27;scale&#x27;],\n",
       "                         &#x27;kernel&#x27;: [&#x27;linear&#x27;, &#x27;polynomial&#x27;, &#x27;rbf&#x27;]},\n",
       "             scoring=&#x27;accuracy&#x27;)</pre><b>In a Jupyter environment, please rerun this cell to show the HTML representation or trust the notebook. <br />On GitHub, the HTML representation is unable to render, please try loading this page with nbviewer.org.</b></div><div class=\"sk-container\" hidden><div class=\"sk-item sk-dashed-wrapped\"><div class=\"sk-label-container\"><div class=\"sk-label sk-toggleable\"><input class=\"sk-toggleable__control sk-hidden--visually\" id=\"sk-estimator-id-3\" type=\"checkbox\" ><label for=\"sk-estimator-id-3\" class=\"sk-toggleable__label sk-toggleable__label-arrow\">GridSearchCV</label><div class=\"sk-toggleable__content\"><pre>GridSearchCV(cv=5, estimator=SVC(),\n",
       "             param_grid={&#x27;C&#x27;: [0.1, 1, 10], &#x27;gamma&#x27;: [0.1, 1, &#x27;scale&#x27;],\n",
       "                         &#x27;kernel&#x27;: [&#x27;linear&#x27;, &#x27;polynomial&#x27;, &#x27;rbf&#x27;]},\n",
       "             scoring=&#x27;accuracy&#x27;)</pre></div></div></div><div class=\"sk-parallel\"><div class=\"sk-parallel-item\"><div class=\"sk-item\"><div class=\"sk-label-container\"><div class=\"sk-label sk-toggleable\"><input class=\"sk-toggleable__control sk-hidden--visually\" id=\"sk-estimator-id-4\" type=\"checkbox\" ><label for=\"sk-estimator-id-4\" class=\"sk-toggleable__label sk-toggleable__label-arrow\">estimator: SVC</label><div class=\"sk-toggleable__content\"><pre>SVC()</pre></div></div></div><div class=\"sk-serial\"><div class=\"sk-item\"><div class=\"sk-estimator sk-toggleable\"><input class=\"sk-toggleable__control sk-hidden--visually\" id=\"sk-estimator-id-5\" type=\"checkbox\" ><label for=\"sk-estimator-id-5\" class=\"sk-toggleable__label sk-toggleable__label-arrow\">SVC</label><div class=\"sk-toggleable__content\"><pre>SVC()</pre></div></div></div></div></div></div></div></div></div></div>"
      ],
      "text/plain": [
       "GridSearchCV(cv=5, estimator=SVC(),\n",
       "             param_grid={'C': [0.1, 1, 10], 'gamma': [0.1, 1, 'scale'],\n",
       "                         'kernel': ['linear', 'polynomial', 'rbf']},\n",
       "             scoring='accuracy')"
      ]
     },
     "execution_count": 25,
     "metadata": {},
     "output_type": "execute_result"
    }
   ],
   "source": [
    "gsc.fit(scaler.transform(X),y)"
   ]
  },
  {
   "cell_type": "markdown",
   "id": "aace78be-1c38-4b09-9cfe-ecdff26e39a1",
   "metadata": {},
   "source": [
    "# Save the trained classifier to a file for future use."
   ]
  },
  {
   "cell_type": "code",
   "execution_count": 30,
   "id": "dd132dee-8d23-4a40-b157-ea1696403301",
   "metadata": {},
   "outputs": [],
   "source": [
    "import pickle\n",
    "\n",
    "file_name = 'svm.pkl'\n",
    "\n",
    "with open(file_name,'wb') as f:\n",
    "    pickle.dump(gsc.best_estimator_,f)"
   ]
  },
  {
   "cell_type": "code",
   "execution_count": null,
   "id": "49aaa120-c810-4ce4-8da0-00c7269b8b02",
   "metadata": {},
   "outputs": [],
   "source": []
  }
 ],
 "metadata": {
  "kernelspec": {
   "display_name": "Python 3 (ipykernel)",
   "language": "python",
   "name": "python3"
  },
  "language_info": {
   "codemirror_mode": {
    "name": "ipython",
    "version": 3
   },
   "file_extension": ".py",
   "mimetype": "text/x-python",
   "name": "python",
   "nbconvert_exporter": "python",
   "pygments_lexer": "ipython3",
   "version": "3.10.8"
  }
 },
 "nbformat": 4,
 "nbformat_minor": 5
}
