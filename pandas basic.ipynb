{
 "cells": [
  {
   "cell_type": "markdown",
   "id": "1bb4da23-b950-4d11-bd2f-66d51584d384",
   "metadata": {},
   "source": [
    "# Q1. Create a Pandas Series that contains the following data: 4, 8, 15, 16, 23, and 42. Then, print the series."
   ]
  },
  {
   "cell_type": "code",
   "execution_count": 1,
   "id": "a556d7fb-2530-44fc-ba5a-63148d8e0b29",
   "metadata": {},
   "outputs": [
    {
     "name": "stdout",
     "output_type": "stream",
     "text": [
      "0     4\n",
      "1     8\n",
      "2    15\n",
      "3    16\n",
      "4    23\n",
      "5    42\n",
      "dtype: int64\n"
     ]
    }
   ],
   "source": [
    "import pandas as pd\n",
    "\n",
    "series = pd.Series([4, 8, 15, 16, 23, 42])\n",
    "print(series)"
   ]
  },
  {
   "cell_type": "markdown",
   "id": "d4bfff62-713a-4179-a162-26d85c95e0ee",
   "metadata": {},
   "source": [
    "# Q2. Create a variable of list type containing 10 elements in it, and apply pandas.Series function on the variable print it."
   ]
  },
  {
   "cell_type": "code",
   "execution_count": 3,
   "id": "c56fd00e-5c1d-4268-b133-9c7ad32c7a3b",
   "metadata": {},
   "outputs": [
    {
     "name": "stdout",
     "output_type": "stream",
     "text": [
      "0     1\n",
      "1     2\n",
      "2     3\n",
      "3     4\n",
      "4     5\n",
      "5     6\n",
      "6     7\n",
      "7     8\n",
      "8     9\n",
      "9    10\n",
      "dtype: int64\n"
     ]
    }
   ],
   "source": [
    "a=[1,2,3,4,5,6,7,8,9,10]\n",
    "series = pd.Series(a)\n",
    "print(series)"
   ]
  },
  {
   "cell_type": "markdown",
   "id": "5616a940-c29e-4feb-9c1c-4f06bbd8e7df",
   "metadata": {},
   "source": [
    "# Q3. Create a Pandas DataFrame that contains the following data: Then, print the DataFrame."
   ]
  },
  {
   "cell_type": "code",
   "execution_count": 4,
   "id": "79b1c39f-806f-407a-8728-ae5e1d9950ac",
   "metadata": {},
   "outputs": [
    {
     "data": {
      "text/html": [
       "<div>\n",
       "<style scoped>\n",
       "    .dataframe tbody tr th:only-of-type {\n",
       "        vertical-align: middle;\n",
       "    }\n",
       "\n",
       "    .dataframe tbody tr th {\n",
       "        vertical-align: top;\n",
       "    }\n",
       "\n",
       "    .dataframe thead th {\n",
       "        text-align: right;\n",
       "    }\n",
       "</style>\n",
       "<table border=\"1\" class=\"dataframe\">\n",
       "  <thead>\n",
       "    <tr style=\"text-align: right;\">\n",
       "      <th></th>\n",
       "      <th>Name</th>\n",
       "      <th>Age</th>\n",
       "      <th>Gender</th>\n",
       "    </tr>\n",
       "  </thead>\n",
       "  <tbody>\n",
       "    <tr>\n",
       "      <th>0</th>\n",
       "      <td>Alice</td>\n",
       "      <td>25</td>\n",
       "      <td>Female</td>\n",
       "    </tr>\n",
       "    <tr>\n",
       "      <th>1</th>\n",
       "      <td>Bob</td>\n",
       "      <td>30</td>\n",
       "      <td>Male</td>\n",
       "    </tr>\n",
       "    <tr>\n",
       "      <th>2</th>\n",
       "      <td>Claire</td>\n",
       "      <td>27</td>\n",
       "      <td>Female</td>\n",
       "    </tr>\n",
       "  </tbody>\n",
       "</table>\n",
       "</div>"
      ],
      "text/plain": [
       "     Name  Age  Gender\n",
       "0   Alice   25  Female\n",
       "1     Bob   30    Male\n",
       "2  Claire   27  Female"
      ]
     },
     "execution_count": 4,
     "metadata": {},
     "output_type": "execute_result"
    }
   ],
   "source": [
    "data = {'Name':['Alice','Bob','Claire'],\n",
    "        'Age':[25,30,27],\n",
    "        'Gender':['Female','Male','Female']\n",
    "       }\n",
    "\n",
    "df = pd.DataFrame(data)\n",
    "df"
   ]
  },
  {
   "cell_type": "markdown",
   "id": "8ac2bb22-c606-47da-97fa-9eb9a7509867",
   "metadata": {},
   "source": [
    "# Q4. What is ‘DataFrame’ in pandas and how is it different from pandas.series? Explain with an example.\n",
    "In the pandas library, a DataFrame is a two-dimensional data structure that represents tabular data, similar to a table in a relational database or a spreadsheet. It is a primary data structure used for data manipulation and analysis. A DataFrame consists of rows and columns, where each column can have a different data type (such as numeric, string, boolean, etc.). It is a powerful tool for handling and organizing structured data.\n",
    "\n",
    "On the other hand, a Series is a one-dimensional labeled array in pandas. It can be thought of as a single column of a DataFrame. Each element in a Series is associated with a unique index label. Series are commonly used for representing a single variable or a column of data. They can hold homogeneous data types."
   ]
  },
  {
   "cell_type": "code",
   "execution_count": 7,
   "id": "7082bee7-418d-43b8-a182-ab6fea14c08d",
   "metadata": {},
   "outputs": [
    {
     "name": "stdout",
     "output_type": "stream",
     "text": [
      "   Name  Age      City\n",
      "0  John   25  New York\n",
      "1  Jane   30    London\n",
      "2  Mike   35     Paris\n",
      "\n",
      "0    10\n",
      "1    20\n",
      "2    30\n",
      "3    40\n",
      "4    50\n",
      "dtype: int64\n"
     ]
    }
   ],
   "source": [
    "data = {'Name': ['John', 'Jane', 'Mike'],\n",
    "        'Age': [25, 30, 35],\n",
    "        'City': ['New York', 'London', 'Paris']}\n",
    "df = pd.DataFrame(data)\n",
    "\n",
    "print(df)\n",
    "print()\n",
    "data = pd.Series([10, 20, 30, 40, 50])\n",
    "print(data)"
   ]
  },
  {
   "cell_type": "markdown",
   "id": "a096dcda-2946-4d1c-945e-d851a35c3581",
   "metadata": {},
   "source": [
    "# Q5. What are some common functions you can use to manipulate data in a Pandas DataFrame? Can you give an example of when you might use one of these functions?\n",
    "\n",
    "- head() and tail(): These functions allow you to view the first few rows (head()) or the last few rows (tail()) of a DataFrame. They are useful for quickly inspecting the structure and contents of the data.\n",
    "\n",
    "- describe(): This function generates descriptive statistics of the numerical columns in the DataFrame, such as count, mean, standard deviation, minimum, maximum, and quartile values. It provides insights into the distribution and summary of the data.\n",
    "\n",
    "- fillna(): This function fills missing or NaN (Not a Number) values in the DataFrame with a specified value or using various filling techniques like forward filling or backward filling.\n",
    "\n",
    "- drop(): This function allows you to remove specific rows or columns from the DataFrame. It is useful for eliminating unnecessary or redundant data."
   ]
  },
  {
   "cell_type": "markdown",
   "id": "54275332-0b94-4817-989e-e2c89ea0b0a4",
   "metadata": {},
   "source": [
    "# Q6. Which of the following is mutable in nature Series, DataFrame, Panel?\n",
    "\n",
    "- Series: A Series is mutable, meaning its values can be modified after creation. You can change, update, or add values to a Series using indexing or assignment operations.\n",
    "\n",
    "- DataFrame: Similar to Series, a DataFrame is mutable. You can modify its values, add or remove columns, and perform various operations to manipulate the data within the DataFrame.\n",
    "\n",
    "- Panel: In contrast, a Panel is not mutable. It is a three-dimensional data structure that is similar to a DataFrame but with an additional axis. "
   ]
  },
  {
   "cell_type": "markdown",
   "id": "c2bc49e2-2d60-4015-a004-3f3bb5803b5f",
   "metadata": {},
   "source": [
    "# Q7. Create a DataFrame using multiple Series. Explain with an example.\n",
    "\n",
    "To create a DataFrame using multiple Series in pandas, you can pass a dictionary of Series objects to the DataFrame constructor. Each Series will represent a column in the DataFrame, and the keys of the dictionary will become the column names.\n"
   ]
  },
  {
   "cell_type": "code",
   "execution_count": 10,
   "id": "2474565a-d5b0-4283-b271-2ec666f2f77a",
   "metadata": {},
   "outputs": [
    {
     "data": {
      "text/html": [
       "<div>\n",
       "<style scoped>\n",
       "    .dataframe tbody tr th:only-of-type {\n",
       "        vertical-align: middle;\n",
       "    }\n",
       "\n",
       "    .dataframe tbody tr th {\n",
       "        vertical-align: top;\n",
       "    }\n",
       "\n",
       "    .dataframe thead th {\n",
       "        text-align: right;\n",
       "    }\n",
       "</style>\n",
       "<table border=\"1\" class=\"dataframe\">\n",
       "  <thead>\n",
       "    <tr style=\"text-align: right;\">\n",
       "      <th></th>\n",
       "      <th>Name</th>\n",
       "      <th>Age</th>\n",
       "      <th>City</th>\n",
       "    </tr>\n",
       "  </thead>\n",
       "  <tbody>\n",
       "    <tr>\n",
       "      <th>0</th>\n",
       "      <td>John</td>\n",
       "      <td>25</td>\n",
       "      <td>New York</td>\n",
       "    </tr>\n",
       "    <tr>\n",
       "      <th>1</th>\n",
       "      <td>Jane</td>\n",
       "      <td>30</td>\n",
       "      <td>London</td>\n",
       "    </tr>\n",
       "    <tr>\n",
       "      <th>2</th>\n",
       "      <td>Mike</td>\n",
       "      <td>35</td>\n",
       "      <td>Paris</td>\n",
       "    </tr>\n",
       "  </tbody>\n",
       "</table>\n",
       "</div>"
      ],
      "text/plain": [
       "   Name  Age      City\n",
       "0  John   25  New York\n",
       "1  Jane   30    London\n",
       "2  Mike   35     Paris"
      ]
     },
     "execution_count": 10,
     "metadata": {},
     "output_type": "execute_result"
    }
   ],
   "source": [
    "name = pd.Series( ['John', 'Jane', 'Mike'])\n",
    "age = pd.Series( [25, 30, 35])\n",
    "city = pd.Series(['New York', 'London', 'Paris'])\n",
    "df = pd.DataFrame({'Name':name,'Age':age,'City':city})\n",
    "df"
   ]
  }
 ],
 "metadata": {
  "kernelspec": {
   "display_name": "Python 3 (ipykernel)",
   "language": "python",
   "name": "python3"
  },
  "language_info": {
   "codemirror_mode": {
    "name": "ipython",
    "version": 3
   },
   "file_extension": ".py",
   "mimetype": "text/x-python",
   "name": "python",
   "nbconvert_exporter": "python",
   "pygments_lexer": "ipython3",
   "version": "3.10.8"
  }
 },
 "nbformat": 4,
 "nbformat_minor": 5
}
