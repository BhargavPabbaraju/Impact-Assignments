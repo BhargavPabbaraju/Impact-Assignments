{
 "cells": [
  {
   "cell_type": "markdown",
   "metadata": {},
   "source": [
    "# Q1. Explain GET and POST methods.\n",
    "GET and POST are two common HTTP methods used in web communication. They define the way data is sent and received between a client (e.g., a web browser) and a server.\n",
    "\n",
    "GET Method:\n",
    "- The GET method is used to retrieve or fetch data from a server.\n",
    "- When a client sends a GET request, the parameters and data are appended to the URL as query parameters.\n",
    "- GET requests are typically used to retrieve information from a server without modifying or altering it.\n",
    "- It is a safe and idempotent method, meaning it should not have any side effects on the server.\n",
    "- GET requests can be cached by browsers, and the response can be bookmarked or shared.\n",
    "\n",
    "POST Method:\n",
    "- The POST method is used to submit or send data to the server.\n",
    "- When a client sends a POST request, the data is sent in the body of the request, separate from the URL.\n",
    "- POST requests are used to create, update, or modify data on the server.\n",
    "- It is not a safe or idempotent method since multiple identical POST requests may have different outcomes.\n",
    "- POST requests are not cached by browsers, and the response should not be bookmarked or shared."
   ]
  },
  {
   "cell_type": "markdown",
   "metadata": {},
   "source": [
    "# Q2. Why is request used in Flask?\n",
    "The request object in Flask is used to handle incoming HTTP requests made to the Flask application. It provides access to the data and information sent by the client (e.g., web browser) in the request, such as form data, query parameters, headers, cookies, and more.\n",
    "\n",
    "The request object allows developers to extract and utilize the data from the request to make decisions, process the data, and generate appropriate responses. It provides several methods and attributes to access different parts of the request, including:\n",
    "\n",
    "1. request.form - A dictionary-like object containing the form data submitted in a POST request.\n",
    "2. request.args - A dictionary-like object containing the query parameters from the URL.\n",
    "3. request.headers - A dictionary-like object containing the headers sent with the request.\n",
    "4. request.cookies - A dictionary-like object containing the cookies sent with the request.\n",
    "5. request.method - The HTTP method used in the request (e.g., GET, POST, PUT, DELETE).\n",
    "6. request.path - The path portion of the URL.\n",
    "7. request.files - A dictionary-like object containing uploaded files from a POST request.\n",
    "\n",
    "By accessing the request object, developers can handle and process the incoming data, validate user input, authenticate users, and perform various operations based on the specifics of the request. It allows Flask applications to interact with and respond to client requests effectively."
   ]
  },
  {
   "cell_type": "markdown",
   "metadata": {},
   "source": [
    "# Q3. Why is redirect() used in Flask?\n",
    "The redirect() function in Flask is used to redirect the client's web browser to a different URL. It is primarily used to perform a server-side redirect, where the Flask application instructs the client to navigate to a different page.\n",
    "\n",
    "There are several scenarios where redirect() is commonly used:\n",
    "\n",
    "1. After a form submission: When a user submits a form, the server-side code may process the form data and then redirect the user to a different page, such as a success message or a different section of the website.\n",
    "\n",
    "2. Authentication and authorization: When a user tries to access a restricted resource without proper authentication or authorization, the server can redirect them to a login page or an access denied page.\n",
    "\n",
    "3. URL manipulation: If a user accesses a URL that has changed or is no longer valid, the server can redirect them to the correct or updated URL.\n",
    "\n",
    "4. Dynamic routing: In some cases, the server may dynamically generate URLs and redirect the user to the appropriate URL based on certain conditions or parameters.\n",
    "\n",
    "The redirect() function takes a URL as an argument and returns a response object with a redirect status code (HTTP 302). When the client receives this response, it automatically sends a new request to the specified URL, resulting in the browser navigating to the new page.\n",
    "\n",
    "By using redirect() in Flask, developers can guide users to the appropriate pages, provide feedback after form submissions, handle authentication and authorization flows, and manage URL changes or redirects efficiently."
   ]
  },
  {
   "cell_type": "markdown",
   "metadata": {},
   "source": [
    "# Q4. What are templates in Flask? Why is the render_template() function used?\n",
    "Templates in Flask are files that contain HTML markup with placeholders for dynamic content. They provide a way to separate the presentation logic from the application logic in Flask web applications. By using templates, developers can create dynamic web pages that can be easily customized and rendered with data from the Flask application.\n",
    "\n",
    "The render_template() function is used to render a template in Flask. It takes the name of the template file as an argument and returns the rendered HTML content as a response. The render_template() function performs the following tasks:\n",
    "\n",
    "1. Locating the template file: It searches for the specified template file in the templates directory of the Flask application. By default, Flask automatically looks for templates in a folder named \"templates\" in the application's root directory.\n",
    "\n",
    "2. Rendering the template: It processes the template file, replaces the placeholders with the provided data, and generates the final HTML content.\n",
    "\n",
    "3. Returning the response: It returns the rendered HTML content as a response to the client's web browser.\n",
    "\n",
    "The render_template() function is essential because it allows developers to dynamically generate HTML content by combining static HTML markup with dynamic data from the Flask application. It enables the creation of dynamic web pages that can display different content based on user input, database queries, or any other application logic.\n",
    "\n",
    "By using templates and the render_template() function, developers can achieve better separation of concerns, improve code maintainability, and enhance the overall development experience in Flask web applications."
   ]
  },
  {
   "cell_type": "markdown",
   "metadata": {},
   "source": [
    "# Q5. Create a simple API. Use Postman to test it. Attach the screenshot of the output in the Jupyter Notebook.\n"
   ]
  },
  {
   "cell_type": "code",
   "execution_count": null,
   "metadata": {},
   "outputs": [],
   "source": [
    "from flask import Flask,json\n",
    "\n",
    "\n",
    "app = Flask(__name__)\n",
    "\n",
    "\n",
    "@app.route('/')\n",
    "def get_data():\n",
    "    data = {'name': 'John', 'age': 25}\n",
    "    return json.jsonify(data)\n",
    "\n",
    "if __name__==\"__main__\":\n",
    "    app.run(host=\"0.0.0.0\")\n",
    "    \n"
   ]
  },
  {
   "cell_type": "markdown",
   "metadata": {},
   "source": [
    "![SS3](ss3.png)"
   ]
  }
 ],
 "metadata": {
  "kernelspec": {
   "display_name": "Python 3.8.10 64-bit",
   "language": "python",
   "name": "python3"
  },
  "language_info": {
   "name": "python",
   "version": "3.8.10"
  },
  "orig_nbformat": 4,
  "vscode": {
   "interpreter": {
    "hash": "e7370f93d1d0cde622a1f8e1c04877d8463912d04d973331ad4851f04de6915a"
   }
  }
 },
 "nbformat": 4,
 "nbformat_minor": 2
}
