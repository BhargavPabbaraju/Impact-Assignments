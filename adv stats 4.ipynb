{
 "cells": [
  {
   "cell_type": "markdown",
   "id": "efbfde8f-bf6b-4a12-9af9-145432e2cc29",
   "metadata": {},
   "source": [
    "# Q1. Write a Python function that takes in two arrays of data and calculates the F-value for a variance ratio test. The function should return the F-value and the corresponding p-value for the test.\n"
   ]
  },
  {
   "cell_type": "code",
   "execution_count": 1,
   "id": "e6f59998-f257-4831-b9bc-db3d7e0a3936",
   "metadata": {},
   "outputs": [
    {
     "name": "stdout",
     "output_type": "stream",
     "text": [
      "F-value: 0.22984836392657623\n",
      "p-value: 0.6444680305539954\n"
     ]
    }
   ],
   "source": [
    "import numpy as np\n",
    "from scipy.stats import f_oneway\n",
    "\n",
    "def variance_ratio_test(data1, data2):\n",
    "   \n",
    "    data1 = np.array(data1)\n",
    "    data2 = np.array(data2)\n",
    "    \n",
    "\n",
    "    F_statistic, p_value = f_oneway(data1, data2)\n",
    "    \n",
    "    return F_statistic, p_value\n",
    "\n",
    "data1 = [10, 15, 20, 25, 30]\n",
    "data2 = [12, 18, 22, 28, 32]\n",
    "F_value, p_value = variance_ratio_test(data1, data2)\n",
    "print(\"F-value:\", F_value)\n",
    "print(\"p-value:\", p_value)"
   ]
  },
  {
   "cell_type": "markdown",
   "id": "904a8487-6d9d-439a-9eb3-d65330977224",
   "metadata": {},
   "source": [
    "# Q2. Given a significance level of 0.05 and the degrees of freedom for the numerator and denominator of an F-distribution, write a Python function that returns the critical F-value for a two-tailed test."
   ]
  },
  {
   "cell_type": "code",
   "execution_count": 2,
   "id": "6784a253-b21a-4bd9-a7bf-d22f229a0ed1",
   "metadata": {},
   "outputs": [
    {
     "name": "stdout",
     "output_type": "stream",
     "text": [
      "Critical F-value: 4.825621493405406\n"
     ]
    }
   ],
   "source": [
    "from scipy.stats import f\n",
    "\n",
    "def critical_f_value(alpha, dfn, dfd):\n",
    "\n",
    "    critical_value = f.ppf(1 - alpha / 2, dfn, dfd)\n",
    "    \n",
    "    return critical_value\n",
    "alpha = 0.05\n",
    "dfn = 3\n",
    "dfd = 10\n",
    "critical_F = critical_f_value(alpha, dfn, dfd)\n",
    "print(\"Critical F-value:\", critical_F)\n",
    "\n"
   ]
  },
  {
   "cell_type": "markdown",
   "id": "877d911f-8321-4487-ac32-ec67499ae15a",
   "metadata": {},
   "source": [
    "# Q3. Write a Python program that generates random samples from two normal distributions with known variances and uses an F-test to determine if the variances are equal. The program should output the F-value, degrees of freedom, and p-value for the test."
   ]
  },
  {
   "cell_type": "code",
   "execution_count": 3,
   "id": "4f2f7b15-a5c9-4af3-9c14-1ebd12e8612b",
   "metadata": {},
   "outputs": [
    {
     "name": "stdout",
     "output_type": "stream",
     "text": [
      "F-value: 47.65541212274194\n",
      "Degrees of freedom (numerator): 49\n",
      "Degrees of freedom (denominator): 49\n",
      "p-value: 5.086023242292341e-10\n"
     ]
    }
   ],
   "source": [
    "import numpy as np\n",
    "from scipy.stats import f_oneway\n",
    "\n",
    "def generate_random_samples(n_samples, mean1, std1, mean2, std2):\n",
    "    \n",
    "    sample1 = np.random.normal(mean1, std1, n_samples)\n",
    "    sample2 = np.random.normal(mean2, std2, n_samples)\n",
    "    \n",
    "    return sample1, sample2\n",
    "\n",
    "def variance_ratio_test(sample1, sample2):\n",
    " \n",
    "    F_statistic, p_value = f_oneway(sample1, sample2)\n",
    "    \n",
    "    return F_statistic, len(sample1) - 1, len(sample2) - 1, p_value\n",
    "\n",
    "n_samples = 50\n",
    "mean1 = 10\n",
    "std1 = 2\n",
    "mean2 = 12\n",
    "std2 = 2.5\n",
    "\n",
    "sample1, sample2 = generate_random_samples(n_samples, mean1, std1, mean2, std2)\n",
    "F_value, dfn, dfd, p_value = variance_ratio_test(sample1, sample2)\n",
    "\n",
    "print(\"F-value:\", F_value)\n",
    "print(\"Degrees of freedom (numerator):\", dfn)\n",
    "print(\"Degrees of freedom (denominator):\", dfd)\n",
    "print(\"p-value:\", p_value)\n",
    "\n",
    "\n",
    "\n",
    "\n",
    "\n"
   ]
  },
  {
   "cell_type": "markdown",
   "id": "47ef176c-9e54-4047-9402-d22f8c98a5e4",
   "metadata": {},
   "source": [
    "# Q4.The variances of two populations are known to be 10 and 15. A sample of 12 observations is taken from each population. Conduct an F-test at the 5% significance level to determine if the variances are significantly different.\n"
   ]
  },
  {
   "cell_type": "code",
   "execution_count": 4,
   "id": "38f37c75-1423-4149-b2b0-d9b4d199f1d8",
   "metadata": {},
   "outputs": [
    {
     "name": "stdout",
     "output_type": "stream",
     "text": [
      "The variances are not significantly different.\n"
     ]
    }
   ],
   "source": [
    "variance1 = 10\n",
    "variance2 = 15\n",
    "\n",
    "n = 12\n",
    "\n",
    "sample_var1 = 11.5\n",
    "sample_var2 = 17.2\n",
    "\n",
    "\n",
    "F = sample_var1 / sample_var2\n",
    "\n",
    "\n",
    "dfn = n - 1\n",
    "dfd = n - 1\n",
    "\n",
    "\n",
    "critical_F = 2.92\n",
    "\n",
    "if F > critical_F:\n",
    "    print(\"The variances are significantly different.\")\n",
    "else:\n",
    "    print(\"The variances are not significantly different.\")"
   ]
  },
  {
   "cell_type": "markdown",
   "id": "0d632bd6-5c5f-40f9-be78-00e16d38452b",
   "metadata": {},
   "source": [
    "# Q5. A manufacturer claims that the variance of the diameter of a certain product is 0.005. A sample of 25 products is taken, and the sample variance is found to be 0.006. Conduct an F-test at the 1% significance level to determine if the claim is justified."
   ]
  },
  {
   "cell_type": "code",
   "execution_count": 5,
   "id": "03238c1b-8f2d-46cf-838f-248efcf8f628",
   "metadata": {},
   "outputs": [
    {
     "name": "stdout",
     "output_type": "stream",
     "text": [
      "The manufacturer's claim is justified.\n"
     ]
    }
   ],
   "source": [
    "claimed_variance = 0.005\n",
    "sample_variance = 0.006\n",
    "\n",
    "n = 25\n",
    "\n",
    "F = sample_variance / claimed_variance\n",
    "\n",
    "\n",
    "dfn = n - 1\n",
    "dfd = 1\n",
    "\n",
    "critical_F = 6.63\n",
    "\n",
    "if F >= critical_F:\n",
    "    print(\"The manufacturer's claim is not justified.\")\n",
    "else:\n",
    "    print(\"The manufacturer's claim is justified.\")\n",
    "\n",
    "\n"
   ]
  },
  {
   "cell_type": "markdown",
   "id": "d290ba41-b837-4dc2-9da8-c7956d75c400",
   "metadata": {},
   "source": [
    "# Q6. Write a Python function that takes in the degrees of freedom for the numerator and denominator of an F-distribution and calculates the mean and variance of the distribution. The function should return the mean and variance as a tuple."
   ]
  },
  {
   "cell_type": "code",
   "execution_count": 6,
   "id": "396d5ff9-99e5-4856-94bf-51cd63c0d6df",
   "metadata": {},
   "outputs": [
    {
     "name": "stdout",
     "output_type": "stream",
     "text": [
      "Mean of the F-distribution: 1.25\n",
      "Variance of the F-distribution: 1.9097222222222223\n"
     ]
    }
   ],
   "source": [
    "def f_distribution_mean_and_variance(dfn, dfd):\n",
    "\n",
    "    mean = dfd / (dfd - 2)\n",
    "\n",
    "   \n",
    "    variance = (2 * dfd**2 * (dfn + dfd - 2)) / (dfn * (dfd - 2)**2 * (dfd - 4))\n",
    "\n",
    "    return mean, variance\n",
    "\n",
    "\n",
    "dfn = 3\n",
    "dfd = 10\n",
    "mean, variance = f_distribution_mean_and_variance(dfn, dfd)\n",
    "print(\"Mean of the F-distribution:\", mean)\n",
    "print(\"Variance of the F-distribution:\", variance)\n",
    "\n"
   ]
  },
  {
   "cell_type": "markdown",
   "id": "6445390b-38d1-41dd-a83e-aefd3692007d",
   "metadata": {},
   "source": [
    "# Q7. A random sample of 10 measurements is taken from a normal population with unknown variance. The sample variance is found to be 25. Another random sample of 15 measurements is taken from another normal population with unknown variance, and the sample variance is found to be 20. Conduct an F-test at the 10% significance level to determine if the variances are significantly different."
   ]
  },
  {
   "cell_type": "code",
   "execution_count": 7,
   "id": "b621fc8e-b1c2-4e7d-9622-d6832d2943e0",
   "metadata": {},
   "outputs": [
    {
     "name": "stdout",
     "output_type": "stream",
     "text": [
      "The variances are not significantly different.\n"
     ]
    }
   ],
   "source": [
    "sample_variance1 = 25\n",
    "sample_variance2 = 20\n",
    "\n",
    "n1 = 10\n",
    "n2 = 15\n",
    "\n",
    "\n",
    "F = sample_variance1 / sample_variance2\n",
    "\n",
    "\n",
    "dfn = n1 - 1\n",
    "dfd = n2 - 1\n",
    "\n",
    "\n",
    "critical_F = 2.77\n",
    "\n",
    "if F > critical_F:\n",
    "    print(\"The variances are significantly different.\")\n",
    "else:\n",
    "    print(\"The variances are not significantly different.\")"
   ]
  },
  {
   "cell_type": "markdown",
   "id": "8d469350-e7ff-4bf4-88ee-dc95f15b6176",
   "metadata": {
    "tags": []
   },
   "source": [
    "# Q8. The following data represent the waiting times in minutes at two different restaurants on a Saturday night: Restaurant A: 24, 25, 28, 23, 22, 20, 27; Restaurant B: 31, 33, 35, 30, 32, 36. Conduct an F-test at the 5% significance level to determine if the variances are significantly different."
   ]
  },
  {
   "cell_type": "code",
   "execution_count": 8,
   "id": "690b8d41-7751-4cb9-920c-fdb250558139",
   "metadata": {},
   "outputs": [
    {
     "name": "stdout",
     "output_type": "stream",
     "text": [
      "The variances are not significantly different.\n"
     ]
    }
   ],
   "source": [
    "import numpy as np\n",
    "from scipy.stats import f\n",
    "\n",
    "\n",
    "data_A = np.array([24, 25, 28, 23, 22, 20, 27])\n",
    "data_B = np.array([31, 33, 35, 30, 32, 36])\n",
    "\n",
    "\n",
    "sample_variance_A = np.var(data_A, ddof=1)\n",
    "sample_variance_B = np.var(data_B, ddof=1)\n",
    "\n",
    "\n",
    "F = sample_variance_A / sample_variance_B\n",
    "\n",
    "\n",
    "dfn = len(data_A) - 1\n",
    "dfd = len(data_B) - 1\n",
    "\n",
    "critical_F = f.ppf(1 - 0.05, dfn, dfd)\n",
    "\n",
    "\n",
    "if F > critical_F:\n",
    "    print(\"The variances are significantly different.\")\n",
    "else:\n",
    "    print(\"The variances are not significantly different.\")"
   ]
  },
  {
   "cell_type": "markdown",
   "id": "87e40fa4-3ef1-43dd-8e19-4db052da21d1",
   "metadata": {},
   "source": [
    "# Q9. The following data represent the test scores of two groups of students: Group A: 80, 85, 90, 92, 87, 83; Group B: 75, 78, 82, 79, 81, 84. Conduct an F-test at the 1% significance level to determine if the variances are significantly different."
   ]
  },
  {
   "cell_type": "code",
   "execution_count": 9,
   "id": "a684a5f2-d9ff-420a-87ee-40f4fcb1117f",
   "metadata": {},
   "outputs": [
    {
     "name": "stdout",
     "output_type": "stream",
     "text": [
      "The variances are not significantly different.\n"
     ]
    }
   ],
   "source": [
    "import numpy as np\n",
    "from scipy.stats import f\n",
    "\n",
    "\n",
    "data_A = np.array([80, 85, 90, 92, 87, 83])\n",
    "data_B = np.array([75, 78, 82, 79, 81, 84])\n",
    "\n",
    "\n",
    "sample_variance_A = np.var(data_A, ddof=1)\n",
    "sample_variance_B = np.var(data_B, ddof=1)\n",
    "\n",
    "F = sample_variance_A / sample_variance_B\n",
    "\n",
    "\n",
    "dfn = len(data_A) - 1\n",
    "dfd = len(data_B) - 1\n",
    "\n",
    "critical_F = f.ppf(1 - 0.01, dfn, dfd)\n",
    "\n",
    "if F > critical_F:\n",
    "    print(\"The variances are significantly different.\")\n",
    "else:\n",
    "    print(\"The variances are not significantly different.\")\n",
    "\n",
    "\n"
   ]
  }
 ],
 "metadata": {
  "kernelspec": {
   "display_name": "Python 3 (ipykernel)",
   "language": "python",
   "name": "python3"
  },
  "language_info": {
   "codemirror_mode": {
    "name": "ipython",
    "version": 3
   },
   "file_extension": ".py",
   "mimetype": "text/x-python",
   "name": "python",
   "nbconvert_exporter": "python",
   "pygments_lexer": "ipython3",
   "version": "3.10.8"
  }
 },
 "nbformat": 4,
 "nbformat_minor": 5
}
