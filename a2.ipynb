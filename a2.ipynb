{
 "cells": [
  {
   "cell_type": "markdown",
   "id": "3f35f060-b521-499b-9466-0c55ac41723e",
   "metadata": {},
   "source": [
    "# Q1. How do you comment code in Python? What are the different types of comments?"
   ]
  },
  {
   "cell_type": "markdown",
   "id": "a3e3d998-352a-4af2-9c1e-aa09a3af40bf",
   "metadata": {},
   "source": [
    "There are two types of comments in Python.\n",
    "    - Single Line Comment\n",
    "    - Multi-Line Comment"
   ]
  },
  {
   "cell_type": "markdown",
   "id": "6b82b0a9-bbec-410e-b99c-442edfb5f126",
   "metadata": {},
   "source": [
    "## Single Line Comment\n",
    "Single Line comments can be added in Python by starting the comment line with a '#'. The comment will only be for one line.\n"
   ]
  },
  {
   "cell_type": "code",
   "execution_count": null,
   "id": "935b3d61-20d1-4a72-8e53-12acf13a238c",
   "metadata": {},
   "outputs": [],
   "source": [
    "#This is a comment\n",
    "This is not a comment"
   ]
  },
  {
   "cell_type": "markdown",
   "id": "d5b941ac-4a9c-4ca6-9ba5-f334c543e8cf",
   "metadata": {},
   "source": [
    "## Multi-Line Comment\n",
    "Multi-line commets in python can be added by containing the comment within three single quotes (''') or three double quotes(\"\"\") both at the beginning and ending of the comment. This kind of comments will span multiple lines"
   ]
  },
  {
   "cell_type": "code",
   "execution_count": null,
   "id": "2fed6f6f-6428-43c6-b019-30733c9d3a80",
   "metadata": {},
   "outputs": [],
   "source": [
    "'''This\n",
    "is\n",
    "a\n",
    "multi-\n",
    "line\n",
    "comment'''\n",
    "\n",
    "\"\"\"This\n",
    "is \n",
    "also \n",
    "a multi-line\n",
    "comment\n",
    "\"\"\""
   ]
  },
  {
   "cell_type": "markdown",
   "id": "1af6195a-7a4c-4642-ba6f-0580141ea66a",
   "metadata": {},
   "source": [
    "# Q2. What are variables in Python? How do you declare and assign values to variables?"
   ]
  },
  {
   "cell_type": "markdown",
   "id": "4574a436-1c7c-438c-9a51-1b2374383a6b",
   "metadata": {},
   "source": [
    "Variables are used to store and refer to data values in python. They act as containers that hold data of different types, such as numbers, strings, or objects. Variables provide a way to manipulate and work with data in a program.\n",
    "\n",
    "To declare and assign values to variables in Python, just do:\n",
    "    variable_name = value\n",
    "\n",
    "Python does not require specifying data type , it automatically recognizes the data type. All we need to do is just assign the value to the variable."
   ]
  },
  {
   "cell_type": "code",
   "execution_count": null,
   "id": "dbd539ae-1dfe-4fc3-89e5-7687c9fcca65",
   "metadata": {},
   "outputs": [],
   "source": [
    "a = 1\n",
    "string = \"This is a string\"\n",
    "l = [1,2,3,4]"
   ]
  },
  {
   "cell_type": "markdown",
   "id": "384c6723-7d0c-4b83-947b-0890349a4633",
   "metadata": {},
   "source": [
    "# Q3. How do you convert one data type to another in Python?"
   ]
  },
  {
   "cell_type": "markdown",
   "id": "67f03790-06c8-4087-a06a-4eef6de9376f",
   "metadata": {},
   "source": [
    "To convert one data type to another in Python , we can use the type name method. But the data must be compatible in order to convert.\n",
    "\n",
    "For example , a float value can be coverted to int and int value can be converted to float.\n",
    "\n",
    "Strings representing numbers can be converted to int or float respectively.\n",
    "\n",
    "List, Set and Tuples can be converted into each other\n",
    "\n",
    "Any value can be converted to boolean where 0, None and empty string/empty list will convert to False."
   ]
  },
  {
   "cell_type": "code",
   "execution_count": 4,
   "id": "55cc3996-2d10-4abd-bbb0-f59a611de56a",
   "metadata": {},
   "outputs": [],
   "source": [
    "a = str(12)\n",
    "\n",
    "b = int(\"13\")\n",
    "\n",
    "c = float(\"123\")\n",
    "\n",
    "d = int(1.23)\n",
    "\n",
    "e = set([1,2,4,5])\n",
    "\n",
    "f = tuple({1,2,3,4})\n",
    "\n",
    "g = bool(0)\n",
    "\n"
   ]
  },
  {
   "cell_type": "markdown",
   "id": "5e146b4b-4411-471f-b5a2-748ceeebb82b",
   "metadata": {},
   "source": [
    "# Q4. How do you write and execute a Python script from the command line?"
   ]
  },
  {
   "cell_type": "markdown",
   "id": "f983e695-9aa3-4ac1-9181-c645d4d9d571",
   "metadata": {},
   "source": [
    "To execute a Python script from the command line, \n",
    "\n",
    "1. Write the Python script and save the file with \".py\" extension.\n",
    "2. Open a command line interface (e.g., Command Prompt/Power Shell on Windows or Terminal on macOS/Linux).\n",
    "3. Navigate to the directory where you saved the Python script using the cd command. (cd directory)\n",
    "4. Once you are in the correct directory, you can execute the Python script using the python command followed by the script filename.(python file_name.py)"
   ]
  },
  {
   "cell_type": "markdown",
   "id": "9c3e18c7-4050-4891-864e-8902e6f967bb",
   "metadata": {},
   "source": [
    "# Q5. Given a list my_list = [1, 2, 3, 4, 5], write the code to slice the list and obtain the sub-list [2, 3]."
   ]
  },
  {
   "cell_type": "code",
   "execution_count": 5,
   "id": "32ea9661-7594-415e-9648-8d1a786b6c1a",
   "metadata": {},
   "outputs": [
    {
     "name": "stdout",
     "output_type": "stream",
     "text": [
      "[2, 3]\n"
     ]
    }
   ],
   "source": [
    "my_list = [1, 2, 3, 4, 5]\n",
    "print(my_list[1:3])"
   ]
  },
  {
   "cell_type": "markdown",
   "id": "5cedd1cb-f827-49c6-bfbe-0e910ccaf81d",
   "metadata": {},
   "source": [
    "# Q6. What is a complex number in mathematics, and how is it represented in Python?"
   ]
  },
  {
   "cell_type": "markdown",
   "id": "cc7d1076-c343-41e5-928f-b1f5c322f6d3",
   "metadata": {},
   "source": [
    "In Mathematics, square root of negative numbers is not defined. To overcome this, complex numbers were designed to represent these imaginary numbers. Complex numbers have a real part and an imaginary part. They are represented by a+ib where a is the real coefficient and b is the imaginary coefficient and i is square root of -1.\n",
    "\n",
    "In Python, complex numbers are represented by a+bj where a is the real coefficient and b is the imaginary coefficient."
   ]
  },
  {
   "cell_type": "code",
   "execution_count": 6,
   "id": "2e161639-3556-459b-a2c3-744f68ebfca6",
   "metadata": {},
   "outputs": [],
   "source": [
    "a = 3 + 7j # This is a complex number"
   ]
  },
  {
   "cell_type": "markdown",
   "id": "e6fbb18c-f740-485e-a69b-d2f0f7e0fd00",
   "metadata": {},
   "source": [
    "# Q7. What is the correct way to declare a variable named age and assign the value 25 to it?"
   ]
  },
  {
   "cell_type": "code",
   "execution_count": 7,
   "id": "707f2955-6367-496f-af4b-f8fbbf483ad6",
   "metadata": {},
   "outputs": [],
   "source": [
    "age = 25"
   ]
  },
  {
   "cell_type": "markdown",
   "id": "69a01c35-48c9-489e-8539-ddeefafc619e",
   "metadata": {},
   "source": [
    "# Q8. Declare a variable named price and assign the value 9.99 to it. What data type does this variable belong to?\n",
    "This variable belongs to the float type."
   ]
  },
  {
   "cell_type": "code",
   "execution_count": 8,
   "id": "6346175c-37ee-443e-af59-b7eda7bd0ca3",
   "metadata": {},
   "outputs": [
    {
     "name": "stdout",
     "output_type": "stream",
     "text": [
      "<class 'float'>\n"
     ]
    }
   ],
   "source": [
    "price = 9.99\n",
    "print(type(price))"
   ]
  },
  {
   "cell_type": "markdown",
   "id": "91c7f3d9-f808-48e6-9a76-75f50e46c597",
   "metadata": {},
   "source": [
    "# Q9. Create a variable named name and assign your full name to it as a string. How would you print the value of this variable?"
   ]
  },
  {
   "cell_type": "code",
   "execution_count": 9,
   "id": "2ea23749-bc7c-4efc-871e-47d1cc8b103b",
   "metadata": {},
   "outputs": [
    {
     "name": "stdout",
     "output_type": "stream",
     "text": [
      "Bhargav Naga Shyam\n"
     ]
    }
   ],
   "source": [
    "name = \"Bhargav Naga Shyam\"\n",
    "print(name)"
   ]
  },
  {
   "cell_type": "markdown",
   "id": "19454698-0a04-49fd-bf65-23378ebc1357",
   "metadata": {},
   "source": [
    "# Q10. Given the string \"Hello, World!\", extract the substring \"World\"."
   ]
  },
  {
   "cell_type": "code",
   "execution_count": 12,
   "id": "60e4e6bf-ef68-4e2b-89cd-13094e68a924",
   "metadata": {},
   "outputs": [
    {
     "name": "stdout",
     "output_type": "stream",
     "text": [
      "World\n"
     ]
    }
   ],
   "source": [
    "print(\"Hello, World!\"[7:-1])"
   ]
  },
  {
   "cell_type": "markdown",
   "id": "36b7234c-526f-47b8-8c1f-15eec060220d",
   "metadata": {},
   "source": [
    "# Q11. Create a variable named \"is_student\" and assign it a boolean value indicating whether you are currently a student or not."
   ]
  },
  {
   "cell_type": "code",
   "execution_count": 13,
   "id": "38e22a8a-1cb4-43ac-afaf-3a5909b7f559",
   "metadata": {},
   "outputs": [],
   "source": [
    "is_student = True"
   ]
  },
  {
   "cell_type": "code",
   "execution_count": null,
   "id": "8d57cc76-da82-4f1d-80d0-587b69bda66c",
   "metadata": {},
   "outputs": [],
   "source": []
  }
 ],
 "metadata": {
  "kernelspec": {
   "display_name": "Python 3 (ipykernel)",
   "language": "python",
   "name": "python3"
  },
  "language_info": {
   "codemirror_mode": {
    "name": "ipython",
    "version": 3
   },
   "file_extension": ".py",
   "mimetype": "text/x-python",
   "name": "python",
   "nbconvert_exporter": "python",
   "pygments_lexer": "ipython3",
   "version": "3.10.8"
  }
 },
 "nbformat": 4,
 "nbformat_minor": 5
}
