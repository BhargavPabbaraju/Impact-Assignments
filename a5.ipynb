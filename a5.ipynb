{
 "cells": [
  {
   "cell_type": "markdown",
   "id": "56efa858-87b0-4cce-a461-b2315bb926b8",
   "metadata": {},
   "source": [
    "# Q1. Explain Class and Object with respect to Object-Oriented Programming. Give a suitable example.\n",
    "In object-oriented programming (OOP), a class is a blueprint or template for creating objects, while an object is an instance of a class.\n",
    "\n",
    "A class defines the properties (attributes) and behaviors (methods) that objects of that class will possess. It serves as a blueprint for creating multiple objects with similar characteristics. The properties define the state of an object, while the methods define its behavior or the actions it can perform.\n",
    "\n",
    "In summary, a class is a blueprint that defines the properties and behaviors of objects, while an object is an instance of a class that represents a specific entity with its own state and behavior.\n"
   ]
  },
  {
   "cell_type": "code",
   "execution_count": 2,
   "id": "0d06e03b-ee86-4e41-a207-d8c0839bb9cf",
   "metadata": {},
   "outputs": [
    {
     "name": "stdout",
     "output_type": "stream",
     "text": [
      "Pikachu used Thunderbolt causing 100 damage\n",
      "Charizard used Fire Blast causing 110 damage\n"
     ]
    }
   ],
   "source": [
    "#Example\n",
    "class Pokemon:\n",
    "    def __init__(self,name):\n",
    "        self.name = name\n",
    "    \n",
    "    def move(self,move_name,damage):\n",
    "        print(self.name,'used',move_name,'causing',damage,'damage')\n",
    "\n",
    "pikachu = Pokemon('Pikachu')\n",
    "pikachu.move('Thunderbolt',100)\n",
    "charizard = Pokemon('Charizard')\n",
    "charizard.move('Fire Blast',110)"
   ]
  },
  {
   "cell_type": "markdown",
   "id": "aa6d4240-cb4e-497a-8ac4-636b94ceae1a",
   "metadata": {},
   "source": [
    "In the above example , Pokemon is the class and pikachu and charizard are its objects."
   ]
  },
  {
   "cell_type": "markdown",
   "id": "cb82c75d-9746-4dd4-ab75-84c4ad5f4d36",
   "metadata": {},
   "source": [
    "# Q2. Name the four pillars of OOPs.\n",
    "The four pillars of object-oriented programming (OOP) are:\n",
    "\n",
    "- <u>Encapsulation:</u>  Encapsulation is the process of bundling data (attributes) and methods (behaviors) within a class. It hides the internal implementation details of an object and provides access to the object's functionalities through well-defined interfaces. This helps in achieving data protection and code modularity.\n",
    "\n",
    "- <u>Inheritance:</u>  Inheritance is a mechanism that allows a class to inherit the properties and behaviors of another class. It enables code reuse and promotes the creation of a hierarchical relationship between classes. The class that is being inherited from is called the base class or superclass, and the class that inherits from it is called the derived class or subclass. The derived class can extend or override the functionalities inherited from the base class.\n",
    "\n",
    "- <u>Polymorphism:</u>  Polymorphism refers to the ability of objects of different classes to respond in a unique way to the same method or message. It allows objects of different classes to be treated as objects of a common base class. Polymorphism enables code flexibility, modularity, and extensibility. It can be achieved through method overriding and method overloading.\n",
    "\n",
    "\n",
    "- <u>Abstraction:</u>  Abstraction involves representing complex real-world entities as simplified models in software. It focuses on the essential features and behaviors of an object while hiding the unnecessary details. Abstraction allows programmers to create abstract classes and interfaces that define common characteristics and behaviors for a group of related objects. It provides a level of abstraction, allowing developers to work with high-level concepts rather than dealing with low-level implementation details.\n"
   ]
  },
  {
   "cell_type": "markdown",
   "id": "b2f17259-9d4a-46f8-afb3-fb9fe7581415",
   "metadata": {},
   "source": [
    "# Q3. Explain why the __init__() function is used. Give a suitable example.\n",
    "\n",
    "The __init__() function is a special method in Python classes that is automatically called when a new object is created from the class. It is commonly used to initialize the attributes of an object and perform any necessary setup or initialization tasks.\n",
    "\n",
    "The __init__() method is also known as the constructor method, as it constructs or creates the object and sets its initial state by assigning values to its attributes.\n",
    "\n"
   ]
  },
  {
   "cell_type": "code",
   "execution_count": null,
   "id": "ba8e12f1-c435-4b4b-8160-f46b790d8238",
   "metadata": {},
   "outputs": [],
   "source": [
    "#Example\n",
    "class Student:\n",
    "    def __init__(self,name,rollno,marks):\n",
    "        self.name = name\n",
    "        self.rollno = rollno\n",
    "        self.marks = marks\n",
    "    \n",
    "\n",
    "s1 = Student('Bhargav',26,87)"
   ]
  },
  {
   "cell_type": "markdown",
   "id": "65bc411a-af71-40d6-8328-da545bd995cd",
   "metadata": {},
   "source": [
    "# Q4. Why self is used in OOPs?\n",
    "\n",
    "In object-oriented programming (OOP), self is a conventionally used parameter name that refers to the instance of a class. It is used to access the attributes and methods of an object within the class.\n",
    "\n",
    "The self parameter acts as a reference to the object itself. When a method is called on an object, the object is automatically passed as the first argument to that method, and by convention, it is named self. This allows the method to operate on the specific instance of the class to which it belongs and access its attributes and methods.\n",
    "\n",
    "Using self within a class allows us to differentiate between instance variables (attributes specific to an object) and local variables (variables within a specific method). It helps in maintaining the state of an object by allowing access to the object's attributes and modifying them as needed."
   ]
  },
  {
   "cell_type": "markdown",
   "id": "0264f1c8-0bd7-4973-b951-12781c49d282",
   "metadata": {},
   "source": [
    "# Q5. What is inheritance? Give an example for each type of inheritance.\n",
    "Inheritance is a fundamental concept in object-oriented programming (OOP) that allows a class to inherit properties (attributes) and behaviors (methods) from another class. The class that inherits is called the derived class, subclass, or child class, while the class being inherited from is called the base class, superclass, or parent class.\n",
    "\n",
    "Inheritance promotes code reuse and establishes a hierarchical relationship between classes, where the derived class inherits and extends the functionalities of the base class. It allows for the creation of more specialized classes by inheriting common attributes and behaviors from a more general class.\n",
    "\n",
    "\n",
    "- <u>Single Inheritance:</u> Single inheritance occurs when a class inherits from only one base class. It forms a single parent-child relationship."
   ]
  },
  {
   "cell_type": "code",
   "execution_count": 4,
   "id": "3875fda0-e2fa-4b10-9a02-418de45ef079",
   "metadata": {},
   "outputs": [
    {
     "name": "stdout",
     "output_type": "stream",
     "text": [
      "bark\n"
     ]
    }
   ],
   "source": [
    "#Single Inheritance\n",
    "class Animal:\n",
    "    def make_sound(self):\n",
    "        print(self.sound)\n",
    "\n",
    "class Dog(Animal):\n",
    "    def __init__(self):\n",
    "        self.sound = 'bark'\n",
    "        \n",
    "\n",
    "dog = Dog()\n",
    "dog.make_sound()"
   ]
  },
  {
   "cell_type": "markdown",
   "id": "d85feb06-f3fa-487c-9d14-614e37738dbb",
   "metadata": {},
   "source": [
    "- <u>Multiple Inheritance:</u> Multiple inheritance occurs when a class inherits from more than one base class. It allows a derived class to inherit attributes and behaviors from multiple parent classes.\n"
   ]
  },
  {
   "cell_type": "code",
   "execution_count": 5,
   "id": "36d35db1-0500-4ed3-8bf9-414b6c4291db",
   "metadata": {},
   "outputs": [
    {
     "name": "stdout",
     "output_type": "stream",
     "text": [
      "I eat plants and I eat meat "
     ]
    }
   ],
   "source": [
    "class Herbivore:\n",
    "    def display_herbivore(self):\n",
    "        print('I eat plants',end=' ')\n",
    "\n",
    "class Carnivore:\n",
    "    def display_carnivore(self):\n",
    "        print('I eat meat',end=' ')\n",
    "\n",
    "class Omnivore(Herbivore,Carnivore):\n",
    "    def display(self):\n",
    "        self.display_herbivore()\n",
    "        print('and',end=' ')\n",
    "        self.display_carnivore()\n",
    "\n",
    "        \n",
    "bear = Omnivore()\n",
    "bear.display()"
   ]
  },
  {
   "cell_type": "markdown",
   "id": "c51a5bc9-169e-441d-b516-76abbf5184fc",
   "metadata": {},
   "source": [
    "- <u>Multilevel Inheritance:</u> Multilevel inheritance occurs when a derived class inherits from another derived class. It creates a parent-child-grandchild relationship."
   ]
  },
  {
   "cell_type": "code",
   "execution_count": 6,
   "id": "8ceedb3f-52bb-488a-bc98-674c9177cdf4",
   "metadata": {},
   "outputs": [
    {
     "name": "stdout",
     "output_type": "stream",
     "text": [
      "I am a mammal and I am a human and I am a man "
     ]
    }
   ],
   "source": [
    "class Mammal:\n",
    "    def display_mammal(self):\n",
    "        print('I am a mammal',end=' ')\n",
    "\n",
    "class Human(Mammal):\n",
    "    def display_human(self):\n",
    "        self.display_mammal()\n",
    "        print('and',end=' ')\n",
    "        print('I am a human',end=' ')\n",
    "\n",
    "class Man(Human):\n",
    "    def display_man(self):\n",
    "        self.display_human()\n",
    "        print('and',end=' ')\n",
    "        print('I am a man',end=' ')\n",
    "\n",
    "m = Man()\n",
    "m.display_man()"
   ]
  },
  {
   "cell_type": "markdown",
   "id": "30e39fdd-7219-4ea3-80b0-0fc167ad3600",
   "metadata": {},
   "source": [
    "- <u>Hierarchical Inheritance:</u> Hierarchical inheritance occurs when multiple derived classes inherit from a single base class. It forms a parent-child relationship with multiple child classes."
   ]
  },
  {
   "cell_type": "code",
   "execution_count": 16,
   "id": "0d53df03-7a6f-4b55-927d-d294c082591f",
   "metadata": {},
   "outputs": [
    {
     "name": "stdout",
     "output_type": "stream",
     "text": [
      "My parent is A\n",
      "My parent is also A\n"
     ]
    }
   ],
   "source": [
    "class Parent:\n",
    "    def display_name(self):\n",
    "        print('A')\n",
    "\n",
    "class Child1(Parent):\n",
    "    def display_parent(self):\n",
    "        print('My parent is',end=' ')\n",
    "        self.display_name()\n",
    "\n",
    "class Child2(Parent):\n",
    "    def display_parent(self):\n",
    "        print('My parent is also',end=' ')\n",
    "        self.display_name()\n",
    "\n",
    "\n",
    "\n",
    "c1 = Child1()\n",
    "c2 = Child2()\n",
    "\n",
    "c1.display_parent()\n",
    "c2.display_parent()\n",
    "        "
   ]
  },
  {
   "cell_type": "markdown",
   "id": "9204f6ae-d3c7-4e60-a0c4-c2a4faf2cee5",
   "metadata": {},
   "source": [
    "- <u>Hybrid Inheritance:</u> Hybrid inheritance is a combination of multiple inheritance and multilevel inheritance. It involves a class that inherits from multiple base classes, some of which are derived from other base classes."
   ]
  },
  {
   "cell_type": "code",
   "execution_count": 17,
   "id": "ac977cca-d3b6-4902-8739-6b386e320582",
   "metadata": {},
   "outputs": [
    {
     "name": "stdout",
     "output_type": "stream",
     "text": [
      "I am a mammal and I am a human and I am a man and I am a mammal and I am an animal "
     ]
    }
   ],
   "source": [
    "class Mammal:\n",
    "    def display_mammal(self):\n",
    "        print('I am a mammal',end=' ')\n",
    "\n",
    "class Human(Mammal):\n",
    "    def display_human(self):\n",
    "        self.display_mammal()\n",
    "        print('and',end=' ')\n",
    "        print('I am a human',end=' ')\n",
    "\n",
    "class Animal(Mammal):\n",
    "    def display_animal(self):\n",
    "        self.display_mammal()\n",
    "        print('and',end=' ')\n",
    "        print('I am an animal',end=' ')\n",
    "    \n",
    "\n",
    "class Man(Human,Animal):\n",
    "    def display_man(self):\n",
    "        self.display_human()\n",
    "        print('and',end=' ')\n",
    "        print('I am a man',end=' ')\n",
    "        print('and',end=' ')\n",
    "        self.display_animal()\n",
    "\n",
    "m = Man()\n",
    "m.display_man()"
   ]
  },
  {
   "cell_type": "code",
   "execution_count": null,
   "id": "3a602103-515d-4841-8ab2-3e9dafd6a24d",
   "metadata": {},
   "outputs": [],
   "source": []
  }
 ],
 "metadata": {
  "kernelspec": {
   "display_name": "Python 3 (ipykernel)",
   "language": "python",
   "name": "python3"
  },
  "language_info": {
   "codemirror_mode": {
    "name": "ipython",
    "version": 3
   },
   "file_extension": ".py",
   "mimetype": "text/x-python",
   "name": "python",
   "nbconvert_exporter": "python",
   "pygments_lexer": "ipython3",
   "version": "3.10.8"
  }
 },
 "nbformat": 4,
 "nbformat_minor": 5
}
