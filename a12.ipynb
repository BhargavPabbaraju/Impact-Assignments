{
 "cells": [
  {
   "cell_type": "markdown",
   "metadata": {},
   "source": [
    "# Q1. What is MongoDB? Explain non-relational databases in short. In which scenarios it is preferred to use MongoDB over SQL databases?\n",
    "\n",
    "MongoDB is a popular document-oriented NoSQL (non-relational) database that provides high scalability, flexibility, and performance for managing unstructured or semi-structured data. It stores data in flexible, JSON-like documents, allowing for dynamic and schema-less data structures.\n",
    "\n",
    "Non-relational databases, including MongoDB, differ from traditional SQL databases in several ways:\n",
    "\n",
    "1. Schema Flexibility: Non-relational databases allow for dynamic and flexible schemas, meaning that different documents within the same collection can have different structures. This flexibility is useful when dealing with rapidly changing data or when the data does not fit a fixed schema.\n",
    "\n",
    "2. Scalability: Non-relational databases are designed to scale horizontally, meaning they can handle large amounts of data and high traffic loads by distributing data across multiple servers. This scalability is crucial for modern applications that require handling large data volumes and high user concurrency.\n",
    "\n",
    "3. Performance: Non-relational databases are optimized for specific use cases and can offer high performance for specific operations, such as read-heavy or write-heavy workloads. They typically employ indexing and caching techniques to achieve fast data retrieval.\n",
    "\n",
    "MongoDB is preferred over SQL databases in scenarios where:\n",
    "\n",
    "1. Flexible Data Model: When dealing with data that doesn't have a fixed structure or requires frequent schema changes, MongoDB's flexible document model allows for easier and faster development and iteration.\n",
    "\n",
    "2. Scalability and High Throughput: MongoDB's ability to scale horizontally makes it suitable for applications that need to handle massive data growth and high traffic loads. It can distribute data across multiple servers, providing high availability and performance.\n",
    "\n",
    "3. Real-Time Analytics and Big Data: MongoDB's ability to handle unstructured or semi-structured data makes it well-suited for real-time analytics and big data processing. Its aggregation framework and support for map-reduce operations enable complex data analysis.\n",
    "\n",
    "4. Rapid Prototyping and Agile Development: MongoDB's flexible schema allows developers to quickly prototype and iterate on application features without the need for frequent database schema modifications.\n",
    "\n",
    "5. Use Cases with Geospatial Data: MongoDB provides extensive support for geospatial data and queries, making it an excellent choice for applications that require location-based services or spatial analysis.\n",
    "\n",
    "The choice between MongoDB and SQL databases depends on the specific requirements of the application and the nature of the data being stored. Both types of databases have their strengths and should be chosen based on the needs of the project."
   ]
  },
  {
   "cell_type": "markdown",
   "metadata": {},
   "source": [
    "# Q2. State and Explain the features of MongoDB.\n",
    "\n",
    "MongoDB, being a popular NoSQL database, offers several features that differentiate it from traditional SQL databases. The key features of MongoDB are:\n",
    "\n",
    "1. Document-Oriented: MongoDB stores data in a document-oriented format using BSON (Binary JSON) documents. Each document represents a single record and can have a flexible structure, allowing for easy representation of complex data hierarchies.\n",
    "\n",
    "2. Flexible Schema: MongoDB has a dynamic schema, which means that documents within a collection can have different structures. This flexibility allows for agile development, easy data evolution, and accommodates changing business requirements without the need for strict schema definitions.\n",
    "\n",
    "3. Scalability: MongoDB is designed to scale horizontally across multiple servers or clusters. It supports automatic sharding, where data is distributed across different machines, enabling seamless scaling as data volume and user concurrency increase.\n",
    "\n",
    "4. High Performance: MongoDB offers high-performance data operations due to its efficient indexing and query optimization techniques. It supports various types of indexes, including single-field, compound, geospatial, and text indexes, enabling fast data retrieval.\n",
    "\n",
    "5. Replication and High Availability: MongoDB provides built-in replication functionality, allowing for automatic data synchronization across multiple nodes. This ensures data redundancy, fault tolerance, and high availability in case of node failures.\n",
    "\n",
    "6. Aggregation Framework: MongoDB includes a powerful aggregation framework that enables advanced data processing and analysis. It supports operations such as filtering, grouping, sorting, joining, and mathematical computations, facilitating complex data transformations and analytics.\n",
    "\n",
    "7. Geospatial Capabilities: MongoDB has native support for geospatial data and offers geospatial indexes and queries. This makes it well-suited for location-based applications that require geospatial data processing and analysis.\n",
    "\n",
    "8. Flexible Deployment Options: MongoDB can be deployed in various configurations to meet specific needs. It can run on-premises, in the cloud, or in a hybrid environment. MongoDB Atlas, the fully managed database service, provides an easy way to deploy and manage MongoDB clusters in the cloud.\n",
    "\n",
    "9. Rich Query Language: MongoDB uses a flexible and expressive query language that supports a wide range of operations, including CRUD (Create, Read, Update, Delete) operations, complex filtering, sorting, and aggregation pipelines.\n",
    "\n",
    "10. Community and Ecosystem: MongoDB has a vibrant community and a rich ecosystem of tools and libraries that support application development and integration. This includes drivers for various programming languages, frameworks, and connectors to popular data processing and analytics platforms.\n",
    "\n",
    "These features make MongoDB a popular choice for modern applications that require flexibility, scalability, high performance, and efficient handling of unstructured or semi-structured data."
   ]
  },
  {
   "cell_type": "markdown",
   "metadata": {},
   "source": [
    "# Q3. Write a code to connect MongoDB to Python. Also, create a database and a collection in MongoDB."
   ]
  },
  {
   "cell_type": "code",
   "execution_count": 12,
   "metadata": {},
   "outputs": [],
   "source": [
    "import pymongo\n",
    "\n",
    "# Provide the mongodb localhost url to connect python to mongodb.\n",
    "client = pymongo.MongoClient(\"mongodb://localhost:27017/labDB\")\n",
    "\n",
    "# Database Name\n",
    "dataBase = client[\"db2\"]\n",
    "\n",
    "# Collection  Name\n",
    "collection = dataBase['Employees']\n"
   ]
  },
  {
   "cell_type": "markdown",
   "metadata": {},
   "source": [
    "# Q4. Using the database and the collection created in question number 3, write a code to insert one record, and insert many records. Use the find() and find_one() methods to print the inserted record"
   ]
  },
  {
   "cell_type": "code",
   "execution_count": 13,
   "metadata": {},
   "outputs": [
    {
     "name": "stdout",
     "output_type": "stream",
     "text": [
      "{'_id': ObjectId('648c7d2b9e2fa8b78cf1c56b'), 'id': 1, 'name': 'Bhargav', 'age': 23}\n",
      "\n",
      "{'_id': ObjectId('648c7d2b9e2fa8b78cf1c56b'), 'id': 1, 'name': 'Bhargav', 'age': 23}\n",
      "{'_id': ObjectId('648c7d2b9e2fa8b78cf1c56c'), 'id': 2, 'name': 'Amit', 'age': 26}\n",
      "{'_id': ObjectId('648c7d2b9e2fa8b78cf1c56d'), 'id': 3, 'name': 'Chaitra', 'age': 18}\n",
      "{'_id': ObjectId('648c7d2b9e2fa8b78cf1c56e'), 'id': 4, 'name': 'Danish', 'age': 24}\n",
      "{'_id': ObjectId('648c7d2b9e2fa8b78cf1c56f'), 'id': 5, 'name': 'Ekta', 'age': 27}\n",
      "{'_id': ObjectId('648c7d2b9e2fa8b78cf1c570'), 'id': 6, 'name': 'Farhan', 'age': 28}\n",
      "{'_id': ObjectId('648c7d2b9e2fa8b78cf1c571'), 'id': 7, 'name': 'Gouri', 'age': 17}\n",
      "{'_id': ObjectId('648c7d2b9e2fa8b78cf1c572'), 'id': 8, 'name': 'Hari', 'age': 29}\n"
     ]
    }
   ],
   "source": [
    "d = {'id': 1,\n",
    "     'name': 'Bhargav',\n",
    "     'age': 23}\n",
    "\n",
    "# Insert above records in the collection\n",
    "rec = collection.insert_one(d)\n",
    "\n",
    "print(collection.find_one())\n",
    "\n",
    "print()\n",
    "\n",
    "records = [\n",
    "    {'id': 2, 'name': 'Amit', 'age': 26},\n",
    "    {'id': 3, 'name': 'Chaitra', 'age': 18},\n",
    "    {'id': 4, 'name': 'Danish', 'age': 24},\n",
    "    {'id': 5, 'name': 'Ekta', 'age': 27},\n",
    "    {'id': 6, 'name': 'Farhan', 'age': 28},\n",
    "    {'id': 7, 'name': 'Gouri', 'age': 17},\n",
    "    {'id': 8, 'name': 'Hari', 'age': 29}\n",
    "]\n",
    "\n",
    "collection.insert_many(records)\n",
    "\n",
    "for rec in collection.find():\n",
    "    print(rec)"
   ]
  },
  {
   "cell_type": "markdown",
   "metadata": {},
   "source": [
    "# Q5. Explain how you can use the find() method to query the MongoDB database. Write a simple code to demonstrate this.\n",
    "The find() method in MongoDB is used to query and retrieve documents from a collection based on specified criteria. It allows you to filter and retrieve data that matches certain conditions."
   ]
  },
  {
   "cell_type": "code",
   "execution_count": 15,
   "metadata": {},
   "outputs": [
    {
     "name": "stdout",
     "output_type": "stream",
     "text": [
      "{'_id': ObjectId('648c7d2b9e2fa8b78cf1c56b'), 'id': 1, 'name': 'Bhargav', 'age': 23}\n"
     ]
    }
   ],
   "source": [
    "for r in collection.find({\"name\":'Bhargav'}):\n",
    "    print(r)"
   ]
  },
  {
   "cell_type": "markdown",
   "metadata": {},
   "source": [
    "# Q6. Explain the sort() method. Give an example to demonstrate sorting in MongoDB.\n",
    "\n",
    "The sort() method in MongoDB is used to sort the results of a query in either ascending or descending order based on one or more fields.\n",
    "\n",
    "The syntax of the sort() method is:  collection.find().sort(field, order)\n",
    "where,\n",
    "- field: Specifies the field based on which the sorting should be performed.\n",
    "- order: Specifies the order of sorting. It can be either 1 for ascending order or -1 for descending order.\n"
   ]
  },
  {
   "cell_type": "code",
   "execution_count": 16,
   "metadata": {},
   "outputs": [
    {
     "name": "stdout",
     "output_type": "stream",
     "text": [
      "{'_id': ObjectId('648c7d2b9e2fa8b78cf1c572'), 'id': 8, 'name': 'Hari', 'age': 29}\n",
      "{'_id': ObjectId('648c7d2b9e2fa8b78cf1c570'), 'id': 6, 'name': 'Farhan', 'age': 28}\n",
      "{'_id': ObjectId('648c7d2b9e2fa8b78cf1c56f'), 'id': 5, 'name': 'Ekta', 'age': 27}\n",
      "{'_id': ObjectId('648c7d2b9e2fa8b78cf1c56c'), 'id': 2, 'name': 'Amit', 'age': 26}\n",
      "{'_id': ObjectId('648c7d2b9e2fa8b78cf1c56e'), 'id': 4, 'name': 'Danish', 'age': 24}\n",
      "{'_id': ObjectId('648c7d2b9e2fa8b78cf1c56b'), 'id': 1, 'name': 'Bhargav', 'age': 23}\n",
      "{'_id': ObjectId('648c7d2b9e2fa8b78cf1c56d'), 'id': 3, 'name': 'Chaitra', 'age': 18}\n",
      "{'_id': ObjectId('648c7d2b9e2fa8b78cf1c571'), 'id': 7, 'name': 'Gouri', 'age': 17}\n"
     ]
    }
   ],
   "source": [
    "for r in collection.find().sort('age',-1):\n",
    "    print(r)"
   ]
  },
  {
   "cell_type": "markdown",
   "metadata": {},
   "source": [
    "# Q7. Explain why delete_one(), delete_many(), and drop() is used.\n",
    "\n",
    "In MongoDB, the methods delete_one(), delete_many(), and drop() are used for removing documents or collections from the database.\n",
    "\n",
    "1. delete_one(filter): This method is used to delete a single document that matches the specified filter criteria. It takes a filter parameter that defines the criteria for selecting the document to delete. If multiple documents match the filter, only the first document encountered will be deleted. If no document matches the filter, no action is taken.\n",
    "\n",
    "2. delete_many(filter): This method is used to delete multiple documents that match the specified filter criteria. It takes a filter parameter that defines the criteria for selecting the documents to delete. It deletes all the documents that match the filter.\n",
    "\n",
    "These methods are useful when you want to selectively remove specific documents from a collection based on certain criteria. For example, you may want to delete a single user document based on their unique identifier or delete all documents where a specific field meets a certain condition.\n",
    "\n",
    "3. drop(): This method is used to drop or delete an entire collection from the database. It removes all the documents and indexes associated with the collection, effectively deleting the entire collection. This operation is irreversible, and the collection cannot be recovered once it is dropped.\n",
    "\n",
    "The drop() method is typically used when you want to completely remove a collection and all its data from the database. It is useful in situations where you no longer need the collection or want to start fresh with a new collection structure.\n",
    "\n"
   ]
  },
  {
   "cell_type": "markdown",
   "metadata": {},
   "source": []
  }
 ],
 "metadata": {
  "kernelspec": {
   "display_name": "Python 3.8.10 64-bit",
   "language": "python",
   "name": "python3"
  },
  "language_info": {
   "codemirror_mode": {
    "name": "ipython",
    "version": 3
   },
   "file_extension": ".py",
   "mimetype": "text/x-python",
   "name": "python",
   "nbconvert_exporter": "python",
   "pygments_lexer": "ipython3",
   "version": "3.8.10"
  },
  "orig_nbformat": 4,
  "vscode": {
   "interpreter": {
    "hash": "e7370f93d1d0cde622a1f8e1c04877d8463912d04d973331ad4851f04de6915a"
   }
  }
 },
 "nbformat": 4,
 "nbformat_minor": 2
}
