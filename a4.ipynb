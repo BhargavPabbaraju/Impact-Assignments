{
 "cells": [
  {
   "cell_type": "markdown",
   "id": "65cdf14a-9c18-4e8b-a9e8-3b7153233013",
   "metadata": {},
   "source": [
    "# Q1. Create a python program to sort the given list of tuples based on integer value using a lambda function. [('Sachin Tendulkar', 34357), ('Ricky Ponting', 27483), ('Jack Kallis', 25534), ('Virat Kohli', 24936)]"
   ]
  },
  {
   "cell_type": "code",
   "execution_count": 2,
   "id": "aab14dd7-377a-451a-a39a-46ac779289dd",
   "metadata": {},
   "outputs": [
    {
     "name": "stdout",
     "output_type": "stream",
     "text": [
      "[('Virat Kohli', 24936), ('Jack Kallis', 25534), ('Ricky Ponting', 27483), ('Sachin Tendulkar', 34357)]\n"
     ]
    }
   ],
   "source": [
    "scores = [('Sachin Tendulkar', 34357), ('Ricky Ponting', 27483), ('Jack Kallis', 25534), ('Virat Kohli', 24936)]\n",
    "print(sorted(scores,key=lambda x:x[1]))"
   ]
  },
  {
   "cell_type": "markdown",
   "id": "cdd822a0-1801-4226-9d2c-81f4eadc925d",
   "metadata": {},
   "source": [
    "# Q2. Write a Python Program to find the squares of all the numbers in the given list of integers using lambda and map functions. [1, 2, 3, 4, 5, 6, 7, 8, 9, 10]"
   ]
  },
  {
   "cell_type": "code",
   "execution_count": 5,
   "id": "a9b99622-0b9a-4273-ab53-c05f861b527d",
   "metadata": {},
   "outputs": [
    {
     "name": "stdout",
     "output_type": "stream",
     "text": [
      "[1, 4, 9, 16, 25, 36, 49, 64, 81, 100]\n"
     ]
    }
   ],
   "source": [
    "print(list(map(lambda x:x**2,[1, 2, 3, 4, 5, 6, 7, 8, 9, 10])))"
   ]
  },
  {
   "cell_type": "markdown",
   "id": "6486a67d-ab98-4189-8c53-bd792e0be7c6",
   "metadata": {},
   "source": [
    "# Q3. Write a python program to convert the given list of integers into a tuple of strings. Use map and lambda functions \n",
    "\n",
    "Given Input: [1, 2, 3, 4, 5, 6, 7, 8, 9, 10]\n",
    "Expected output: ('1', '2', '3', '4', '5', '6', '7', '8', '9', '10')"
   ]
  },
  {
   "cell_type": "code",
   "execution_count": 7,
   "id": "646ceec3-8df0-4951-825f-4828b41f51d0",
   "metadata": {},
   "outputs": [
    {
     "name": "stdout",
     "output_type": "stream",
     "text": [
      "('1', '2', '3', '4', '5', '6', '7', '8', '9', '10')\n"
     ]
    }
   ],
   "source": [
    "print(tuple(map(lambda x:str(x),[1, 2, 3, 4, 5, 6, 7, 8, 9, 10])))"
   ]
  },
  {
   "cell_type": "markdown",
   "id": "90758921-23e9-48a5-912b-c01aba0a4b41",
   "metadata": {},
   "source": [
    "# Q4. Write a python program using reduce function to compute the product of a list containing numbers from 1 to 25."
   ]
  },
  {
   "cell_type": "code",
   "execution_count": 11,
   "id": "dfe7dcc7-c22f-4882-90c8-3565988f39ab",
   "metadata": {},
   "outputs": [
    {
     "name": "stdout",
     "output_type": "stream",
     "text": [
      "15511210043330985984000000\n"
     ]
    }
   ],
   "source": [
    "from functools import reduce\n",
    "\n",
    "print(reduce(lambda x,y:x*y, list(range(1,26))))"
   ]
  },
  {
   "cell_type": "markdown",
   "id": "067f389f-a6d8-4815-a1ae-7a60016d45d6",
   "metadata": {},
   "source": [
    "# Q5. Write a python program to filter the numbers in a given list that are divisible by 2 and 3 using the filter function.\n",
    "[2, 3, 6, 9, 27, 60, 90, 120, 55, 46]"
   ]
  },
  {
   "cell_type": "code",
   "execution_count": 13,
   "id": "406fdbc4-9fb0-4140-9738-90b2d0f425f6",
   "metadata": {},
   "outputs": [
    {
     "name": "stdout",
     "output_type": "stream",
     "text": [
      "[6, 60, 90, 120]\n"
     ]
    }
   ],
   "source": [
    "print(list(filter(lambda x:x%2==0 and x%3==0,[2, 3, 6, 9, 27, 60, 90, 120, 55, 46])))"
   ]
  },
  {
   "cell_type": "markdown",
   "id": "d29057ed-a4ff-423d-8a29-d4b0d542b4ba",
   "metadata": {},
   "source": [
    "# Q6. Write a python program to find palindromes in the given list of strings using lambda and filter function.\n",
    "['python', 'php', 'aba', 'radar', 'level']"
   ]
  },
  {
   "cell_type": "code",
   "execution_count": 14,
   "id": "495583e9-eea7-4e96-b59b-f4362d7d0b84",
   "metadata": {},
   "outputs": [
    {
     "name": "stdout",
     "output_type": "stream",
     "text": [
      "['php', 'aba', 'radar', 'level']\n"
     ]
    }
   ],
   "source": [
    "print(list(filter(lambda x:x==x[::-1],['python', 'php', 'aba', 'radar', 'level'])))"
   ]
  },
  {
   "cell_type": "code",
   "execution_count": null,
   "id": "ee8cd4de-a211-4800-bfc5-39f38b608bae",
   "metadata": {},
   "outputs": [],
   "source": []
  }
 ],
 "metadata": {
  "kernelspec": {
   "display_name": "Python 3 (ipykernel)",
   "language": "python",
   "name": "python3"
  },
  "language_info": {
   "codemirror_mode": {
    "name": "ipython",
    "version": 3
   },
   "file_extension": ".py",
   "mimetype": "text/x-python",
   "name": "python",
   "nbconvert_exporter": "python",
   "pygments_lexer": "ipython3",
   "version": "3.10.8"
  }
 },
 "nbformat": 4,
 "nbformat_minor": 5
}
