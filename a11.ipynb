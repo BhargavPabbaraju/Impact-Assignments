{
 "cells": [
  {
   "cell_type": "markdown",
   "metadata": {},
   "source": [
    "# Q1. What is a database? Differentiate between SQL and NoSQL databases.\n",
    "\n",
    "A database is an organized collection of data that is stored and managed in a structured manner to facilitate efficient data storage, retrieval, and manipulation. It provides a structured way to store and organize large amounts of information, allowing for efficient querying and analysis.\n",
    "\n",
    "SQL (Structured Query Language) and NoSQL (Not Only SQL) are two different types of database management systems that differ in their data models, querying languages, and underlying storage architectures.\n",
    "\n",
    "SQL Databases:\n",
    "- SQL databases are based on the relational data model, where data is organized into tables with predefined schemas and relationships between tables.\n",
    "- They use SQL as a standard language for defining and manipulating the data. SQL provides powerful capabilities for querying, updating, and managing relational data.\n",
    "- SQL databases enforce ACID (Atomicity, Consistency, Isolation, Durability) properties, ensuring data integrity and reliability.\n",
    "- They are well-suited for structured and tabular data, and commonly used in applications that require complex querying, data consistency, and transactional support.\n",
    "- Popular SQL databases include MySQL, PostgreSQL, Oracle, Microsoft SQL Server.\n",
    "\n",
    "NoSQL Databases:\n",
    "- NoSQL databases are designed to handle large-scale, unstructured, and semi-structured data. They provide flexible schemas and allow for dynamic and agile data models.\n",
    "- They employ various data models, including key-value stores, document databases, columnar databases, and graph databases. Each data model offers specific advantages depending on the nature of the data and the requirements of the application.\n",
    "- NoSQL databases often provide APIs or query languages specific to their data model. Some NoSQL databases may support SQL-like querying as well.\n",
    "- They are highly scalable and can handle massive amounts of data and high traffic loads. They are commonly used in web applications, real-time analytics, and distributed systems.\n",
    "- NoSQL databases may sacrifice some of the ACID properties in favor of scalability, availability, and performance.\n",
    "- Popular NoSQL databases include MongoDB, Cassandra, Redis, Couchbase.\n"
   ]
  },
  {
   "cell_type": "markdown",
   "metadata": {},
   "source": [
    "# Q2. What is DDL? Explain why CREATE, DROP, ALTER, and TRUNCATE are used with an example.\n",
    "DDL stands for Data Definition Language, which is a subset of SQL (Structured Query Language) used to define and manage the structure of a database. DDL statements are used to create, modify, and delete database objects such as tables, views, indexes, and constraints. Here are explanations and examples of four commonly used DDL statements:\n",
    "    \n",
    "    \n",
    "    "
   ]
  },
  {
   "cell_type": "markdown",
   "metadata": {},
   "source": [
    "- CREATE:\n",
    "    The CREATE statement is used to create new database objects, such as tables, views, or indexes. It defines the structure and properties of the object.\n"
   ]
  },
  {
   "cell_type": "code",
   "execution_count": 11,
   "metadata": {},
   "outputs": [],
   "source": [
    "mycursor.execute(\"CREATE TABLE if not exists db.employees (id INT,name VARCHAR(50),age INT);\")\n",
    "for x in mycursor:\n",
    "  print(x)"
   ]
  },
  {
   "cell_type": "markdown",
   "metadata": {},
   "source": [
    "- DROP:\n",
    "    The DROP statement is used to remove existing database objects from the database. It permanently deletes the object and all associated data. \n",
    "    "
   ]
  },
  {
   "cell_type": "code",
   "execution_count": 9,
   "metadata": {},
   "outputs": [],
   "source": [
    "mycursor.execute(\"DROP TABLE if exists db.employees;\")\n",
    "for x in mycursor:\n",
    "  print(x)"
   ]
  },
  {
   "cell_type": "markdown",
   "metadata": {},
   "source": [
    "- ALTER:\n",
    "    The ALTER statement is used to modify the structure of an existing database object, such as adding or removing columns, modifying column properties, or renaming the object. "
   ]
  },
  {
   "cell_type": "code",
   "execution_count": 12,
   "metadata": {},
   "outputs": [],
   "source": [
    "mycursor.execute(\"ALTER TABLE db.employees ADD COLUMN email VARCHAR(100);\")\n",
    "for x in mycursor:\n",
    "  print(x)"
   ]
  },
  {
   "cell_type": "markdown",
   "metadata": {},
   "source": [
    "- TRUNCATE:\n",
    "    The TRUNCATE statement is used to remove all data from a table while keeping the table structure intact. It is faster than using the DELETE statement to remove all rows, as it does not generate individual log entries for each deleted row. "
   ]
  },
  {
   "cell_type": "code",
   "execution_count": 13,
   "metadata": {},
   "outputs": [],
   "source": [
    "mycursor.execute(\"TRUNCATE TABLE db.employees;\")"
   ]
  },
  {
   "cell_type": "markdown",
   "metadata": {},
   "source": [
    "# Q3. What is DML? Explain INSERT, UPDATE, and DELETE with an example.\n",
    "\n",
    "DML stands for Data Manipulation Language, which is a subset of SQL (Structured Query Language) used to manipulate and retrieve data within a database. DML statements are used to insert, update, and delete data from database tables.\n",
    "\n",
    "- INSERT:\n",
    "    The INSERT statement is used to add new records or rows into a table. It specifies the table name and the values to be inserted into the corresponding columns. Here's an example of inserting a new record into a table named \"customers\" with columns for ID, name, and email:"
   ]
  },
  {
   "cell_type": "code",
   "execution_count": 35,
   "metadata": {},
   "outputs": [
    {
     "name": "stdout",
     "output_type": "stream",
     "text": [
      "(1, 'Bhargav', 23, 'bhargav@gmail.com')\n"
     ]
    }
   ],
   "source": [
    "mycursor.execute(\"INSERT INTO db.employees (id,name,age,email) VALUES(1,'Bhargav',23,'bhargav@gmail.com');\")\n",
    "mycursor.execute(\"SELECT * FROM db.employees;\")\n",
    "for x in mycursor:\n",
    "  print(x)"
   ]
  },
  {
   "cell_type": "markdown",
   "metadata": {},
   "source": [
    "- UPDATE:\n",
    "    The UPDATE statement is used to modify existing records in a table. It specifies the table name, the columns to be updated, and the new values. Additionally, it can include a WHERE clause to specify the condition for updating specific rows."
   ]
  },
  {
   "cell_type": "code",
   "execution_count": 36,
   "metadata": {},
   "outputs": [
    {
     "name": "stdout",
     "output_type": "stream",
     "text": [
      "(1, 'Bhargav', 24, 'bhargav@gmail.com')\n"
     ]
    }
   ],
   "source": [
    "mycursor.execute(\"UPDATE db.employees SET age=24 WHERE id=1;\")\n",
    "mycursor.execute(\"SELECT * FROM db.employees;\")\n",
    "for x in mycursor:\n",
    "  print(x)"
   ]
  },
  {
   "cell_type": "markdown",
   "metadata": {},
   "source": [
    "- DELETE:\n",
    "    The DELETE statement is used to remove one or more rows from a table based on specified conditions. It specifies the table name and can include a WHERE clause to specify the condition for deleting specific rows. "
   ]
  },
  {
   "cell_type": "code",
   "execution_count": 34,
   "metadata": {},
   "outputs": [],
   "source": [
    "mycursor.execute(\"DELETE FROM db.employees WHERE age<30;\")\n",
    "mycursor.execute(\"SELECT * FROM db.employees;\")\n",
    "for x in mycursor:\n",
    "  print(x)"
   ]
  },
  {
   "cell_type": "markdown",
   "metadata": {},
   "source": [
    "# Q4. What is DQL? Explain SELECT with an example.\n",
    "\n",
    "DQL stands for Data Query Language. It is a subset of SQL (Structured Query Language) that is used for querying and retrieving data from a database. DQL is primarily focused on selecting and retrieving data from database tables.\n",
    "\n",
    "SELECT is the most commonly used DQL command in SQL. It allows you to retrieve data from one or more tables based on specified criteria."
   ]
  },
  {
   "cell_type": "code",
   "execution_count": 32,
   "metadata": {},
   "outputs": [],
   "source": [
    "mycursor.execute(\"SELECT * FROM db.employees WHERE name LIKE 'b%';\")\n",
    "for x in mycursor:\n",
    "  print(x)"
   ]
  },
  {
   "cell_type": "markdown",
   "metadata": {},
   "source": [
    "# Q5. Explain Primary Key and Foreign Key.\n",
    "\n",
    "In the context of relational databases, a Primary Key and a Foreign Key are both important concepts related to establishing relationships between tables.\n",
    "\n",
    "1. Primary Key:\n",
    "A Primary Key is a column or a set of columns in a table that uniquely identifies each row in that table. It ensures the uniqueness and integrity of the data in the table. Each table can have only one Primary Key. Some key characteristics of a Primary Key are:\n",
    "\n",
    "- Uniqueness: Each value in the Primary Key column(s) must be unique, meaning no two rows can have the same value for the Primary Key.\n",
    "- Non-nullability: The Primary Key column(s) cannot contain null values, ensuring that each row is uniquely identifiable.\n",
    "- Indexing: Primary Keys are typically indexed, which provides fast access and efficient searching.\n",
    "\n",
    "For example, consider a table named \"Students\" with a column \"StudentID\" as the Primary Key. Each StudentID value in the table will be unique, and it will uniquely identify each student record.\n",
    "\n",
    "2. Foreign Key:\n",
    "A Foreign Key is a column or a set of columns in a table that refers to the Primary Key of another table. It establishes a link or relationship between two tables, allowing data integrity and enforcing referential integrity rules. Some key characteristics of a Foreign Key are:\n",
    "\n",
    "- Referential Integrity: A Foreign Key establishes a relationship between tables, ensuring that the values in the Foreign Key column(s) of one table correspond to the values in the Primary Key column(s) of another table.\n",
    "- Cascading Actions: Foreign Keys can define cascading actions such as \"ON DELETE\" and \"ON UPDATE\" to maintain data integrity when changes are made to the referenced Primary Key values.\n",
    "\n",
    "For example, consider a table named \"Orders\" with a column \"CustomerID\" as a Foreign Key. The \"CustomerID\" column in the \"Orders\" table refers to the \"CustomerID\" Primary Key column in the \"Customers\" table, establishing a relationship between the two tables based on the customers' IDs.\n"
   ]
  },
  {
   "cell_type": "markdown",
   "metadata": {},
   "source": [
    "# Q6. Write a python code to connect MySQL to python. Explain the cursor() and execute() method.\n",
    "\n",
    "- The cursor() method creates a cursor object that allows us to execute SQL queries and fetch results. It provides methods like execute(), fetchone(), fetchall(), etc., to interact with the database.\n",
    "\n",
    "- The execute() method is used to execute SQL queries. It takes the SQL query as a parameter and executes it on the database. The method can be used for queries like SELECT, INSERT, UPDATE, DELETE, etc. It can also take parameters in the form of a tuple or dictionary for parameterized queries.\n",
    "\n"
   ]
  },
  {
   "cell_type": "code",
   "execution_count": 38,
   "metadata": {},
   "outputs": [],
   "source": [
    "import mysql.connector\n",
    "# import mysql.connector\n",
    "#create user 'user'@'%' identified by 'password'\n",
    "mydb = mysql.connector.connect(\n",
    "  host=\"localhost\",\n",
    "  user=\"abc\",\n",
    "  password=\"password\"\n",
    ")\n",
    "mycursor = mydb.cursor()\n",
    "mycursor.execute(\"SELECT * FROM db.employees;\")\n",
    "for x in mycursor:\n",
    "  print(x)\n",
    "mycursor.close()\n",
    "mydb.close()"
   ]
  },
  {
   "cell_type": "markdown",
   "metadata": {},
   "source": [
    "# Q7. Give the order of execution of SQL clauses in an SQL query.\n",
    "\n",
    "The general order of execution of SQL clauses in an SQL query is as follows:\n",
    "\n",
    "1. FROM: Specifies the tables from which the data will be retrieved.\n",
    "\n",
    "2. JOIN: If the query involves joining multiple tables, the join conditions are evaluated.\n",
    "\n",
    "3. WHERE: Filters the rows based on the specified conditions.\n",
    "\n",
    "4. GROUP BY: Groups the rows based on one or more columns.\n",
    "\n",
    "5. HAVING: Filters the grouped rows based on the specified conditions.\n",
    "\n",
    "6. SELECT: Specifies the columns to be included in the result set.\n",
    "\n",
    "7. DISTINCT: Removes duplicate rows from the result set if specified.\n",
    "\n",
    "8. ORDER BY: Sorts the rows based on the specified column(s).\n",
    "\n",
    "9. LIMIT/OFFSET: Limits the number of rows returned or skips a certain number of rows.\n",
    "\n"
   ]
  },
  {
   "cell_type": "markdown",
   "metadata": {},
   "source": []
  }
 ],
 "metadata": {
  "kernelspec": {
   "display_name": "Python 3.8.10 64-bit",
   "language": "python",
   "name": "python3"
  },
  "language_info": {
   "codemirror_mode": {
    "name": "ipython",
    "version": 3
   },
   "file_extension": ".py",
   "mimetype": "text/x-python",
   "name": "python",
   "nbconvert_exporter": "python",
   "pygments_lexer": "ipython3",
   "version": "3.8.10"
  },
  "orig_nbformat": 4,
  "vscode": {
   "interpreter": {
    "hash": "e7370f93d1d0cde622a1f8e1c04877d8463912d04d973331ad4851f04de6915a"
   }
  }
 },
 "nbformat": 4,
 "nbformat_minor": 2
}
